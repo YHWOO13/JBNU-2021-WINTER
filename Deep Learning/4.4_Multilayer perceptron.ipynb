{
 "cells": [
  {
   "cell_type": "markdown",
   "metadata": {},
   "source": [
    "# 4.4 MLP - Stochastic Gradient Descent Method"
   ]
  },
  {
   "cell_type": "code",
   "execution_count": 1,
   "metadata": {},
   "outputs": [],
   "source": [
    "''' \n",
    " Author: Yoonhyuck WOO / JBNU_Industrial Information system Engineering\n",
    " Date; 3. 19. 2020 - 3. 23. 2021\n",
    " Title: Artificial Intelligence_Project 2\n",
    " Professor: Seung-Hoon Na'''\n",
    "  \n",
    "import numpy as np\n",
    "import random\n",
    "import matplotlib.pyplot as plt\n",
    "np.set_printoptions(precision=3)"
   ]
  },
  {
   "cell_type": "markdown",
   "metadata": {},
   "source": [
    "# mnist data"
   ]
  },
  {
   "cell_type": "code",
   "execution_count": 2,
   "metadata": {},
   "outputs": [],
   "source": [
    "from sklearn import datasets\n",
    "mnist = datasets.fetch_openml('mnist_784')"
   ]
  },
  {
   "cell_type": "code",
   "execution_count": 3,
   "metadata": {},
   "outputs": [
    {
     "data": {
      "text/plain": [
       "((70000, 784), (70000,))"
      ]
     },
     "execution_count": 3,
     "metadata": {},
     "output_type": "execute_result"
    }
   ],
   "source": [
    "(mnist.data.shape, mnist.target.shape)"
   ]
  },
  {
   "cell_type": "code",
   "execution_count": 4,
   "metadata": {},
   "outputs": [
    {
     "data": {
      "text/plain": [
       "array(['0', '1', '2', '3', '4', '5', '6', '7', '8', '9'], dtype=object)"
      ]
     },
     "execution_count": 4,
     "metadata": {},
     "output_type": "execute_result"
    }
   ],
   "source": [
    "np.unique(mnist.target)"
   ]
  },
  {
   "cell_type": "code",
   "execution_count": 5,
   "metadata": {},
   "outputs": [],
   "source": [
    "data=list(zip(mnist.data,mnist.target))\n",
    "data=np.array(data)"
   ]
  },
  {
   "cell_type": "code",
   "execution_count": 6,
   "metadata": {},
   "outputs": [],
   "source": [
    "train_idx=int(data.shape[0]*0.85)\n",
    "dev_idx=int(data.shape[0]*0.05)\n",
    "test_idx=int(data.shape[0]*0.1)\n",
    "\n",
    "train_data_set=data[0:train_idx,:]\n",
    "test_data_set=data[train_idx:train_idx+test_idx,:]\n",
    "dev_data_set=data[train_idx+test_idx:train_idx+test_idx+dev_idx,:]"
   ]
  },
  {
   "cell_type": "markdown",
   "metadata": {},
   "source": [
    "# Make relu class"
   ]
  },
  {
   "cell_type": "code",
   "execution_count": 7,
   "metadata": {},
   "outputs": [],
   "source": [
    "class relu():\n",
    "    def __init__(self):\n",
    "        self.mask = None\n",
    "        \n",
    "    def forward(self,x):\n",
    "        self.mask = (x <= 0)\n",
    "    \n",
    "        out = x.copy()\n",
    "        out[(x <= 0).any()] = 0\n",
    "        \n",
    "        return out\n",
    "    \n",
    "    def backward(self,mask, dout):\n",
    "        mask = (x <= 0)\n",
    "        dout[mask]= 0\n",
    "        \n",
    "        dx = dout\n",
    "        \n",
    "        return dx"
   ]
  },
  {
   "cell_type": "markdown",
   "metadata": {},
   "source": [
    "### MLP"
   ]
  },
  {
   "cell_type": "code",
   "execution_count": 8,
   "metadata": {},
   "outputs": [],
   "source": [
    "class MLP():\n",
    "    def __init__(self):\n",
    "        self.a = 0\n",
    "        \n",
    "    def forward(self,W, X, N, b):\n",
    "        #print('X')\n",
    "        #print(X)\n",
    "        \n",
    "        #print('W')\n",
    "        #print(W)\n",
    "        \n",
    "        #print('next_X')\n",
    "        #relu\n",
    "        self.a = np.dot(W,X) + b\n",
    "        \n",
    "        return self.a"
   ]
  },
  {
   "cell_type": "markdown",
   "metadata": {},
   "source": [
    "# Make softmax class"
   ]
  },
  {
   "cell_type": "code",
   "execution_count": 9,
   "metadata": {},
   "outputs": [],
   "source": [
    "class softmax():    \n",
    "    def __init__(self):\n",
    "        self.r = 0\n",
    "        \n",
    "    def forward(self,X,h,U,d):\n",
    "        self.r = np.dot(U, h)+d\n",
    "\n",
    "        #print('R')\n",
    "        #print(self.r)\n",
    "\n",
    "        delta = np.max(self.r)\n",
    "        \n",
    "        #print('delta')\n",
    "        #print(delta)\n",
    "        self.exp_o = np.exp(self.r-delta)\n",
    "        self.sum_exp_o = np.sum(self.exp_o)\n",
    "        \n",
    "        #print('\\nexp_o')\n",
    "        #print(self.exp_o)\n",
    "        \n",
    "        #print('\\nsum_exp_o')\n",
    "        #print(self.sum_exp_o)\n",
    "        \n",
    "        #print('\\nsoftmax')\n",
    "        self.softmax = self.exp_o / self.sum_exp_o\n",
    "        \n",
    "        return self.softmax"
   ]
  },
  {
   "cell_type": "code",
   "execution_count": 10,
   "metadata": {},
   "outputs": [],
   "source": [
    "# Make Cross_entropy class"
   ]
  },
  {
   "cell_type": "code",
   "execution_count": 11,
   "metadata": {},
   "outputs": [],
   "source": [
    "class CE():\n",
    "    def __init__(self):\n",
    "        self.result = 0\n",
    "        \n",
    "    def forward(self, y, softMAX):\n",
    "        # cross_entropy + 마이너스 무한대가 생기지 않도록 만듦\n",
    "        self.result = - np.sum(y * np.log(softMAX))\n",
    "        print('Loss')\n",
    "       \n",
    "        return self.result\n",
    "        \n",
    "    def backward(self, y, softMAX):\n",
    "        batch_size = y.shape[0]\n",
    "        dJdR = (softMAX-y) / batch_size\n",
    "        \n",
    "        #print('dx')\n",
    "        #print(dJdR)\n",
    "        \n",
    "        return dJdR"
   ]
  },
  {
   "cell_type": "markdown",
   "metadata": {},
   "source": [
    "# 4.4"
   ]
  },
  {
   "cell_type": "code",
   "execution_count": 12,
   "metadata": {},
   "outputs": [
    {
     "name": "stdin",
     "output_type": "stream",
     "text": [
      "Layer:  3\n"
     ]
    },
    {
     "name": "stdout",
     "output_type": "stream",
     "text": [
      "1 th Dimenson "
     ]
    },
    {
     "name": "stdin",
     "output_type": "stream",
     "text": [
      ": 3\n"
     ]
    },
    {
     "name": "stdout",
     "output_type": "stream",
     "text": [
      "2 th Dimenson "
     ]
    },
    {
     "name": "stdin",
     "output_type": "stream",
     "text": [
      ": 2\n"
     ]
    },
    {
     "name": "stdout",
     "output_type": "stream",
     "text": [
      "3 th Dimenson "
     ]
    },
    {
     "name": "stdin",
     "output_type": "stream",
     "text": [
      ": 3\n",
      "Minibatch size(10~500):  100\n",
      "epoch size:  3\n"
     ]
    },
    {
     "name": "stdout",
     "output_type": "stream",
     "text": [
      "************* 1 번차 epoch *************\n",
      "------------- 1 번째 layer-------------\n"
     ]
    },
    {
     "ename": "ValueError",
     "evalue": "The truth value of an array with more than one element is ambiguous. Use a.any() or a.all()",
     "output_type": "error",
     "traceback": [
      "\u001b[1;31m---------------------------------------------------------------------------\u001b[0m",
      "\u001b[1;31mValueError\u001b[0m                                Traceback (most recent call last)",
      "\u001b[1;32m<ipython-input-12-0c2fb633ea4a>\u001b[0m in \u001b[0;36m<module>\u001b[1;34m\u001b[0m\n\u001b[0;32m    176\u001b[0m                 \u001b[0mU\u001b[0m \u001b[1;33m=\u001b[0m \u001b[0mU\u001b[0m \u001b[1;33m-\u001b[0m \u001b[1;36m0.00001\u001b[0m \u001b[1;33m*\u001b[0m \u001b[0mdJdU\u001b[0m\u001b[1;33m\u001b[0m\u001b[1;33m\u001b[0m\u001b[0m\n\u001b[0;32m    177\u001b[0m                 \u001b[0md\u001b[0m \u001b[1;33m=\u001b[0m \u001b[0md\u001b[0m \u001b[1;33m-\u001b[0m \u001b[1;36m0.00001\u001b[0m \u001b[1;33m*\u001b[0m \u001b[0mdJdd\u001b[0m\u001b[1;33m\u001b[0m\u001b[1;33m\u001b[0m\u001b[0m\n\u001b[1;32m--> 178\u001b[1;33m \u001b[0mtrain_\u001b[0m \u001b[1;33m=\u001b[0m \u001b[0mlearning\u001b[0m\u001b[1;33m(\u001b[0m\u001b[0mtrain_data_set\u001b[0m\u001b[1;33m,\u001b[0m\u001b[0mtrain_idx\u001b[0m\u001b[1;33m,\u001b[0m\u001b[0mminibatch_size\u001b[0m\u001b[1;33m,\u001b[0m \u001b[0mepoch_size\u001b[0m\u001b[1;33m)\u001b[0m\u001b[1;33m\u001b[0m\u001b[1;33m\u001b[0m\u001b[0m\n\u001b[0m",
      "\u001b[1;32m<ipython-input-12-0c2fb633ea4a>\u001b[0m in \u001b[0;36mlearning\u001b[1;34m(data, idx, minibatch_size, epoch_size)\u001b[0m\n\u001b[0;32m     61\u001b[0m                         \u001b[1;31m#print(a)\u001b[0m\u001b[1;33m\u001b[0m\u001b[1;33m\u001b[0m\u001b[1;33m\u001b[0m\u001b[0m\n\u001b[0;32m     62\u001b[0m \u001b[1;33m\u001b[0m\u001b[0m\n\u001b[1;32m---> 63\u001b[1;33m                         \u001b[0mx\u001b[0m \u001b[1;33m=\u001b[0m \u001b[0mRelu\u001b[0m\u001b[1;33m.\u001b[0m\u001b[0mforward\u001b[0m\u001b[1;33m(\u001b[0m\u001b[0ma\u001b[0m\u001b[1;33m)\u001b[0m\u001b[1;33m\u001b[0m\u001b[1;33m\u001b[0m\u001b[0m\n\u001b[0m\u001b[0;32m     64\u001b[0m                         \u001b[0mparam_w\u001b[0m\u001b[1;33m.\u001b[0m\u001b[0mappend\u001b[0m\u001b[1;33m(\u001b[0m\u001b[0mW\u001b[0m\u001b[1;33m)\u001b[0m\u001b[1;33m\u001b[0m\u001b[1;33m\u001b[0m\u001b[0m\n\u001b[0;32m     65\u001b[0m                         \u001b[0mparam_b\u001b[0m\u001b[1;33m.\u001b[0m\u001b[0mappend\u001b[0m\u001b[1;33m(\u001b[0m\u001b[0mb\u001b[0m\u001b[1;33m)\u001b[0m\u001b[1;33m\u001b[0m\u001b[1;33m\u001b[0m\u001b[0m\n",
      "\u001b[1;32m<ipython-input-7-33c2ba05cb0f>\u001b[0m in \u001b[0;36mforward\u001b[1;34m(self, x)\u001b[0m\n\u001b[0;32m      7\u001b[0m \u001b[1;33m\u001b[0m\u001b[0m\n\u001b[0;32m      8\u001b[0m         \u001b[0mout\u001b[0m \u001b[1;33m=\u001b[0m \u001b[0mx\u001b[0m\u001b[1;33m.\u001b[0m\u001b[0mcopy\u001b[0m\u001b[1;33m(\u001b[0m\u001b[1;33m)\u001b[0m\u001b[1;33m\u001b[0m\u001b[1;33m\u001b[0m\u001b[0m\n\u001b[1;32m----> 9\u001b[1;33m         \u001b[0mout\u001b[0m\u001b[1;33m[\u001b[0m\u001b[1;33m(\u001b[0m\u001b[0mx\u001b[0m \u001b[1;33m<=\u001b[0m \u001b[1;36m0\u001b[0m\u001b[1;33m)\u001b[0m\u001b[1;33m.\u001b[0m\u001b[0many\u001b[0m\u001b[1;33m(\u001b[0m\u001b[1;33m)\u001b[0m\u001b[1;33m]\u001b[0m \u001b[1;33m=\u001b[0m \u001b[1;36m0\u001b[0m\u001b[1;33m\u001b[0m\u001b[1;33m\u001b[0m\u001b[0m\n\u001b[0m\u001b[0;32m     10\u001b[0m \u001b[1;33m\u001b[0m\u001b[0m\n\u001b[0;32m     11\u001b[0m         \u001b[1;32mreturn\u001b[0m \u001b[0mout\u001b[0m\u001b[1;33m\u001b[0m\u001b[1;33m\u001b[0m\u001b[0m\n",
      "\u001b[1;31mValueError\u001b[0m: The truth value of an array with more than one element is ambiguous. Use a.any() or a.all()"
     ]
    }
   ],
   "source": [
    "model = MLP()\n",
    "ce = CE()\n",
    "Relu = relu()\n",
    "SOFTMAX = softmax()\n",
    "\n",
    "layer=[]\n",
    "param_w = []\n",
    "param_b = []\n",
    "affine = []\n",
    "\n",
    "grad_w = []\n",
    "grad_b = []\n",
    "grad_affine = []\n",
    "\n",
    "\n",
    "L = int(input('Layer: '))\n",
    "\n",
    "for i in range(L):\n",
    "    print(i+1,'th Dimenson', end = ' ') \n",
    "    d=int(input(':'))\n",
    "    \n",
    "    layer.append(d)\n",
    "    \n",
    "length = len(layer)\n",
    "\n",
    "minibatch_size = int(input('Minibatch size(10~500): '))\n",
    "epoch_size = int(input('epoch size: '))\n",
    "\n",
    "X=data[:,0]\n",
    "number_minibatch= np.int(np.ceil(X.shape[0]/minibatch_size))\n",
    "\n",
    "\n",
    "def learning(data, idx, minibatch_size, epoch_size):\n",
    "    for e in range(1,epoch_size+1):\n",
    "        b = np.random.randint(-4,4,size=1)\n",
    "        d = np.random.randint(-4,4,size=1)\n",
    "        if (e==1):\n",
    "            print('*************',e,'번차 epoch *************')\n",
    "            data=np.random.permutation(data)\n",
    "            X_batch= data[:,0]\n",
    "            y_batch= data[:,1]\n",
    "            X_batch=np.reshape(X_batch,(idx,1))\n",
    "            y_batch=np.reshape(y_batch,(idx,1))\n",
    "\n",
    "            number_minibatch= np.int(np.ceil(X_batch.shape[0] / minibatch_size))\n",
    "\n",
    "        #    assert X_batch.shape[0] == y_batch.shape[0]\n",
    "        #    assert X_batch.shape[1] == weights['W'].shape[0]\n",
    "\n",
    "            for n in range(1, number_minibatch+1):\n",
    "                X_batch_temp=X_batch[minibatch_size*n-(minibatch_size-1)-1:minibatch_size*n]\n",
    "                y_temp=y_batch[minibatch_size*n-(minibatch_size-1)-1:minibatch_size*n]\n",
    "\n",
    "    ########################## MLP ########################## \n",
    "                for i in range(length):\n",
    "                    print('-------------',i+1,'번째 layer-------------')\n",
    "                    if (i == 0):\n",
    "                        x = X_batch_temp\n",
    "                        W = np. random.randint(-4,4,(layer[i],np.array(x).shape[0]))\n",
    "                        a = model.forward(W, x,layer[i],b)\n",
    "                        #print(a)\n",
    "\n",
    "                        x = Relu.forward(a)\n",
    "                        param_w.append(W)\n",
    "                        param_b.append(b)\n",
    "                        affine.append(a)\n",
    "                    else:\n",
    "                        W = np. random.randint(-4,4,(layer[i],np.array(x).shape[0]))\n",
    "                        a = model.forward(W, np.array(x),layer[i],b)\n",
    "                        Relu.forward(a)\n",
    "                        #print(a)\n",
    "\n",
    "                        param_w.append(W)\n",
    "                        param_b.append(b)\n",
    "                        affine.append(a)\n",
    "                        x = Relu.forward(a)\n",
    "\n",
    "                U = np. random.randint(-4,4,(X.shape[0], x.shape[0]))\n",
    "\n",
    "                o = SOFTMAX.forward(X,x,U,d) # softmax\n",
    "\n",
    "                print('J')\n",
    "                J = ce.forward(y_temp, o) # cross_Entropy\n",
    "                print(J)\n",
    "\n",
    "                ############# BACKWARD #############\n",
    "                dJdR = ce.backward(y_temp,o) #softmax & cross_Entropy loss\n",
    "                dJdU = np.dot(dJdR,np.transpose(x))\n",
    "                dJdh = np.dot(np.transpose(U), dJdR)\n",
    "                dJda = Relu.backward(affine[2],dJdh)\n",
    "\n",
    "                param_w.reverse()\n",
    "                affine.reverse()\n",
    "\n",
    "                affine.append(X)\n",
    "                for x in range(length):\n",
    "                    print('------------- from back',x+1,'번째 backpropagation-------------')\n",
    "                    if (x == 0):\n",
    "                        dJd_ = dJda\n",
    "                    else :\n",
    "                        dJd_ = np.dot(np.transpose(param_w[x-1]),dJd_)\n",
    "                    dJdw = np.dot(dJd_, np.transpose(affine[x+1]))\n",
    "                    dJdb = np.dot(dJd_, np.ones_like(model.b))\n",
    "\n",
    "                    #print('dJdw')\n",
    "                    #print(dJdw)\n",
    "                    grad_w.append(dJdw)\n",
    "                    grad_b.append(dJdb)\n",
    "\n",
    "                for key in range(length):\n",
    "                    param_w[key]=param_w[key]- 0.00001 * grad_w[key]\n",
    "                    param_b[b]=param_b[b]- 0.00001 * grad_w[b]\n",
    "                U = U - 0.00001 * dJdU\n",
    "                d = d - 0.00001 * dJdd\n",
    "\n",
    "        else:\n",
    "            for n in range(1, number_minibatch+1):\n",
    "                X_batch_temp=X_batch[minibatch_size*n-(minibatch_size-1)-1:minibatch_size*n]\n",
    "                y_temp=y_batch[minibatch_size*n-(minibatch_size-1)-1:minibatch_size*n]\n",
    "\n",
    "    ########################## MLP ########################## \n",
    "                for i in range(length):\n",
    "                    print('-------------',i+1,'번째 layer-------------')\n",
    "                    if (i == 0):\n",
    "                        x = X_batch_temp\n",
    "                        a = model.forward(param_w[n], np.array(x),layer[n],param_b[n])\n",
    "                        #print(a)\n",
    "\n",
    "                        x = Relu.forward(a)\n",
    "                        param_w.append(W)\n",
    "                        affine.append(a)\n",
    "                    else:\n",
    "                        a = model.forward(param_w[n], np.array(x),layer[n])\n",
    "                        Relu.forward(a)\n",
    "                        #print(a)\n",
    "\n",
    "                        param_w.append(W)\n",
    "                        affine.append(a)\n",
    "                        x = Relu.forward(a)\n",
    "\n",
    "                U = np. random.randint(-4,4,(X.shape[0], x.shape[0]))\n",
    "                o = SOFTMAX.forward(X,x,U,d) # softmax\n",
    "\n",
    "                print('J')\n",
    "                J = ce.forward(y_temp, o) # cross_Entropy\n",
    "                print(J)\n",
    "\n",
    "                ############# BACKWARD #############\n",
    "                dJdR = ce.backward(y_temp,o) #softmax & cross_Entropy loss\n",
    "                dJdU = np.dot(dJdR,np.transpose(x))\n",
    "                dJdh = np.dot(np.transpose(U), dJdR)\n",
    "                dJda = Relu.backward(affine[2],dJdh)\n",
    "\n",
    "                param_w.reverse()\n",
    "                param_b.reverse()\n",
    "                affine.reverse()\n",
    "\n",
    "                affine.append(X)\n",
    "                for x in range(length):\n",
    "                    print('------------- from back',x+1,'번째 backpropagation-------------')\n",
    "                    if (x == 0):\n",
    "                        dJd_ = dJda\n",
    "                    else :\n",
    "                        dJd_ = np.dot(np.transpose(param_w[x-1]),dJd_)\n",
    "                    dJdw = np.dot(dJd_, np.transpose(affine[x+1]))\n",
    "                    dJdb = np.dot(dJd_, np.ones_like(param_b[x]))\n",
    "\n",
    "                    #print('dJdw')\n",
    "                    #print(dJdw)\n",
    "                    grad_w.append(dJdw)\n",
    "                    grad_b.append(dJdb)\n",
    "\n",
    "                for key in range(length):\n",
    "                    param_w[key]=param_w[key]- 0.00001 * grad_w[key]\n",
    "                    param_b[b]=param_b[b]- 0.00001 * grad_w[b]\n",
    "                U = U - 0.00001 * dJdU\n",
    "                d = d - 0.00001 * dJdd\n",
    "train_ = learning(train_data_set,train_idx,minibatch_size, epoch_size)"
   ]
  },
  {
   "cell_type": "code",
   "execution_count": null,
   "metadata": {},
   "outputs": [],
   "source": []
  }
 ],
 "metadata": {
  "kernelspec": {
   "display_name": "Python 3",
   "language": "python",
   "name": "python3"
  },
  "language_info": {
   "codemirror_mode": {
    "name": "ipython",
    "version": 3
   },
   "file_extension": ".py",
   "mimetype": "text/x-python",
   "name": "python",
   "nbconvert_exporter": "python",
   "pygments_lexer": "ipython3",
   "version": "3.7.6"
  }
 },
 "nbformat": 4,
 "nbformat_minor": 4
}
