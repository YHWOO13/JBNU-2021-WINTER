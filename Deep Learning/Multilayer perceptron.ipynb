{
 "cells": [
  {
   "cell_type": "code",
   "execution_count": 1,
   "metadata": {},
   "outputs": [],
   "source": [
    "import numpy as np\n",
    "import random\n",
    "import matplotlib.pyplot as plt\n",
    "np.set_printoptions(precision=3)"
   ]
  },
  {
   "cell_type": "code",
   "execution_count": 2,
   "metadata": {},
   "outputs": [],
   "source": [
    "#relu랑 softmax 함수로 만들기\n",
    "class relu():\n",
    "    def __init__(self):\n",
    "        self.mask = None\n",
    "        \n",
    "    def forward(self,x):\n",
    "        self.mask = (x <=0)\n",
    "        out = x.copy()\n",
    "        out[self.mask] = 0\n",
    "        \n",
    "        return out\n",
    "    \n",
    "    def backward(self, dout):\n",
    "        dout[self.mask]= 0\n",
    "        \n",
    "        dx=dout\n",
    "        \n",
    "        return dx"
   ]
  },
  {
   "cell_type": "code",
   "execution_count": 39,
   "metadata": {},
   "outputs": [],
   "source": [
    "class MLP():\n",
    "    def __int__(self): \n",
    "        self.W = 0  \n",
    "        self.b = 0\n",
    "        \n",
    "        self.U = 0\n",
    "        self.d = 0\n",
    "        self.J = 0\n",
    "        self.h = 0\n",
    "        \n",
    "    def forward(self, X, N):\n",
    "        self.b = np.random.randint(-4,4,size=1)\n",
    "        self.W = np. random.randint(-4,4,(N,X.shape[0]))\n",
    "        \n",
    "        print('X')\n",
    "        print(X)\n",
    "        \n",
    "        print('W')\n",
    "        print(self.W)\n",
    "        \n",
    "        #relu\n",
    "        a = np.dot(self.W,X) + self.b\n",
    "        self.h = relu.forward(self,a)\n",
    "       \n",
    "        print('output')\n",
    "        return print(self.h)\n",
    "    \n",
    "    def backward(self,X,y):\n",
    "        dJdU = np.dot(cross_entropy.backward(self,y), np.transpose(self.h))\n",
    "        dJdd = cross_entropy.backward(self,y)*np.ones_like(cross_entropy.d) \n",
    "        dJdh = np.dot(np.transpose(cross_entropy.U), cross_entropy.backward(self,y)\n",
    "        dJdw = np.dot(relu.backward(self,dJdh), np.transpose(X))"
   ]
  },
  {
   "cell_type": "code",
   "execution_count": 3,
   "metadata": {},
   "outputs": [],
   "source": [
    "class softmax():\n",
    "    def __init__(self):\n",
    "        self.o = 0\n",
    "    def forward(self, U, h, d):\n",
    "        self.o = np.dot(U,h)+d\n",
    "        \n",
    "        return self.o"
   ]
  },
  {
   "cell_type": "code",
   "execution_count": 40,
   "metadata": {},
   "outputs": [
    {
     "data": {
      "text/plain": [
       "\"\\n# Layer, dimension\\n\\nlayer=[]\\nL=int(input('Layer: '))\\nfor i in range(L):\\n    print(i+1,'th Dimenson', end = ' ') \\n    d=int(input(':'))\\n    \\n    layer.append(d)\\n\\n    \\nlength = len(layer)\\nprint(length)\""
      ]
     },
     "execution_count": 40,
     "metadata": {},
     "output_type": "execute_result"
    }
   ],
   "source": [
    "'''\n",
    "# Layer, dimension\n",
    "\n",
    "layer=[]\n",
    "L=int(input('Layer: '))\n",
    "for i in range(L):\n",
    "    print(i+1,'th Dimenson', end = ' ') \n",
    "    d=int(input(':'))\n",
    "    \n",
    "    layer.append(d)\n",
    "\n",
    "    \n",
    "length = len(layer)\n",
    "print(length)'''"
   ]
  },
  {
   "cell_type": "code",
   "execution_count": 41,
   "metadata": {},
   "outputs": [
    {
     "name": "stdout",
     "output_type": "stream",
     "text": [
      "X\n",
      "[[1]\n",
      " [2]\n",
      " [3]\n",
      " [5]]\n",
      "W\n",
      "[[ 3  0  3 -2]\n",
      " [ 0  3 -2  1]]\n",
      "output\n",
      "[[4]\n",
      " [7]]\n"
     ]
    }
   ],
   "source": [
    "# 4.1\n",
    "model = MLP()\n",
    "a = [[1],[2],[3],[5]]\n",
    "a = np.array(a)\n",
    "y = [[1],[0],[0],[0]]\n",
    "y=np.array(y)\n",
    "\n",
    "model.forward(a,2)\n",
    "#model.backward(a,y)"
   ]
  },
  {
   "cell_type": "code",
   "execution_count": 46,
   "metadata": {},
   "outputs": [
    {
     "name": "stdin",
     "output_type": "stream",
     "text": [
      "Layer:  3\n"
     ]
    },
    {
     "name": "stdout",
     "output_type": "stream",
     "text": [
      "1 th Dimenson "
     ]
    },
    {
     "name": "stdin",
     "output_type": "stream",
     "text": [
      ": 3\n"
     ]
    },
    {
     "name": "stdout",
     "output_type": "stream",
     "text": [
      "2 th Dimenson "
     ]
    },
    {
     "name": "stdin",
     "output_type": "stream",
     "text": [
      ": 2\n"
     ]
    },
    {
     "name": "stdout",
     "output_type": "stream",
     "text": [
      "3 th Dimenson "
     ]
    },
    {
     "name": "stdin",
     "output_type": "stream",
     "text": [
      ": 3\n"
     ]
    },
    {
     "name": "stdout",
     "output_type": "stream",
     "text": [
      "------------- 1 번째 layer-------------\n",
      "X\n",
      "[[1]\n",
      " [2]\n",
      " [3]\n",
      " [5]]\n",
      "W\n",
      "[[-1 -2  0  1]\n",
      " [ 1 -4 -1  1]\n",
      " [ 3  0 -2 -3]]\n",
      "output\n",
      "[[0]\n",
      " [0]\n",
      " [0]]\n",
      "------------- 2 번째 layer-------------\n",
      "X\n",
      "[[0]\n",
      " [0]\n",
      " [0]]\n",
      "W\n",
      "[[ 3 -2 -4]\n",
      " [ 3 -3 -4]]\n",
      "output\n",
      "[[0]\n",
      " [0]]\n",
      "------------- 3 번째 layer-------------\n",
      "X\n",
      "[[0]\n",
      " [0]]\n",
      "W\n",
      "[[ 0  0]\n",
      " [ 0 -4]\n",
      " [ 2  1]]\n",
      "output\n",
      "[[0]\n",
      " [0]\n",
      " [0]]\n",
      "\n",
      "\n"
     ]
    },
    {
     "ename": "NameError",
     "evalue": "name 'U' is not defined",
     "output_type": "error",
     "traceback": [
      "\u001b[1;31m---------------------------------------------------------------------------\u001b[0m",
      "\u001b[1;31mNameError\u001b[0m                                 Traceback (most recent call last)",
      "\u001b[1;32m<ipython-input-46-831ca24d1c6d>\u001b[0m in \u001b[0;36m<module>\u001b[1;34m\u001b[0m\n\u001b[0;32m     31\u001b[0m \u001b[1;33m\u001b[0m\u001b[0m\n\u001b[0;32m     32\u001b[0m \u001b[0mprint\u001b[0m\u001b[1;33m(\u001b[0m\u001b[1;34m'\\n'\u001b[0m\u001b[1;33m)\u001b[0m\u001b[1;33m\u001b[0m\u001b[1;33m\u001b[0m\u001b[0m\n\u001b[1;32m---> 33\u001b[1;33m \u001b[0mcross_entropy\u001b[0m\u001b[1;33m.\u001b[0m\u001b[0mforward\u001b[0m\u001b[1;33m(\u001b[0m\u001b[0my\u001b[0m\u001b[1;33m,\u001b[0m\u001b[0mx\u001b[0m\u001b[1;33m)\u001b[0m\u001b[1;33m\u001b[0m\u001b[1;33m\u001b[0m\u001b[0m\n\u001b[0m",
      "\u001b[1;32m<ipython-input-4-645dbe5f5843>\u001b[0m in \u001b[0;36mforward\u001b[1;34m(self, o)\u001b[0m\n\u001b[0;32m      7\u001b[0m \u001b[1;33m\u001b[0m\u001b[0m\n\u001b[0;32m      8\u001b[0m     \u001b[1;32mdef\u001b[0m \u001b[0mforward\u001b[0m\u001b[1;33m(\u001b[0m\u001b[0mself\u001b[0m\u001b[1;33m,\u001b[0m\u001b[0mo\u001b[0m\u001b[1;33m)\u001b[0m\u001b[1;33m:\u001b[0m\u001b[1;33m\u001b[0m\u001b[1;33m\u001b[0m\u001b[0m\n\u001b[1;32m----> 9\u001b[1;33m         \u001b[0mo\u001b[0m \u001b[1;33m=\u001b[0m \u001b[0msoftmax\u001b[0m\u001b[1;33m.\u001b[0m\u001b[0mforward\u001b[0m\u001b[1;33m(\u001b[0m\u001b[0mself\u001b[0m\u001b[1;33m,\u001b[0m\u001b[0mU\u001b[0m\u001b[1;33m,\u001b[0m\u001b[0mh\u001b[0m\u001b[1;33m)\u001b[0m\u001b[1;33m\u001b[0m\u001b[1;33m\u001b[0m\u001b[0m\n\u001b[0m\u001b[0;32m     10\u001b[0m         \u001b[0mdelta\u001b[0m \u001b[1;33m=\u001b[0m \u001b[0mnp\u001b[0m\u001b[1;33m.\u001b[0m\u001b[0mmax\u001b[0m\u001b[1;33m(\u001b[0m\u001b[0mo\u001b[0m\u001b[1;33m)\u001b[0m\u001b[1;33m\u001b[0m\u001b[1;33m\u001b[0m\u001b[0m\n\u001b[0;32m     11\u001b[0m         \u001b[0mself\u001b[0m\u001b[1;33m.\u001b[0m\u001b[0mexp_o\u001b[0m\u001b[1;33m=\u001b[0m\u001b[0mnp\u001b[0m\u001b[1;33m.\u001b[0m\u001b[0mexp\u001b[0m\u001b[1;33m(\u001b[0m\u001b[0mo\u001b[0m\u001b[1;33m-\u001b[0m\u001b[0mdelta\u001b[0m\u001b[1;33m)\u001b[0m\u001b[1;33m\u001b[0m\u001b[1;33m\u001b[0m\u001b[0m\n",
      "\u001b[1;31mNameError\u001b[0m: name 'U' is not defined"
     ]
    }
   ],
   "source": [
    "### 4.2\n",
    "\n",
    "# Layer, dimension\n",
    "layer=[]\n",
    "L=int(input('Layer: '))\n",
    "\n",
    "for i in range(L):\n",
    "    print(i+1,'th Dimenson', end = ' ') \n",
    "    d=int(input(':'))\n",
    "    \n",
    "    layer.append(d)\n",
    "    \n",
    "length = len(layer)\n",
    "\n",
    "model = MLP()\n",
    "a = [[1],[2],[3],[5]]\n",
    "a = np.array(a)\n",
    "y = [[1],[0],[0],[0]]\n",
    "y=np.array(y)\n",
    "\n",
    "for i in range(length):\n",
    "    print('-------------',i+1,'번째 layer-------------')\n",
    "    if (i == 0):\n",
    "        x = a\n",
    "        model.forward(np.array(x),layer[i])\n",
    "        x = model.h\n",
    "\n",
    "    else:\n",
    "        model.forward(np.array(x),layer[i])\n",
    "        x = model.h\n",
    "\n",
    "print('\\n')\n",
    "cross_entropy.forward(y,x)"
   ]
  },
  {
   "cell_type": "code",
   "execution_count": 171,
   "metadata": {},
   "outputs": [
    {
     "name": "stdout",
     "output_type": "stream",
     "text": [
      "[[ 1  2]\n",
      " [-1  3]\n",
      " [ 3  3]]\n"
     ]
    },
    {
     "data": {
      "text/plain": [
       "array([[1, 2],\n",
       "       [0, 3],\n",
       "       [3, 3]])"
      ]
     },
     "execution_count": 171,
     "metadata": {},
     "output_type": "execute_result"
    }
   ],
   "source": [
    "a=np.array([[1,2],[-1,3],[3,3]])\n",
    "print(a)\n",
    "np.maximum(a,0)"
   ]
  },
  {
   "cell_type": "code",
   "execution_count": null,
   "metadata": {},
   "outputs": [],
   "source": []
  },
  {
   "cell_type": "code",
   "execution_count": null,
   "metadata": {},
   "outputs": [],
   "source": []
  }
 ],
 "metadata": {
  "kernelspec": {
   "display_name": "Python 3",
   "language": "python",
   "name": "python3"
  },
  "language_info": {
   "codemirror_mode": {
    "name": "ipython",
    "version": 3
   },
   "file_extension": ".py",
   "mimetype": "text/x-python",
   "name": "python",
   "nbconvert_exporter": "python",
   "pygments_lexer": "ipython3",
   "version": "3.7.6"
  }
 },
 "nbformat": 4,
 "nbformat_minor": 4
}
