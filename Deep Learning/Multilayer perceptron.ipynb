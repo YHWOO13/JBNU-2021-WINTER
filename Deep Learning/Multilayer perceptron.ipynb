{
 "cells": [
  {
   "cell_type": "code",
   "execution_count": 59,
   "metadata": {},
   "outputs": [],
   "source": [
    "import numpy as np\n",
    "import random\n",
    "import matplotlib.pyplot as plt"
   ]
  },
  {
   "cell_type": "code",
   "execution_count": 108,
   "metadata": {},
   "outputs": [],
   "source": [
    "class MLP():\n",
    "    def __int__(self):\n",
    "        self.L=0 # 은닉층 수\n",
    "        self.N=0 # 출력층 뉴런수\n",
    "        \n",
    "        self.W = 0  \n",
    "        self.b = 0\n",
    "        \n",
    "        self.U = 0\n",
    "        self.d = 0\n",
    "        self.J = 0\n",
    "        \n",
    "        self.exp_o=0\n",
    "        self.exp_sum_exp_o=0\n",
    "        \n",
    "        self.h = 0\n",
    "        self.softmax = 0\n",
    "    \n",
    "    def forward(self,X,y,L,N):\n",
    "        self.b = np.random.uniform(-1,1,size=1)\n",
    "        self.d = np.random.uniform(-1,1,size=1)\n",
    "        \n",
    "        self.W = np. random.randint(-1,1,(X.shape[1],N))\n",
    "        self.U = np. random.randint(-1,1,(N,1))\n",
    "        \n",
    "        print('self.W')\n",
    "        print(self.W)\n",
    "        print('self.U')\n",
    "        print(self.U)\n",
    "        \n",
    "        print('self.b')\n",
    "        print(self.b)\n",
    "        \n",
    "        print('self.d')\n",
    "        print(self.d)\n",
    "        \n",
    "        #ReLU\n",
    "        self.h = np.maximum((np.dot(X,self.W) + self.b),0)\n",
    "        print('np.dot(X,self.W) + self.b')\n",
    "        print((np.dot(X,self.W) + self.b))\n",
    "        print('self.h')\n",
    "        print(self.h)\n",
    "        \n",
    "        #softmax\n",
    "    \n",
    "        o=np.dot(self.h,self.U)+self.d\n",
    "        \n",
    "        print('self.d')\n",
    "        print(self.d)\n",
    "        \n",
    "        print('self.exp_o')\n",
    "        self.exp_o=np.exp(o)\n",
    "        print(self.exp_o)\n",
    "        print('self.sum_exp_o')\n",
    "        self.sum_exp_o=np.sum(self.exp_o)\n",
    "        print(self.sum_exp_o)\n",
    "        \n",
    "        self.softmax = self.exp_o / self.sum_exp_o\n",
    "        print('self.softmax')\n",
    "        print(self.softmax)\n",
    "        \n",
    "        #cross_entropy\n",
    "        delta = 1e-7 #마이너스 무한대가 생기지 않도록 만듦\n",
    "        \n",
    "        result=-np.sum(y*np.log(self.softmax + delta))\n",
    "        \n",
    "        def backward(self,X,y,L,N):"
   ]
  },
  {
   "cell_type": "code",
   "execution_count": 109,
   "metadata": {},
   "outputs": [
    {
     "name": "stdout",
     "output_type": "stream",
     "text": [
      "self.W\n",
      "[[-1 -1]\n",
      " [-1 -1]\n",
      " [ 0  0]]\n",
      "self.U\n",
      "[[-1]\n",
      " [-1]]\n",
      "self.b\n",
      "[-0.36329095]\n",
      "self.d\n",
      "[-0.68093997]\n",
      "np.dot(X,self.W) + self.b\n",
      "[[-3.36329095 -3.36329095]]\n",
      "self.h\n",
      "[[0. 0.]]\n",
      "self.d\n",
      "[-0.68093997]\n",
      "self.exp_o\n",
      "[[0.50614101]]\n",
      "self.sum_exp_o\n",
      "0.5061410125552126\n",
      "self.softmax\n",
      "[[1.]]\n"
     ]
    }
   ],
   "source": [
    "model = MLP()\n",
    "a = [[1,2,3]]\n",
    "a = np.array(a)\n",
    "y = [[1]]\n",
    "y=np.array(y)\n",
    "model.forward(a,y,1,2)"
   ]
  },
  {
   "cell_type": "code",
   "execution_count": 10,
   "metadata": {},
   "outputs": [
    {
     "name": "stdout",
     "output_type": "stream",
     "text": [
      "[[ 1 -3]\n",
      " [-1  3]\n",
      " [-3  3]]\n"
     ]
    },
    {
     "data": {
      "text/plain": [
       "array([[1, 0],\n",
       "       [0, 3],\n",
       "       [0, 3]])"
      ]
     },
     "execution_count": 10,
     "metadata": {},
     "output_type": "execute_result"
    }
   ],
   "source": [
    "a=np.array([[1,-3],[-1,3],[-3,3]])\n",
    "print(a)\n",
    "np.maximum(a,0)"
   ]
  },
  {
   "cell_type": "code",
   "execution_count": null,
   "metadata": {},
   "outputs": [],
   "source": []
  }
 ],
 "metadata": {
  "kernelspec": {
   "display_name": "Python 3",
   "language": "python",
   "name": "python3"
  },
  "language_info": {
   "codemirror_mode": {
    "name": "ipython",
    "version": 3
   },
   "file_extension": ".py",
   "mimetype": "text/x-python",
   "name": "python",
   "nbconvert_exporter": "python",
   "pygments_lexer": "ipython3",
   "version": "3.7.6"
  }
 },
 "nbformat": 4,
 "nbformat_minor": 4
}
