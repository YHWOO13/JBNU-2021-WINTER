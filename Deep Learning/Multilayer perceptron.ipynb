{
 "cells": [
  {
   "cell_type": "code",
   "execution_count": 18,
   "metadata": {},
   "outputs": [],
   "source": [
    "import numpy as np\n",
    "import random\n",
    "import matplotlib.pyplot as plt\n",
    "np.set_printoptions(precision=3)"
   ]
  },
  {
   "cell_type": "code",
   "execution_count": 164,
   "metadata": {},
   "outputs": [],
   "source": [
    "#relu랑 softmax 함수로 만들기\n",
    "class relu():\n",
    "    def __init__(self):\n",
    "        self.mask = None\n",
    "        \n",
    "    def forward(self,x):\n",
    "        self.mask = (x <=0)\n",
    "        out = x. copy()\n",
    "        out[self.mask] = 0\n",
    "        \n",
    "        return out\n",
    "    \n",
    "    def backward(self, dout):\n",
    "        dout[self.mask]= 0\n",
    "        \n",
    "        dx=dout\n",
    "        \n",
    "        return dx"
   ]
  },
  {
   "cell_type": "code",
   "execution_count": 165,
   "metadata": {},
   "outputs": [],
   "source": [
    "class softmax_with_loss():\n",
    "    def __init__(self):\n",
    "        self.exp_o=0\n",
    "        self.exp_sum_exp_o=0\n",
    "        self.softmax = 0\n",
    "        self.result = 0\n",
    "        \n",
    "    def forward(self,o):\n",
    "        delta = np.max(o)\n",
    "        self.exp_o=np.exp(o-delta)\n",
    "        self.sum_exp_o=np.sum(self.exp_o)\n",
    "        print('softmax')\n",
    "        self.softmax = self.exp_o / self.sum_exp_o\n",
    "        print(self.softmax)\n",
    "        \n",
    "        # cross_entropy\n",
    "        # 마이너스 무한대가 생기지 않도록 만듦\n",
    "        self.result= -np.sum(y*np.log(self.softmax))\n",
    "        print('Loss')\n",
    "        print(self.result)\n",
    "        \n",
    "        return self.result\n",
    "        \n",
    "    def backward(self,y):\n",
    "        batch_size = y.shape[0]\n",
    "        dx = (self.softmax-y) / batch_size\n",
    "        \n",
    "        return dx\n"
   ]
  },
  {
   "cell_type": "code",
   "execution_count": 168,
   "metadata": {},
   "outputs": [],
   "source": [
    "class MLP():\n",
    "    def __int__(self):\n",
    "        self.L=0 # 은닉층 수\n",
    "        self.N=0 # 출력층 뉴런수\n",
    "        #self.mask=0\n",
    "        \n",
    "        self.W = 0  \n",
    "        self.b = 0\n",
    "        \n",
    "        self.U = 0\n",
    "        self.d = 0\n",
    "        self.J = 0\n",
    "        \n",
    "        self.h = 0\n",
    "        \n",
    "    def forward(self,X,y,L,N):\n",
    "        self.b = np.random.randint(-4,4,size=1)\n",
    "        self.W = np. random.randint(-4,4,(N,X.shape[0]))\n",
    "        \n",
    "        print('X')\n",
    "        print(X)\n",
    "        \n",
    "        print('self.W')\n",
    "        print(self.W)\n",
    "     \n",
    "        print('self.b')\n",
    "        print(self.b)\n",
    "        \n",
    "        #ReLU\n",
    "        #self.h = np.maximum((np.dot(self.W,X) + self.b),0)\n",
    "        a=np.dot(self.W,X) + self.b\n",
    "        self.h = relu.forward(self,a)\n",
    "         \n",
    "        print('a')\n",
    "        print(a)\n",
    "        \n",
    "        print('self.h')\n",
    "        print(self.h)\n",
    "        \n",
    "        #softmax\n",
    "        self.U = np. random.randint(-4,4,(y.shape[0],self.h.shape[0]))\n",
    "        self.d = np.random.randint(-4,4,size=1)\n",
    "        \n",
    "        print('self.U')\n",
    "        print(self.U)\n",
    "        \n",
    "        o = np.dot(self.U,self.h)+self.d\n",
    "        print('o')\n",
    "        print(o)\n",
    "        softmax.forward(self,o)\n",
    "       \n",
    "    def backward(self,X,y,L,N):\n",
    "        dJdU = np.dot(softmax_with_loss.backward(self,y), np.transpose(self.h))\n",
    "        dJdd = softmax_with_loss.backward(self,y)*np.ones_like(self.d) \n",
    "        \n",
    "        dJdh = np.dot(np.transpose(self.U), softmax_with_loss.backward(self,y))\n",
    "        \n",
    "        print('dJdh')\n",
    "        print(dJdh)\n",
    "        dJdw = np.dot(relu.backward(self,dJdh), np.transpose(X))\n",
    "      \n",
    "        \n",
    "        print('dJdw')\n",
    "        print(dJdw)\n",
    "        \n",
    "        print('dJdD')\n",
    "        print(dJdd)\n",
    "        \n",
    "        print('dJdU')\n",
    "        print(dJdU)"
   ]
  },
  {
   "cell_type": "code",
   "execution_count": 173,
   "metadata": {},
   "outputs": [
    {
     "name": "stdout",
     "output_type": "stream",
     "text": [
      "X\n",
      "[[1]\n",
      " [2]\n",
      " [3]\n",
      " [5]]\n",
      "self.W\n",
      "[[-4 -4  3 -1]\n",
      " [-2  2  2  3]]\n",
      "self.b\n",
      "[-1]\n",
      "a\n",
      "[[-9]\n",
      " [22]]\n",
      "self.h\n",
      "[[ 0]\n",
      " [22]]\n",
      "self.U\n",
      "[[ 0  2]\n",
      " [ 2  1]\n",
      " [ 0 -2]\n",
      " [-3 -4]]\n",
      "o\n",
      "[[ 43]\n",
      " [ 21]\n",
      " [-45]\n",
      " [-89]]\n",
      "softmax\n",
      "[[1.000e+00]\n",
      " [2.789e-10]\n",
      " [6.055e-39]\n",
      " [4.711e-58]]\n",
      "dJdh\n",
      "[[ 1.395e-10]\n",
      " [-6.974e-11]]\n",
      "dJdw\n",
      "[[ 0.000e+00  0.000e+00  0.000e+00  0.000e+00]\n",
      " [-6.974e-11 -1.395e-10 -2.092e-10 -3.487e-10]]\n",
      "dJdD\n",
      "[[-6.974e-11]\n",
      " [ 6.974e-11]\n",
      " [ 1.514e-39]\n",
      " [ 1.178e-58]]\n",
      "dJdU\n",
      "[[-0.000e+00 -1.534e-09]\n",
      " [ 0.000e+00  1.534e-09]\n",
      " [ 0.000e+00  3.330e-38]\n",
      " [ 0.000e+00  2.591e-57]]\n"
     ]
    }
   ],
   "source": [
    "model = MLP()\n",
    "a = [[1],[2],[3],[5]]\n",
    "a = np.array(a)\n",
    "y = [[1],[0],[0],[0]]\n",
    "y=np.array(y)\n",
    "model.forward(a,y,1,2)\n",
    "model.backward(a,y,1,2)"
   ]
  },
  {
   "cell_type": "code",
   "execution_count": 171,
   "metadata": {},
   "outputs": [
    {
     "name": "stdout",
     "output_type": "stream",
     "text": [
      "[[ 1  2]\n",
      " [-1  3]\n",
      " [ 3  3]]\n"
     ]
    },
    {
     "data": {
      "text/plain": [
       "array([[1, 2],\n",
       "       [0, 3],\n",
       "       [3, 3]])"
      ]
     },
     "execution_count": 171,
     "metadata": {},
     "output_type": "execute_result"
    }
   ],
   "source": [
    "a=np.array([[1,2],[-1,3],[3,3]])\n",
    "print(a)\n",
    "np.maximum(a,0)"
   ]
  },
  {
   "cell_type": "code",
   "execution_count": null,
   "metadata": {},
   "outputs": [],
   "source": []
  },
  {
   "cell_type": "code",
   "execution_count": null,
   "metadata": {},
   "outputs": [],
   "source": []
  }
 ],
 "metadata": {
  "kernelspec": {
   "display_name": "Python 3",
   "language": "python",
   "name": "python3"
  },
  "language_info": {
   "codemirror_mode": {
    "name": "ipython",
    "version": 3
   },
   "file_extension": ".py",
   "mimetype": "text/x-python",
   "name": "python",
   "nbconvert_exporter": "python",
   "pygments_lexer": "ipython3",
   "version": "3.7.6"
  }
 },
 "nbformat": 4,
 "nbformat_minor": 4
}
