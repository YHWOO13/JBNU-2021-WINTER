{
 "cells": [
  {
   "cell_type": "code",
   "execution_count": null,
   "metadata": {},
   "outputs": [],
   "source": [
    "import numpy as np\n",
    "import random\n",
    "import matplotlib.pyplot as plt"
   ]
  },
  {
   "cell_type": "code",
   "execution_count": null,
   "metadata": {},
   "outputs": [],
   "source": [
    "class MLP():\n",
    "    def __int__(self):\n",
    "        self.W = \n",
    "        self.b = \n",
    "        self.U = \n",
    "        self.d = \n",
    "        self.J = 0\n",
    "        \n",
    "        self.exp_x=0\n",
    "        self.exp_sum_exp_x=0\n",
    "        \n",
    "        self.h = 0\n",
    "        self.softmax = 0\n",
    "    \n",
    "    def forward(X,y):\n",
    "        #ReLU\n",
    "        self.h = np.maximum(np.dot(X,self.W)+self.b,0)\n",
    "        \n",
    "        #softmax\n",
    "        o=np.dot(self.h,self.U)+self.d\n",
    "        self.exp_o=np.exp(o)\n",
    "        self.sum_exp_o=np.sum(self.exp_x)\n",
    "        \n",
    "        self.softmax = self.exp_0 / self.sum_exp_o\n",
    "        \n",
    "        \n",
    "        \n",
    "    \n",
    "    "
   ]
  }
 ],
 "metadata": {
  "kernelspec": {
   "display_name": "Python 3",
   "language": "python",
   "name": "python3"
  },
  "language_info": {
   "codemirror_mode": {
    "name": "ipython",
    "version": 3
   },
   "file_extension": ".py",
   "mimetype": "text/x-python",
   "name": "python",
   "nbconvert_exporter": "python",
   "pygments_lexer": "ipython3",
   "version": "3.7.6"
  }
 },
 "nbformat": 4,
 "nbformat_minor": 4
}
