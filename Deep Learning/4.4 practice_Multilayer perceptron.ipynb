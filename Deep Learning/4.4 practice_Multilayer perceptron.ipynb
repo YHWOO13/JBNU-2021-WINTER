{
 "cells": [
  {
   "cell_type": "markdown",
   "metadata": {},
   "source": [
    "# 4.4 MLP - Stochastic Gradient Descent Method"
   ]
  },
  {
   "cell_type": "code",
   "execution_count": 2,
   "metadata": {},
   "outputs": [],
   "source": [
    "''' \n",
    " Author: Yoonhyuck WOO / JBNU_Industrial Information system Engineering\n",
    " Date; 3. 19. 2020 - 3. 23. 2021\n",
    " Title: Artificial Intelligence_Project 2\n",
    " Professor: Seung-Hoon Na'''\n",
    "  \n",
    "import numpy as np\n",
    "import random\n",
    "import matplotlib.pyplot as plt\n",
    "np.set_printoptions(precision=3)"
   ]
  },
  {
   "cell_type": "markdown",
   "metadata": {},
   "source": [
    "# mnist data"
   ]
  },
  {
   "cell_type": "code",
   "execution_count": 3,
   "metadata": {},
   "outputs": [],
   "source": [
    "from sklearn import datasets\n",
    "mnist = datasets.fetch_openml('mnist_784')"
   ]
  },
  {
   "cell_type": "code",
   "execution_count": 4,
   "metadata": {},
   "outputs": [
    {
     "data": {
      "text/plain": [
       "((70000, 784), (70000,))"
      ]
     },
     "execution_count": 4,
     "metadata": {},
     "output_type": "execute_result"
    }
   ],
   "source": [
    "(mnist.data.shape, mnist.target.shape)"
   ]
  },
  {
   "cell_type": "code",
   "execution_count": 5,
   "metadata": {},
   "outputs": [
    {
     "data": {
      "text/plain": [
       "array(['0', '1', '2', '3', '4', '5', '6', '7', '8', '9'], dtype=object)"
      ]
     },
     "execution_count": 5,
     "metadata": {},
     "output_type": "execute_result"
    }
   ],
   "source": [
    "np.unique(mnist.target)"
   ]
  },
  {
   "cell_type": "code",
   "execution_count": 6,
   "metadata": {},
   "outputs": [
    {
     "name": "stdout",
     "output_type": "stream",
     "text": [
      "(70000,)\n"
     ]
    }
   ],
   "source": [
    "data=list(zip(mnist.data,mnist.target))\n",
    "#data=np.concatenate((mnist.data,mnist.target),axis=1)\n",
    "data=np.array(data)\n",
    "x=data[:,0]\n",
    "x=np.array(x)\n",
    "#y=data[:,1]\n",
    "print(x.shape)\n",
    "#print(y)"
   ]
  },
  {
   "cell_type": "code",
   "execution_count": 7,
   "metadata": {},
   "outputs": [],
   "source": [
    "from sklearn.preprocessing import OneHotEncoder\n",
    "encoder = OneHotEncoder(sparse=False)\n",
    "mnist.target = encoder.fit_transform(mnist.target.reshape(-1, 1))"
   ]
  },
  {
   "cell_type": "code",
   "execution_count": 8,
   "metadata": {},
   "outputs": [
    {
     "name": "stdout",
     "output_type": "stream",
     "text": [
      "(59500, 784)\n",
      "(59500, 10)\n",
      "(7000, 784)\n",
      "(7000, 10)\n",
      "(3500, 784)\n",
      "(3500, 10)\n"
     ]
    }
   ],
   "source": [
    "         \n",
    "train_idx=int(data.shape[0]*0.85)\n",
    "dev_idx=int(data.shape[0]*0.05)\n",
    "test_idx=int(data.shape[0]*0.1)\n",
    "\n",
    "data=np.array(mnist.data)\n",
    "target=np.array(mnist.target)\n",
    "\n",
    "train_x=data[0:train_idx,:]\n",
    "test_x=data[train_idx:train_idx+test_idx,:]\n",
    "dev_x=data[train_idx+test_idx:train_idx+test_idx+dev_idx,:]\n",
    "\n",
    "\n",
    "train_y=target[0:train_idx,:]\n",
    "test_y=target[train_idx:train_idx+test_idx,:]\n",
    "dev_y=target[train_idx+test_idx:train_idx+test_idx+dev_idx,:]\n",
    "\n",
    "print(train_x.shape)\n",
    "print(train_y.shape)\n",
    "print(test_x.shape)\n",
    "print(test_y.shape)\n",
    "print(dev_x.shape)\n",
    "print(dev_y.shape)"
   ]
  },
  {
   "cell_type": "code",
   "execution_count": 35,
   "metadata": {},
   "outputs": [],
   "source": [
    "combined = list(zip(train_x, train_y))\n",
    "np.random.shuffle(combined)\n",
    "train_x[:], train_y[:] = zip(*combined)"
   ]
  },
  {
   "cell_type": "markdown",
   "metadata": {},
   "source": [
    "# Make relu class"
   ]
  },
  {
   "cell_type": "code",
   "execution_count": 10,
   "metadata": {},
   "outputs": [],
   "source": [
    "class relu():\n",
    "    def __init__(self):\n",
    "        self.mask = None\n",
    "        \n",
    "    def forward(self,x):\n",
    "        self.mask = (x <= 0)\n",
    "        out = x.copy()\n",
    "        out[self.mask] = 0\n",
    "        \n",
    "        return out\n",
    "    \n",
    "    def backward(self, affine, dout):\n",
    "        mask = (affine<=0)\n",
    "        dout[mask]= 0\n",
    "        return dout"
   ]
  },
  {
   "cell_type": "markdown",
   "metadata": {},
   "source": [
    "### MLP"
   ]
  },
  {
   "cell_type": "code",
   "execution_count": 11,
   "metadata": {},
   "outputs": [],
   "source": [
    "class MLP():\n",
    "    def __init__(self):\n",
    "        self.a = 0\n",
    "        \n",
    "    def forward(self,W, X, b):\n",
    "        #print('X')\n",
    "        #print(X)\n",
    "        \n",
    "        #print('W')\n",
    "        #print(W)\n",
    "        \n",
    "        #print('next_X')\n",
    "        #relu\n",
    "        self.a = np.dot(X,W) + b\n",
    "        \n",
    "        return self.a"
   ]
  },
  {
   "cell_type": "markdown",
   "metadata": {},
   "source": [
    "# Make softmax class"
   ]
  },
  {
   "cell_type": "code",
   "execution_count": 12,
   "metadata": {},
   "outputs": [],
   "source": [
    "class softmax():    \n",
    "    def __init__(self):\n",
    "        self.r = 0\n",
    "        \n",
    "    def forward(self,h,U,d):\n",
    "        self.r = np.dot(U, h)+d\n",
    "\n",
    "        delta = np.max(self.r)\n",
    "\n",
    "        self.exp_o = np.exp(self.r-delta)\n",
    "        self.sum_exp_o = np.sum(self.exp_o)\n",
    "        self.softmax = self.exp_o / self.sum_exp_o\n",
    "        \n",
    "        return self.softmax"
   ]
  },
  {
   "cell_type": "markdown",
   "metadata": {},
   "source": [
    "# Make Cross_entropy class"
   ]
  },
  {
   "cell_type": "code",
   "execution_count": 16,
   "metadata": {},
   "outputs": [],
   "source": [
    "class CE():\n",
    "    def __init__(self):\n",
    "        self.result = 0\n",
    "        \n",
    "    def forward(self, y, softMAX):\n",
    "        # cross_entropy + 마이너스 무한대가 생기지 않도록 만듦\n",
    "        delta = 1e-7\n",
    "        self.result = - np.sum(y * np.log(softMAX+delta))\n",
    "        \n",
    "        return self.result\n",
    "        \n",
    "    def backward(self, y, softMAX):\n",
    "        batch_size = y.shape[0]\n",
    "        dJdR = (softMAX-y) / batch_size\n",
    "        return dJdR"
   ]
  },
  {
   "cell_type": "markdown",
   "metadata": {},
   "source": [
    "# 4.4"
   ]
  },
  {
   "cell_type": "code",
   "execution_count": 36,
   "metadata": {},
   "outputs": [
    {
     "name": "stdin",
     "output_type": "stream",
     "text": [
      "Layer:  4\n"
     ]
    },
    {
     "name": "stdout",
     "output_type": "stream",
     "text": [
      "1 th Dimenson "
     ]
    },
    {
     "name": "stdin",
     "output_type": "stream",
     "text": [
      ": 100\n"
     ]
    },
    {
     "name": "stdout",
     "output_type": "stream",
     "text": [
      "2 th Dimenson "
     ]
    },
    {
     "name": "stdin",
     "output_type": "stream",
     "text": [
      ": 50\n"
     ]
    },
    {
     "name": "stdout",
     "output_type": "stream",
     "text": [
      "3 th Dimenson "
     ]
    },
    {
     "name": "stdin",
     "output_type": "stream",
     "text": [
      ": 30\n"
     ]
    },
    {
     "name": "stdout",
     "output_type": "stream",
     "text": [
      "4 th Dimenson "
     ]
    },
    {
     "name": "stdin",
     "output_type": "stream",
     "text": [
      ": 20\n",
      "Minibatch size(10~500):  100\n",
      "epoch size:  5\n"
     ]
    },
    {
     "name": "stdout",
     "output_type": "stream",
     "text": [
      "************* 1 번차 epoch *************\n",
      "최종\n",
      "959026.6912320209\n",
      "************* 2 번차 epoch *************\n",
      "최종\n",
      "959026.6912320207\n",
      "************* 3 번차 epoch *************\n",
      "최종\n",
      "959026.691232021\n",
      "************* 4 번차 epoch *************\n",
      "최종\n",
      "958645.1841939418\n",
      "************* 5 번차 epoch *************\n",
      "최종\n",
      "959026.6912320209\n"
     ]
    }
   ],
   "source": [
    "model = MLP()\n",
    "ce = CE()\n",
    "Relu = relu()\n",
    "SOFTMAX = softmax()\n",
    "\n",
    "layer=[]\n",
    "param_w = []\n",
    "param_b = []\n",
    "affine = []\n",
    "\n",
    "grad_w = []\n",
    "grad_b = []\n",
    "grad_affine = []\n",
    "\n",
    "L = int(input('Layer: '))\n",
    "\n",
    "for i in range(L):\n",
    "    print(i+1,'th Dimenson', end = ' ') \n",
    "    d=int(input(':'))\n",
    "    \n",
    "    layer.append(d)\n",
    "    \n",
    "length = len(layer)\n",
    "\n",
    "minibatch_size = int(input('Minibatch size(10~500): '))\n",
    "epoch_size = int(input('epoch size: '))\n",
    "#iter_per_epoch= max(X[:].shape[0] / minibatch_size, 1)\n",
    "\n",
    "def learning(X,y, minibatch_size, epoch_size, learning_rate):\n",
    "    d = np. random.uniform(-10,10,10)\n",
    "    U = np. random.randint(-10,10,(layer[length-1],y.shape[1]))\n",
    "    for e in range(1,epoch_size+1):\n",
    "        print('*************',e,'번차 epoch *************')\n",
    "        \n",
    "        combined = list(zip(X, y))\n",
    "        np.random.shuffle(combined)\n",
    "        X[:], y[:] = zip(*combined)\n",
    "\n",
    "        number_minibatch= np.int(np.ceil(X.shape[0] / minibatch_size))\n",
    "        \n",
    "        for n in range(1, number_minibatch+1):\n",
    "            X_temp=X[minibatch_size*n-(minibatch_size-1)-1:minibatch_size*n]\n",
    "            X_temp=X_temp / 255\n",
    "            y_temp=y[minibatch_size*n-(minibatch_size-1)-1:minibatch_size*n]\n",
    "            \n",
    "            ########################## MLP ########################## \n",
    "            for i in range(length):\n",
    "                #print('-------------',i+1,'번째 layer-------------')\n",
    "                if (i == 0):\n",
    "                    x = X_temp\n",
    "                    W = np. random.uniform(-10,10,(784,layer[i]))\n",
    "                    b = np. random.uniform(-10,10,layer[i])\n",
    "                    a = model.forward(W, x, b)\n",
    "                    x = Relu.forward(a)\n",
    "                    \n",
    "                    param_w.append(W)\n",
    "                    param_b.append(b)\n",
    "                    affine.append(a)\n",
    "                else:\n",
    "                    W = np. random.uniform(-10,10,(np.array(x).shape[1],layer[i]))\n",
    "                    b = np. random.uniform(-10,10,layer[i])\n",
    "                    a = model.forward(W, x, b)\n",
    "                    Relu.forward(a)\n",
    "\n",
    "                    param_w.append(W)\n",
    "                    param_b.append(b)\n",
    "                    affine.append(a)\n",
    "                    \n",
    "                    x = Relu.forward(a)\n",
    "                    \n",
    "            o = SOFTMAX.forward(U,x,d) # softmax\n",
    "            J = ce.forward(y_temp, o) # cross_Entropy\n",
    "            \n",
    "            ############# BACKWARD #############\n",
    "            dJdR = ce.backward(y_temp,o) #softmax & cross_Entropy loss\n",
    "            dJdU = np.dot(np.transpose(x),dJdR)\n",
    "            dJd_ = np.dot(dJdR,np.transpose(U))\n",
    "            dJdd = np.ones_like(d)\n",
    "\n",
    "            param_w.reverse()\n",
    "            param_b.reverse()\n",
    "            affine.reverse()\n",
    "            affine.append(X_temp)\n",
    "\n",
    "            for x in range(length):\n",
    "                #print('------------- from back',x+1,'번째 backpropagation-------------')\n",
    "                if (x == 0):\n",
    "                    dJd_ = dJd_\n",
    "                else :\n",
    "                    dJd_ = np.dot(dJd_,np.transpose(param_w[x-1]))\n",
    "    \n",
    "                dJdw = np.dot(np.transpose(affine[x+1]),dJd_)\n",
    "                dJdb = np.ones_like(param_b[x])\n",
    "                grad_w.append(dJdw)\n",
    "                grad_b.append(dJdb)\n",
    "                \n",
    "            #print('------------- from back',length,'번째 backpropagation-------------')\n",
    "            dJd_ = np.dot(dJd_,np.transpose(param_w[length-1]))\n",
    "            dJdw = np.dot(np.transpose(X_temp),dJd_)\n",
    "            dJdb = np.ones_like(param_b[length-1])\n",
    "            grad_w.append(dJdw)\n",
    "            grad_b.append(dJdb)\n",
    "            \n",
    "            for key in range(length-1):\n",
    "                param_w[key]=param_w[key]- learning_rate * grad_w[key]\n",
    "                param_b[key]=param_b[key]- learning_rate * grad_b[key]\n",
    "            U = U - learning_rate * dJdU\n",
    "            d = d - learning_rate * dJdd\n",
    "            \n",
    "        param_w_temp=[]\n",
    "        param_b_temp=[]\n",
    "        for i in range(length):\n",
    "            param_w_temp.append(param_w[length-(i+1)])\n",
    "            param_b_temp.append(param_b[length-(i+1)])\n",
    "            \n",
    "        ### J출력 ###\n",
    "        for r in range(length):\n",
    "            if (r == 0):\n",
    "                x = X[:]\n",
    "                a = model.forward(param_w_temp[r], X, param_b_temp[r])\n",
    "                x = Relu.forward(a)\n",
    "            else:\n",
    "                a = model.forward(param_w_temp[r], x, param_b_temp[r])\n",
    "                x = Relu.forward(a)\n",
    "        o = SOFTMAX.forward(U,x,d) # softmax\n",
    "        J = ce.forward(y,o) # cross_Entropy\n",
    "        \n",
    "        print('최종')\n",
    "        print(J)\n",
    "train_ = learning(train_x, train_y, minibatch_size, epoch_size, 0.000001)"
   ]
  },
  {
   "cell_type": "code",
   "execution_count": null,
   "metadata": {},
   "outputs": [],
   "source": []
  }
 ],
 "metadata": {
  "kernelspec": {
   "display_name": "Python 3",
   "language": "python",
   "name": "python3"
  },
  "language_info": {
   "codemirror_mode": {
    "name": "ipython",
    "version": 3
   },
   "file_extension": ".py",
   "mimetype": "text/x-python",
   "name": "python",
   "nbconvert_exporter": "python",
   "pygments_lexer": "ipython3",
   "version": "3.7.6"
  }
 },
 "nbformat": 4,
 "nbformat_minor": 4
}
