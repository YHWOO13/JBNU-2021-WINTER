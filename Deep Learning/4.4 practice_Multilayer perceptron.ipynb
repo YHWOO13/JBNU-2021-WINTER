{
 "cells": [
  {
   "cell_type": "markdown",
   "metadata": {},
   "source": [
    "# 4.4 MLP - Stochastic Gradient Descent Method"
   ]
  },
  {
   "cell_type": "code",
   "execution_count": 18,
   "metadata": {},
   "outputs": [],
   "source": [
    "''' \n",
    " Author: Yoonhyuck WOO / JBNU_Industrial Information system Engineering\n",
    " Date; 3. 19. 2020 - \n",
    " Title: Artificial Intelligence_Project 2\n",
    " Professor: Seung-Hoon Na'''\n",
    "  \n",
    "import numpy as np\n",
    "import random\n",
    "import matplotlib.pyplot as plt"
   ]
  },
  {
   "cell_type": "markdown",
   "metadata": {},
   "source": [
    "# mnist data"
   ]
  },
  {
   "cell_type": "code",
   "execution_count": 3,
   "metadata": {},
   "outputs": [],
   "source": [
    "from sklearn import datasets\n",
    "mnist = datasets.fetch_openml('mnist_784')"
   ]
  },
  {
   "cell_type": "code",
   "execution_count": 4,
   "metadata": {},
   "outputs": [
    {
     "data": {
      "text/plain": [
       "((70000, 784), (70000,))"
      ]
     },
     "execution_count": 4,
     "metadata": {},
     "output_type": "execute_result"
    }
   ],
   "source": [
    "(mnist.data.shape, mnist.target.shape)"
   ]
  },
  {
   "cell_type": "code",
   "execution_count": 5,
   "metadata": {},
   "outputs": [
    {
     "data": {
      "text/plain": [
       "array(['0', '1', '2', '3', '4', '5', '6', '7', '8', '9'], dtype=object)"
      ]
     },
     "execution_count": 5,
     "metadata": {},
     "output_type": "execute_result"
    }
   ],
   "source": [
    "np.unique(mnist.target)"
   ]
  },
  {
   "cell_type": "code",
   "execution_count": 6,
   "metadata": {},
   "outputs": [
    {
     "name": "stdout",
     "output_type": "stream",
     "text": [
      "(70000,)\n"
     ]
    }
   ],
   "source": [
    "data=list(zip(mnist.data,mnist.target))\n",
    "#data=np.concatenate((mnist.data,mnist.target),axis=1)\n",
    "data=np.array(data)\n",
    "x=data[:,0]\n",
    "x=np.array(x)\n",
    "#y=data[:,1]\n",
    "print(x.shape)\n",
    "#print(y)"
   ]
  },
  {
   "cell_type": "code",
   "execution_count": 7,
   "metadata": {},
   "outputs": [],
   "source": [
    "from sklearn.preprocessing import OneHotEncoder\n",
    "encoder = OneHotEncoder(sparse=False)\n",
    "mnist.target = encoder.fit_transform(mnist.target.reshape(-1, 1))"
   ]
  },
  {
   "cell_type": "code",
   "execution_count": 8,
   "metadata": {},
   "outputs": [
    {
     "name": "stdout",
     "output_type": "stream",
     "text": [
      "(59500, 784)\n",
      "(59500, 10)\n",
      "(7000, 784)\n",
      "(7000, 10)\n",
      "(3500, 784)\n",
      "(3500, 10)\n"
     ]
    }
   ],
   "source": [
    "         \n",
    "train_idx=int(data.shape[0]*0.85)\n",
    "dev_idx=int(data.shape[0]*0.05)\n",
    "test_idx=int(data.shape[0]*0.1)\n",
    "\n",
    "data=np.array(mnist.data)\n",
    "target=np.array(mnist.target)\n",
    "\n",
    "train_x=data[0:train_idx,:]\n",
    "test_x=data[train_idx:train_idx+test_idx,:]\n",
    "dev_x=data[train_idx+test_idx:train_idx+test_idx+dev_idx,:]\n",
    "\n",
    "\n",
    "train_y=target[0:train_idx,:]\n",
    "test_y=target[train_idx:train_idx+test_idx,:]\n",
    "dev_y=target[train_idx+test_idx:train_idx+test_idx+dev_idx,:]\n",
    "\n",
    "print(train_x.shape)\n",
    "print(train_y.shape)\n",
    "print(test_x.shape)\n",
    "print(test_y.shape)\n",
    "print(dev_x.shape)\n",
    "print(dev_y.shape)"
   ]
  },
  {
   "cell_type": "code",
   "execution_count": 9,
   "metadata": {},
   "outputs": [],
   "source": [
    "combined = list(zip(train_x, train_y))\n",
    "np.random.shuffle(combined)\n",
    "train_x[:], train_y[:] = zip(*combined)"
   ]
  },
  {
   "cell_type": "markdown",
   "metadata": {},
   "source": [
    "# Make relu class"
   ]
  },
  {
   "cell_type": "code",
   "execution_count": 10,
   "metadata": {},
   "outputs": [],
   "source": [
    "class relu():\n",
    "    def __init__(self):\n",
    "        self.mask = None\n",
    "        \n",
    "    def forward(self,x):\n",
    "        self.mask = (x <= 0)\n",
    "        out = x.copy()\n",
    "        out[self.mask] = 0\n",
    "        \n",
    "        return out\n",
    "    \n",
    "    def backward(self, affine, dout):\n",
    "        mask = (affine<=0)\n",
    "        dout[mask]= 0\n",
    "        return dout"
   ]
  },
  {
   "cell_type": "markdown",
   "metadata": {},
   "source": [
    "### MLP"
   ]
  },
  {
   "cell_type": "code",
   "execution_count": 11,
   "metadata": {},
   "outputs": [],
   "source": [
    "class MLP():\n",
    "    def __init__(self):\n",
    "        self.a = 0\n",
    "        \n",
    "    def forward(self,W, X, b):\n",
    "        \n",
    "        self.a = np.dot(X,W) + b\n",
    "        \n",
    "        return self.a"
   ]
  },
  {
   "cell_type": "markdown",
   "metadata": {},
   "source": [
    "# Make softmax class"
   ]
  },
  {
   "cell_type": "code",
   "execution_count": 12,
   "metadata": {},
   "outputs": [],
   "source": [
    "class softmax():    \n",
    "    def __init__(self):\n",
    "        self.exp_o = 0\n",
    "        self.sum_exp_o = 0\n",
    "        self.delta = 0\n",
    "        \n",
    "    def forward(self,h):\n",
    "        self.delta = np.max(h)\n",
    "        \n",
    "        self.exp_o = np.exp(h - self.delta)\n",
    "        self.sum_exp_o = np.sum(self.exp_o)\n",
    "        self.softmax = self.exp_o / self.sum_exp_o\n",
    "        \n",
    "        return self.softmax"
   ]
  },
  {
   "cell_type": "markdown",
   "metadata": {},
   "source": [
    "# Make Cross_entropy class"
   ]
  },
  {
   "cell_type": "code",
   "execution_count": 13,
   "metadata": {},
   "outputs": [],
   "source": [
    "class CE():\n",
    "    def __init__(self):\n",
    "        self.result = 0\n",
    "        \n",
    "    def forward(self, softMAX, y):\n",
    "        # cross_entropy + 마이너스 무한대가 생기지 않도록 만듦\n",
    "        delta = 1e-7\n",
    "        \n",
    "        return - np.sum(y * np.log(softMAX + delta))\n",
    "        \n",
    "    def backward(self, y, softMAX):\n",
    "        batch_size = y.shape[0]\n",
    "        dJdR = (softMAX-y) / batch_size\n",
    "        return dJdR"
   ]
  },
  {
   "cell_type": "markdown",
   "metadata": {},
   "source": [
    "# 4.4"
   ]
  },
  {
   "cell_type": "code",
   "execution_count": 17,
   "metadata": {},
   "outputs": [
    {
     "name": "stdin",
     "output_type": "stream",
     "text": [
      "Layer:  3\n"
     ]
    },
    {
     "name": "stdout",
     "output_type": "stream",
     "text": [
      "1 th Dimenson "
     ]
    },
    {
     "name": "stdin",
     "output_type": "stream",
     "text": [
      ": 4\n"
     ]
    },
    {
     "name": "stdout",
     "output_type": "stream",
     "text": [
      "2 th Dimenson "
     ]
    },
    {
     "name": "stdin",
     "output_type": "stream",
     "text": [
      ": 3\n"
     ]
    },
    {
     "name": "stdout",
     "output_type": "stream",
     "text": [
      "3 th Dimenson "
     ]
    },
    {
     "name": "stdin",
     "output_type": "stream",
     "text": [
      ": 4\n",
      "Minibatch size(10~500):  100\n",
      "epoch size:  5\n"
     ]
    },
    {
     "name": "stdout",
     "output_type": "stream",
     "text": [
      "************* 1 번차 epoch *************\n",
      "최종\n",
      "958940.7332113304\n",
      "정확도\n",
      "0.11376470588235293\n",
      "************* 2 번차 epoch *************\n",
      "최종\n",
      "959026.691232021\n",
      "정확도\n",
      "0.11332773109243698\n",
      "************* 3 번차 epoch *************\n",
      "최종\n",
      "959026.6912320209\n",
      "정확도\n",
      "0.1166218487394958\n",
      "************* 4 번차 epoch *************\n",
      "최종\n",
      "959026.6912320205\n",
      "정확도\n",
      "0.11700840336134453\n",
      "************* 5 번차 epoch *************\n",
      "최종\n",
      "959026.6912320212\n",
      "정확도\n",
      "0.11704201680672269\n"
     ]
    }
   ],
   "source": [
    "model = MLP()\n",
    "ce = CE()\n",
    "Relu = relu()\n",
    "SOFTMAX = softmax()\n",
    "\n",
    "layer=[]\n",
    "param_w = []\n",
    "param_b = []\n",
    "affine = []\n",
    "\n",
    "grad_w = []\n",
    "grad_b = []\n",
    "grad_affine = []\n",
    "\n",
    "L = int(input('Layer: '))\n",
    "\n",
    "for i in range(L):\n",
    "    print(i+1,'th Dimenson', end = ' ') \n",
    "    d=int(input(':'))\n",
    "    \n",
    "    layer.append(d)\n",
    "    \n",
    "length = len(layer)\n",
    "\n",
    "for i in range(length):\n",
    "    param_w.append(0)\n",
    "    param_b.append(0)\n",
    "    grad_w.append(0)\n",
    "    grad_b.append(0)\n",
    "for i in range(length+1):\n",
    "    affine.append(0)\n",
    "    grad_affine.append(0)\n",
    "\n",
    "minibatch_size = int(input('Minibatch size(10~500): '))\n",
    "epoch_size = int(input('epoch size: '))\n",
    "#iter_per_epoch= max(X[:].shape[0] / minibatch_size, 1)\n",
    "\n",
    "acc_list = []\n",
    "test_acc_list = []\n",
    "\n",
    "def accuracy(x, t, J):\n",
    "    acc_y = np.argmax(J, axis=1)\n",
    "    if t.ndim !=1 : t = np.argmax(t,axis=1)\n",
    "        \n",
    "    accuracy = np.sum(acc_y == t) / float(x.shape[0])\n",
    "    \n",
    "    return accuracy\n",
    "\n",
    "def learning(X,y, minibatch_size, epoch_size, learning_rate):\n",
    "    d = np. random.randn(10)\n",
    "    U = np. random.randn(layer[length-1],y.shape[1])\n",
    "    for e in range(1,epoch_size+1):\n",
    "        print('*************',e,'번차 epoch *************')\n",
    "        \n",
    "        combined = list(zip(X, y))\n",
    "        np.random.shuffle(combined)\n",
    "        X[:], y[:] = zip(*combined)\n",
    "\n",
    "        number_minibatch= np.int(np.ceil(X.shape[0] / minibatch_size))\n",
    "        \n",
    "        for n in range(1, number_minibatch+1):\n",
    "            X_temp=X[minibatch_size*n-(minibatch_size-1)-1:minibatch_size*n]\n",
    "            X_temp = (X_temp / 255 * 0.99) + 0.01\n",
    "            y_temp=y[minibatch_size*n-(minibatch_size-1)-1:minibatch_size*n]\n",
    "            \n",
    "            ########################## MLP ########################## \n",
    "            for i in range(length):\n",
    "                #print('-------------',i+1,'번째 layer-------------')\n",
    "                if (i == 0):\n",
    "                    x = X_temp\n",
    "                    W = np. random.randn(784,layer[i])\n",
    "                    b = np. random.randn(layer[i])\n",
    "                    a = model.forward(W, x, b)\n",
    "                    x = Relu.forward(a)\n",
    "                    \n",
    "                    param_w[i] = W\n",
    "                    param_b[i] = b\n",
    "                    affine[i] = a\n",
    "                else:\n",
    "                    W = np. random.randn(np.array(x).shape[1],layer[i])\n",
    "                    b = np. random.randn(layer[i])\n",
    "                    a = model.forward(W, x, b)\n",
    "                    Relu.forward(a)\n",
    "\n",
    "                    param_w[i] = W\n",
    "                    param_b[i] = b\n",
    "                    affine[i] = a\n",
    "                    \n",
    "                    x = Relu.forward(a)\n",
    "                    \n",
    "            R = np.dot(x, U) + d\n",
    "            affine[length] = R\n",
    "            h  = Relu.forward(R)\n",
    "            o = SOFTMAX.forward(h) # softmax\n",
    "            J = ce.forward(o, y_temp) # cross_Entropy\n",
    "            \n",
    "            ############# BACKWARD #############\n",
    "            dJdh = ce.backward(y_temp,o) #softmax & cross_Entropy loss\n",
    "            dJdR = Relu.backward(affine[length],dJdh)\n",
    "            dJdU = np.dot(np.transpose(x),dJdR)\n",
    "            dJd_ = np.dot(dJdR,np.transpose(U))\n",
    "            dJdd = np.ones_like(d)\n",
    "\n",
    "            param_w.reverse()\n",
    "            param_b.reverse()\n",
    "            affine.reverse()\n",
    "            affine[length] = X_temp\n",
    "\n",
    "            for x in range(length):\n",
    "                #print('------------- from back',x+1,'번째 backpropagation-------------')\n",
    "                if (x != 0):\n",
    "                    dJd_ = Relu.backward(affine[x],dJd_)\n",
    "                    dJd_ = np.dot(dJd_,np.transpose(param_w[x-1]))\n",
    "    \n",
    "                dJdw = np.dot(np.transpose(affine[x+1]),dJd_)\n",
    "                dJdb = np.ones_like(param_b[x])\n",
    "                grad_w.append(dJdw)\n",
    "                grad_b.append(dJdb)\n",
    "                \n",
    "            #print('------------- from back',length,'번째 backpropagation-------------')\n",
    "            dJd_ = np.dot(dJd_,np.transpose(param_w[length-1]))\n",
    "            dJdw = np.dot(np.transpose(X_temp),dJd_)\n",
    "            dJdb = np.ones_like(param_b[length-1])\n",
    "            grad_w.append(dJdw)\n",
    "            grad_b.append(dJdb)\n",
    "            \n",
    "            for key in range(length-1):\n",
    "                param_w[key] = param_w[key]- learning_rate * grad_w[key]\n",
    "                param_b[key] = param_b[key]- learning_rate * grad_b[key]\n",
    "            U = U - learning_rate * dJdU\n",
    "            d = d - learning_rate * dJdd\n",
    "            \n",
    "        param_w.reverse()\n",
    "        param_b.reverse()\n",
    "\n",
    "        ### J출력 ###\n",
    "        for r in range(length):\n",
    "            if (r == 0):\n",
    "                #### 첫번째 layer ####\n",
    "                x = X[:]\n",
    "                a = model.forward(param_w[r], x, param_b[r])\n",
    "                x = Relu.forward(a)\n",
    "                #print(x)\n",
    "            else:\n",
    "                a = model.forward(param_w[r], x, param_b[r])\n",
    "                x = Relu.forward(a)\n",
    "                #print(x)        \n",
    "        \n",
    "        R = np.dot(x, U) + d\n",
    "        h  = Relu.forward(R)\n",
    "        o = SOFTMAX.forward(h) # softmax\n",
    "        J = ce.forward(o, y) # cross_Entropy\n",
    "        \n",
    "        acc = accuracy(X, y, o)\n",
    "        acc_list.append(acc)\n",
    "    \n",
    "        print('최종')\n",
    "        print(J)\n",
    "        print('정확도')\n",
    "        print(acc)\n",
    "train_ = learning(train_x, train_y, minibatch_size, epoch_size, 10)"
   ]
  },
  {
   "cell_type": "code",
   "execution_count": null,
   "metadata": {},
   "outputs": [],
   "source": []
  }
 ],
 "metadata": {
  "kernelspec": {
   "display_name": "Python 3",
   "language": "python",
   "name": "python3"
  },
  "language_info": {
   "codemirror_mode": {
    "name": "ipython",
    "version": 3
   },
   "file_extension": ".py",
   "mimetype": "text/x-python",
   "name": "python",
   "nbconvert_exporter": "python",
   "pygments_lexer": "ipython3",
   "version": "3.7.6"
  }
 },
 "nbformat": 4,
 "nbformat_minor": 4
}
