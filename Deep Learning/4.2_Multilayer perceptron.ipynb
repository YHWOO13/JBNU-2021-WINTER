{
 "cells": [
  {
   "cell_type": "code",
   "execution_count": 145,
   "metadata": {},
   "outputs": [],
   "source": [
    "import numpy as np\n",
    "import random\n",
    "import matplotlib.pyplot as plt\n",
    "np.set_printoptions(precision=3)"
   ]
  },
  {
   "cell_type": "markdown",
   "metadata": {},
   "source": [
    "# Make relu class"
   ]
  },
  {
   "cell_type": "code",
   "execution_count": 146,
   "metadata": {},
   "outputs": [],
   "source": [
    "class relu():\n",
    "    def __init__(self):\n",
    "        self.mask = None\n",
    "        \n",
    "    def forward(self,x):\n",
    "        self.mask = (x <=0)\n",
    "        out = x.copy()\n",
    "        out[self.mask] = 0\n",
    "        \n",
    "        return out\n",
    "    \n",
    "    def backward(self, dout):\n",
    "        dout[self.mask]= 0\n",
    "        \n",
    "        dx=dout\n",
    "        \n",
    "        return dx"
   ]
  },
  {
   "cell_type": "markdown",
   "metadata": {},
   "source": [
    "# Make softmax class"
   ]
  },
  {
   "cell_type": "code",
   "execution_count": 117,
   "metadata": {},
   "outputs": [],
   "source": [
    "class softmax():\n",
    "    def __init__(self):\n",
    "        self.o = 0\n",
    "        self.U = 0\n",
    "        self.d = 0\n",
    "        \n",
    "    def forward(self, X, h):\n",
    "        self.d = np.random.randint(-4,4,size=1)\n",
    "        self.U = np. random.randint(-4,4,(X.shape[0], h.shape[0]))\n",
    "        self.o = np.dot(self.U, h)+self.d\n",
    "        \n",
    "        print('U')\n",
    "        print(self.U)\n",
    "        \n",
    "        print('o')\n",
    "        print(self.o)\n",
    "        \n",
    "        return self.o"
   ]
  },
  {
   "cell_type": "markdown",
   "metadata": {},
   "source": [
    "# Make Softmax & cross_entropy class"
   ]
  },
  {
   "cell_type": "code",
   "execution_count": 158,
   "metadata": {},
   "outputs": [],
   "source": [
    "class SCE():\n",
    "    def __init__(self):\n",
    "        self.exp_o=0\n",
    "        self.exp_sum_exp_o=0\n",
    "        self.softmax = 0\n",
    "        self.result = 0\n",
    "        \n",
    "        self.o = 0\n",
    "        self.U = 0\n",
    "        self.d = 0\n",
    "        \n",
    "    def forward(self,X,h,y):\n",
    "        \n",
    "        #softmax\n",
    "        self.d = np.random.randint(-4,4,size=1)\n",
    "        self.U = np. random.randint(-4,4,(X.shape[0], h.shape[0]))\n",
    "        self.o = np.dot(self.U, h)+self.d\n",
    "        \n",
    "        print('U')\n",
    "        print(self.U)\n",
    "        \n",
    "        print('o')\n",
    "        print(self.o)\n",
    "        \n",
    "        #cross_entropy\n",
    "        delta = np.max(self.o)\n",
    "        \n",
    "        print('delta')\n",
    "        print(delta)\n",
    "        self.exp_o = np.exp(self.o-delta)\n",
    "        self.sum_exp_o = np.sum(self.exp_o)\n",
    "        \n",
    "        print('exp_o')\n",
    "        print(self.exp_o)\n",
    "        \n",
    "        print('sum_exp_o')\n",
    "        print(self.sum_exp_o)\n",
    "        \n",
    "        \n",
    "        print('softmax')\n",
    "        self.softmax = self.exp_o / self.sum_exp_o\n",
    "        print(self.softmax)\n",
    "        \n",
    "        # cross_entropy + 마이너스 무한대가 생기지 않도록 만듦\n",
    "        self.result= - np.sum(y * np.log(self.softmax))\n",
    "        print('Loss')\n",
    "       \n",
    "        return print(self.result)\n",
    "        \n",
    "    def backward(self,y):\n",
    "        batch_size = y.shape[0]\n",
    "        dx = (self.softmax-y) / batch_size\n",
    "        \n",
    "        return dx"
   ]
  },
  {
   "cell_type": "markdown",
   "metadata": {},
   "source": [
    "### MLP"
   ]
  },
  {
   "cell_type": "code",
   "execution_count": 159,
   "metadata": {},
   "outputs": [],
   "source": [
    "class MLP():\n",
    "    def __int__(self):\n",
    "        \n",
    "        self.W = 0  \n",
    "        self.b = 0\n",
    "        \n",
    "        self.U = 0\n",
    "        self.d = 0\n",
    "        self.J = 0\n",
    "        self.h = 0\n",
    "        \n",
    "    def forward(self, X, N):\n",
    "        self.b = np.random.randint(-4,4,size=1)\n",
    "        self.W = np. random.randint(-4,4,(N,X.shape[0]))\n",
    "        \n",
    "        print('X')\n",
    "        print(X)\n",
    "        \n",
    "        print('W')\n",
    "        print(self.W)\n",
    "        \n",
    "        #relu\n",
    "        a = np.dot(self.W,X) + self.b\n",
    "        self.h = relu.forward(self,a)\n",
    "       \n",
    "        print('output')\n",
    "        return print(self.h)\n",
    "    \n",
    "    def backward(self,X,y):\n",
    "        dJdU = np.dot(SCE.backward(self,y), np.transpose(self.h))\n",
    "        dJdd = SCE.backward(self,y)*np.ones_like(SCE.d) \n",
    "        dJdh = np.dot(np.transpose(SCE.U), SCE.backward(self,y))\n",
    "        dJdW = np.dot(relu.backward(self,dJdh), np.transpose(X))\n",
    "        \n",
    "        print('dJdU')\n",
    "        print(dJdU)\n",
    "        \n",
    "        print('dJdd')\n",
    "        print(dJdd)\n",
    "        \n",
    "        print('dJdh')\n",
    "        print(dJdh)\n",
    "        \n",
    "        print('dJdW')\n",
    "        print(dJdW)"
   ]
  },
  {
   "cell_type": "code",
   "execution_count": 160,
   "metadata": {},
   "outputs": [
    {
     "data": {
      "text/plain": [
       "\"\\n# Layer, dimension\\n\\nlayer=[]\\nL=int(input('Layer: '))\\nfor i in range(L):\\n    print(i+1,'th Dimenson', end = ' ') \\n    d=int(input(':'))\\n    \\n    layer.append(d)\\n\\n    \\nlength = len(layer)\\nprint(length)\""
      ]
     },
     "execution_count": 160,
     "metadata": {},
     "output_type": "execute_result"
    }
   ],
   "source": [
    "'''\n",
    "# Layer, dimension\n",
    "\n",
    "layer=[]\n",
    "L=int(input('Layer: '))\n",
    "for i in range(L):\n",
    "    print(i+1,'th Dimenson', end = ' ') \n",
    "    d=int(input(':'))\n",
    "    \n",
    "    layer.append(d)\n",
    "\n",
    "    \n",
    "length = len(layer)\n",
    "print(length)'''"
   ]
  },
  {
   "cell_type": "markdown",
   "metadata": {},
   "source": [
    "# 4.2"
   ]
  },
  {
   "cell_type": "code",
   "execution_count": 164,
   "metadata": {},
   "outputs": [
    {
     "name": "stdin",
     "output_type": "stream",
     "text": [
      "Layer:  3\n"
     ]
    },
    {
     "name": "stdout",
     "output_type": "stream",
     "text": [
      "1 th Dimenson "
     ]
    },
    {
     "name": "stdin",
     "output_type": "stream",
     "text": [
      ": 3\n"
     ]
    },
    {
     "name": "stdout",
     "output_type": "stream",
     "text": [
      "2 th Dimenson "
     ]
    },
    {
     "name": "stdin",
     "output_type": "stream",
     "text": [
      ": 2\n"
     ]
    },
    {
     "name": "stdout",
     "output_type": "stream",
     "text": [
      "3 th Dimenson "
     ]
    },
    {
     "name": "stdin",
     "output_type": "stream",
     "text": [
      ": 3\n"
     ]
    },
    {
     "name": "stdout",
     "output_type": "stream",
     "text": [
      "------------- 1 번째 layer-------------\n",
      "X\n",
      "[[1]\n",
      " [2]\n",
      " [3]\n",
      " [5]]\n",
      "W\n",
      "[[ 1  2  1  3]\n",
      " [ 2 -2  0  3]\n",
      " [ 1 -4  0 -3]]\n",
      "output\n",
      "[[21]\n",
      " [11]\n",
      " [ 0]]\n",
      "------------- 2 번째 layer-------------\n",
      "X\n",
      "[[21]\n",
      " [11]\n",
      " [ 0]]\n",
      "W\n",
      "[[-1  3 -2]\n",
      " [-2 -3 -4]]\n",
      "output\n",
      "[[15]\n",
      " [ 0]]\n",
      "------------- 3 번째 layer-------------\n",
      "X\n",
      "[[15]\n",
      " [ 0]]\n",
      "W\n",
      "[[ 0  0]\n",
      " [-4  1]\n",
      " [-2 -3]]\n",
      "output\n",
      "[[3]\n",
      " [0]\n",
      " [0]]\n",
      "\n",
      "\n",
      "x\n",
      "[[3]\n",
      " [0]\n",
      " [0]]\n",
      "U\n",
      "[[ 0 -1 -1]\n",
      " [ 1 -4 -2]\n",
      " [ 2  3  1]\n",
      " [ 3  1  2]]\n",
      "o\n",
      "[[0]\n",
      " [3]\n",
      " [6]\n",
      " [9]]\n",
      "delta\n",
      "9\n",
      "exp_o\n",
      "[[1.234e-04]\n",
      " [2.479e-03]\n",
      " [4.979e-02]\n",
      " [1.000e+00]]\n",
      "sum_exp_o\n",
      "1.052389230348617\n",
      "softmax\n",
      "[[1.173e-04]\n",
      " [2.355e-03]\n",
      " [4.731e-02]\n",
      " [9.502e-01]]\n",
      "Loss\n",
      "9.051063036711472\n"
     ]
    }
   ],
   "source": [
    "## Layer, dimension\n",
    "layer=[]\n",
    "L=int(input('Layer: '))\n",
    "\n",
    "for i in range(L):\n",
    "    print(i+1,'th Dimenson', end = ' ') \n",
    "    d=int(input(':'))\n",
    "    \n",
    "    layer.append(d)\n",
    "    \n",
    "length = len(layer)\n",
    "\n",
    "model_1 = MLP()\n",
    "#model_2 = softmax()\n",
    "model_3 = SCE()\n",
    "\n",
    "a = [[1],[2],[3],[5]]\n",
    "a = np.array(a)\n",
    "y = [[1],[0],[0],[0]]\n",
    "y=np.array(y)\n",
    "\n",
    "for i in range(length):\n",
    "    print('-------------',i+1,'번째 layer-------------')\n",
    "    if (i == 0):\n",
    "        x = a\n",
    "        model_1.forward(np.array(x),layer[i])\n",
    "        x = model_1.h\n",
    "\n",
    "    else:\n",
    "        model_1.forward(np.array(x),layer[i])\n",
    "        x = model_1.h\n",
    "\n",
    "print('\\n')\n",
    "print('x')\n",
    "print(x)\n",
    "\n",
    "#o = model_2.forward(a,x)\n",
    "model_3.forward(a,x,y)"
   ]
  },
  {
   "cell_type": "code",
   "execution_count": null,
   "metadata": {},
   "outputs": [],
   "source": []
  },
  {
   "cell_type": "code",
   "execution_count": null,
   "metadata": {},
   "outputs": [],
   "source": []
  },
  {
   "cell_type": "code",
   "execution_count": null,
   "metadata": {},
   "outputs": [],
   "source": []
  },
  {
   "cell_type": "code",
   "execution_count": 171,
   "metadata": {},
   "outputs": [
    {
     "name": "stdout",
     "output_type": "stream",
     "text": [
      "[[ 1  2]\n",
      " [-1  3]\n",
      " [ 3  3]]\n"
     ]
    },
    {
     "data": {
      "text/plain": [
       "array([[1, 2],\n",
       "       [0, 3],\n",
       "       [3, 3]])"
      ]
     },
     "execution_count": 171,
     "metadata": {},
     "output_type": "execute_result"
    }
   ],
   "source": [
    "a=np.array([[1,2],[-1,3],[3,3]])\n",
    "print(a)\n",
    "np.maximum(a,0)"
   ]
  },
  {
   "cell_type": "code",
   "execution_count": null,
   "metadata": {},
   "outputs": [],
   "source": []
  },
  {
   "cell_type": "code",
   "execution_count": null,
   "metadata": {},
   "outputs": [],
   "source": []
  }
 ],
 "metadata": {
  "kernelspec": {
   "display_name": "Python 3",
   "language": "python",
   "name": "python3"
  },
  "language_info": {
   "codemirror_mode": {
    "name": "ipython",
    "version": 3
   },
   "file_extension": ".py",
   "mimetype": "text/x-python",
   "name": "python",
   "nbconvert_exporter": "python",
   "pygments_lexer": "ipython3",
   "version": "3.7.6"
  }
 },
 "nbformat": 4,
 "nbformat_minor": 4
}
