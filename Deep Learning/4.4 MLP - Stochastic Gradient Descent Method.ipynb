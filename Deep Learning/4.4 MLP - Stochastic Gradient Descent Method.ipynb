{
 "cells": [
  {
   "cell_type": "markdown",
   "metadata": {},
   "source": [
    "# 4.4 MLP - Stochastic Gradient Descent Method"
   ]
  },
  {
   "cell_type": "code",
   "execution_count": 1,
   "metadata": {},
   "outputs": [],
   "source": [
    "''' \n",
    " Author: Yoonhyuck WOO / JBNU_Industrial Information system Engineering\n",
    " Date; 3. 19. 2021 - 5. 24. 2021\n",
    " Title: Artificial Intelligence_Project 2\n",
    " Professor: Seung-Hoon Na'''\n",
    "  \n",
    "import numpy as np\n",
    "import pandas as pd\n",
    "import random\n",
    "import matplotlib.pyplot as plt\n",
    "import sys, os\n",
    "sys.path.append(os.pardir)  # 부모 디렉터리의 파일을 가져올 수 있도록 설정\n",
    "from dataset.mnist import load_mnist"
   ]
  },
  {
   "cell_type": "markdown",
   "metadata": {},
   "source": [
    "# Load dataset"
   ]
  },
  {
   "cell_type": "code",
   "execution_count": 2,
   "metadata": {},
   "outputs": [],
   "source": [
    "(x_train, t_train), (x_test, t_test) = load_mnist(normalize = True, flatten = True, one_hot_label = True)"
   ]
  },
  {
   "cell_type": "code",
   "execution_count": 3,
   "metadata": {},
   "outputs": [
    {
     "name": "stdout",
     "output_type": "stream",
     "text": [
      "(60000, 784)\n",
      "(60000, 10)\n",
      "1.0\n"
     ]
    }
   ],
   "source": [
    "print(x_train.shape)\n",
    "print(t_train.shape)\n",
    "\n",
    "print(np.max(x_train[0]))"
   ]
  },
  {
   "cell_type": "code",
   "execution_count": 5,
   "metadata": {},
   "outputs": [
    {
     "name": "stdout",
     "output_type": "stream",
     "text": [
      "[0. 0. 0. 0. 0. 1. 0. 0. 0. 0.]\n"
     ]
    }
   ],
   "source": [
    "print(t_train[0])"
   ]
  },
  {
   "cell_type": "markdown",
   "metadata": {},
   "source": [
    "### ======================================"
   ]
  },
  {
   "cell_type": "markdown",
   "metadata": {},
   "source": [
    "### Layer"
   ]
  },
  {
   "cell_type": "code",
   "execution_count": 4,
   "metadata": {},
   "outputs": [],
   "source": [
    "class Layer():\n",
    "    def __init__(self,input_size,output_size):\n",
    "#         self.w = np.random.randn(input_size,output_size)\n",
    "#         self.b = np.random.randn(output_size)\n",
    "        \n",
    "        self.w = np. random.randn(input_size,output_size)\n",
    "        self.b = np.zeros(output_size)\n",
    "        self.dydw = None\n",
    "        self.dydb = 1 \n",
    "        \n",
    "    def forward(self,X):\n",
    "        self.dydw = X.T\n",
    "        affine = np.dot(X,self.w) + self.b\n",
    "        \n",
    "        return affine\n",
    "    \n",
    "    def backward(self,dLdy,lr):\n",
    "        dLdw = np.dot(self.dydw,dLdy)\n",
    "        dLdb = np.sum(np.dot(dLdy, self.dydb),axis=0)\n",
    "        \n",
    "        dLdx = np.dot(dLdy,np.transpose(self.w))\n",
    "       \n",
    "        self.w -= lr * dLdw\n",
    "        \n",
    "        self.b -= lr * dLdb\n",
    "        \n",
    "        return dLdx\n",
    "        "
   ]
  },
  {
   "cell_type": "markdown",
   "metadata": {},
   "source": [
    "# Make Relu class"
   ]
  },
  {
   "cell_type": "code",
   "execution_count": 5,
   "metadata": {},
   "outputs": [],
   "source": [
    "class Relu():\n",
    "    def __init__(self):\n",
    "        self.mask = None\n",
    "        \n",
    "    def forward(self,x):\n",
    "        self.mask = (x <= 0)\n",
    "        out = x.copy()\n",
    "        out[self.mask] = 0\n",
    "        \n",
    "        return out\n",
    "    \n",
    "    def backward(self, dout):\n",
    "#         print('dout',dout.shape)\n",
    "#         print('mask',self.mask.shape)\n",
    "        dout[self.mask]= 0\n",
    "        #dout * np.where(self.mask==True,1,0)\n",
    "        return dout * np.where(self.mask == True,1,0)"
   ]
  },
  {
   "cell_type": "markdown",
   "metadata": {},
   "source": [
    "## Model"
   ]
  },
  {
   "cell_type": "code",
   "execution_count": 6,
   "metadata": {},
   "outputs": [],
   "source": [
    "### 마지막\n",
    "class Model():\n",
    "    def __init__(self):\n",
    "        self.layers = []\n",
    "        #layer 설정\n",
    "        self.layer=[784]\n",
    "        L = int(input('Number of Hidden_Layer: '))\n",
    "        for i in range(L):\n",
    "        #     print(i+1,'th Dimenson', end = ' ') \n",
    "        #     print(end='')\n",
    "            d = int(input('Dimension:'))\n",
    "            self.layer.append(d)    \n",
    "        self.length = len(self.layer)\n",
    "       \n",
    "        for i in range(self.length-1):\n",
    "            self.layers.append(Layer(self.layer[i],self.layer[i+1]))\n",
    "            self.layers.append(Relu())\n",
    "        self.layers.append(Layer(self.layer[-1],10))\n",
    "    \n",
    "    def forward(self,put):\n",
    "        output = self.layers[0].forward(put)\n",
    "        for i in range(1,len(self.layers)):            \n",
    "            output = self.layers[i].forward(output)\n",
    "        return output\n",
    "    \n",
    "    def backward(self, dld_, lr):\n",
    "        for i in range(self.length-1,0,-1):\n",
    "            dld_ = self.layers[i*2].backward(dld_, lr)\n",
    "            dld_ = self.layers[i*2-1].backward(dld_)\n",
    "        dld_ = self.layers[0].backward(dld_,lr)\n",
    "\n",
    "        return dld_"
   ]
  },
  {
   "cell_type": "markdown",
   "metadata": {},
   "source": [
    "# Softmax - with - Loss"
   ]
  },
  {
   "cell_type": "code",
   "execution_count": 7,
   "metadata": {},
   "outputs": [],
   "source": [
    "class SoftmaxwithLoss:\n",
    "    def __init__(self):\n",
    "        self.loss = None\n",
    "        self.y = None\n",
    "        self.t = None\n",
    "        \n",
    "    def softmax(self,a):\n",
    "        c = np.max(a,axis=-1,keepdims=True)\n",
    "        exp_a = np.exp(a-c)\n",
    "        sum_exp_a = np.sum(exp_a,axis=-1,keepdims=True)\n",
    "        y = exp_a / sum_exp_a\n",
    "        \n",
    "        return y\n",
    "    \n",
    "    def cross_entropy_error(self,y,t):\n",
    "        delta = 1e-13\n",
    "        return -np.sum(t * np.log(y + delta)) / y.shape[0]\n",
    "    \n",
    "    def forward(self,x,t):\n",
    "        self.t = t\n",
    "        self.y = self.softmax(x)\n",
    "        self.loss = self.cross_entropy_error(self.y, self.t)\n",
    "        return self.loss\n",
    "    \n",
    "    def backward(self, dout=1):\n",
    "        batch_size = self.t.shape[0]\n",
    "        dx = (self.y - self.t) / batch_size\n",
    "        \n",
    "        return dx"
   ]
  },
  {
   "cell_type": "raw",
   "metadata": {},
   "source": [
    "a = np.array([[1,2,3,4],[5,6,7,8]])\n",
    "print(np.max(a,axis=-1,keepdims=True))\n",
    "\n",
    "sml = SoftmaxwithLoss()\n",
    "b = sml.softmax(a)\n",
    "print(b)\n",
    "print(np.sum(b))"
   ]
  },
  {
   "cell_type": "markdown",
   "metadata": {},
   "source": [
    "## learning"
   ]
  },
  {
   "cell_type": "code",
   "execution_count": 8,
   "metadata": {},
   "outputs": [],
   "source": [
    "def accuracy(pred, target):\n",
    "    pred = np.argmax(pred, axis=1)\n",
    "    if target.ndim != 1 :\n",
    "        target = np.argmax(target,axis=1)\n",
    "        \n",
    "    accuracy = np.sum(pred == target) / float(pred.shape[0])\n",
    "    \n",
    "    return accuracy\n",
    "\n",
    "def learning(model,loss_func,X,y, minibatch_size, epoch_size, learning_rate):\n",
    "    acc_list = []\n",
    "    \n",
    "    for e in range(1,epoch_size+1):\n",
    "        \n",
    "        combined = list(zip(X, y))\n",
    "        permut = np.random.permutation(combined)\n",
    "        X[:], y[:] = zip(*permut)\n",
    "        \n",
    "        number_minibatch= np.int(np.ceil(X.shape[0] / minibatch_size))\n",
    "        \n",
    "        for n in range(1, number_minibatch+1):\n",
    "\n",
    "            X_temp=X[minibatch_size * (n-1):minibatch_size*n]\n",
    "            y_temp=y[minibatch_size * (n-1):minibatch_size*n]\n",
    "            \n",
    "            c = model.forward(X_temp)\n",
    "            J = loss_func.forward(c,y_temp)\n",
    "        \n",
    "            dJdh = loss_func.backward()\n",
    "            model.backward(dJdh,learning_rate)\n",
    "\n",
    " \n",
    "        c = model.forward(X)\n",
    "        J = loss_func.forward(c,y)\n",
    "\n",
    "\n",
    "        acc = accuracy(c, y)\n",
    "\n",
    "        acc_list.append(acc)\n",
    "        if e % iter_per_epoch == 0:\n",
    "             print('*************',e,'th epoch *************')\n",
    "    #             print('최종')\n",
    "    #             print(J)\n",
    "             print('정확도')\n",
    "             print(acc)\n",
    "        \n",
    "    return acc_list"
   ]
  },
  {
   "cell_type": "markdown",
   "metadata": {},
   "source": [
    "# 4.4"
   ]
  },
  {
   "cell_type": "markdown",
   "metadata": {},
   "source": [
    "# Hidden layer:2"
   ]
  },
  {
   "cell_type": "code",
   "execution_count": 9,
   "metadata": {},
   "outputs": [
    {
     "name": "stdin",
     "output_type": "stream",
     "text": [
      "Number of Hidden_Layer:  2\n",
      "Dimension: 58\n",
      "Dimension: 33\n",
      "Epeoch_size: 130\n"
     ]
    },
    {
     "name": "stdout",
     "output_type": "stream",
     "text": [
      "************* 10 th epoch *************\n",
      "정확도\n",
      "0.34645\n",
      "************* 20 th epoch *************\n",
      "정확도\n",
      "0.4618333333333333\n",
      "************* 30 th epoch *************\n",
      "정확도\n",
      "0.4920833333333333\n",
      "************* 40 th epoch *************\n",
      "정확도\n",
      "0.5167666666666667\n",
      "************* 50 th epoch *************\n",
      "정확도\n",
      "0.5242666666666667\n",
      "************* 60 th epoch *************\n",
      "정확도\n",
      "0.5336333333333333\n",
      "************* 70 th epoch *************\n",
      "정확도\n",
      "0.5549666666666667\n",
      "************* 80 th epoch *************\n",
      "정확도\n",
      "0.5924666666666667\n",
      "************* 90 th epoch *************\n",
      "정확도\n",
      "0.59705\n",
      "************* 100 th epoch *************\n",
      "정확도\n",
      "0.6362333333333333\n",
      "************* 110 th epoch *************\n",
      "정확도\n",
      "0.6683666666666667\n",
      "************* 120 th epoch *************\n",
      "정확도\n",
      "0.6865833333333333\n",
      "************* 130 th epoch *************\n",
      "정확도\n",
      "0.70685\n",
      "************* 10 th epoch *************\n",
      "정확도\n",
      "0.5651\n",
      "************* 20 th epoch *************\n",
      "정확도\n",
      "0.5929\n",
      "************* 30 th epoch *************\n",
      "정확도\n",
      "0.6514\n",
      "************* 40 th epoch *************\n",
      "정확도\n",
      "0.7776\n",
      "************* 50 th epoch *************\n",
      "정확도\n",
      "0.7791\n",
      "************* 60 th epoch *************\n",
      "정확도\n",
      "0.8711\n",
      "************* 70 th epoch *************\n",
      "정확도\n",
      "0.8609\n",
      "************* 80 th epoch *************\n",
      "정확도\n",
      "0.8862\n",
      "************* 90 th epoch *************\n",
      "정확도\n",
      "0.9054\n",
      "************* 100 th epoch *************\n",
      "정확도\n",
      "0.9411\n",
      "************* 110 th epoch *************\n",
      "정확도\n",
      "0.9604\n",
      "************* 120 th epoch *************\n",
      "정확도\n",
      "0.9559\n",
      "************* 130 th epoch *************\n",
      "정확도\n",
      "0.9782\n"
     ]
    }
   ],
   "source": [
    "model2=Model()\n",
    "swl2 = SoftmaxwithLoss()\n",
    "\n",
    "minibatch_size = 100\n",
    "iter_per_epoch = 10\n",
    "\n",
    "\n",
    "epoch_size = int(input('Epeoch_size:'))\n",
    "train_result2 = learning(model2, swl2, x_train, t_train, minibatch_size, epoch_size, 0.0001)\n",
    "test_result2 = learning(model2, swl2, x_test, t_test, minibatch_size, epoch_size, 0.0001)\n",
    "layer2 = [np.max(train_result2),np.max(test_result2)]\n",
    "#learning(model, swl, x_train, t_train, minibatch_size, epoch_size, 0.0001)"
   ]
  },
  {
   "cell_type": "code",
   "execution_count": 10,
   "metadata": {},
   "outputs": [
    {
     "data": {
      "image/png": "[encoded data removed]",
      "text/plain": [
       "<Figure size 432x288 with 1 Axes>"
      ]
     },
     "metadata": {
      "needs_background": "light"
     },
     "output_type": "display_data"
    }
   ],
   "source": [
    "markers = {'train': 'o', 'test': 's'}\n",
    "x = np.arange(epoch_size)\n",
    "plt.plot(x, train_result2, label='train acc')\n",
    "plt.plot(x, test_result2, label='test acc', linestyle='--')\n",
    "plt.xlabel(\"epochs\")\n",
    "plt.ylabel(\"accuracy\")\n",
    "plt.ylim(0, 1.0)\n",
    "plt.legend(loc='lower right')\n",
    "plt.show()"
   ]
  },
  {
   "cell_type": "markdown",
   "metadata": {},
   "source": [
    "# Hidden layer:1"
   ]
  },
  {
   "cell_type": "code",
   "execution_count": 11,
   "metadata": {},
   "outputs": [
    {
     "name": "stdin",
     "output_type": "stream",
     "text": [
      "Number of Hidden_Layer:  1\n",
      "Dimension: 94\n",
      "Epeoch_size: 100\n"
     ]
    },
    {
     "name": "stdout",
     "output_type": "stream",
     "text": [
      "************* 10 th epoch *************\n",
      "정확도\n",
      "0.9919833333333333\n",
      "************* 20 th epoch *************\n",
      "정확도\n",
      "0.9983166666666666\n",
      "************* 30 th epoch *************\n",
      "정확도\n",
      "0.9986\n",
      "************* 40 th epoch *************\n",
      "정확도\n",
      "1.0\n",
      "************* 50 th epoch *************\n",
      "정확도\n",
      "1.0\n",
      "************* 60 th epoch *************\n",
      "정확도\n",
      "1.0\n",
      "************* 70 th epoch *************\n",
      "정확도\n",
      "1.0\n",
      "************* 80 th epoch *************\n",
      "정확도\n",
      "1.0\n",
      "************* 90 th epoch *************\n",
      "정확도\n",
      "1.0\n",
      "************* 100 th epoch *************\n",
      "정확도\n",
      "1.0\n",
      "************* 10 th epoch *************\n",
      "정확도\n",
      "0.9997\n",
      "************* 20 th epoch *************\n",
      "정확도\n",
      "1.0\n",
      "************* 30 th epoch *************\n",
      "정확도\n",
      "1.0\n",
      "************* 40 th epoch *************\n",
      "정확도\n",
      "1.0\n",
      "************* 50 th epoch *************\n",
      "정확도\n",
      "1.0\n",
      "************* 60 th epoch *************\n",
      "정확도\n",
      "1.0\n",
      "************* 70 th epoch *************\n",
      "정확도\n",
      "1.0\n",
      "************* 80 th epoch *************\n",
      "정확도\n",
      "1.0\n",
      "************* 90 th epoch *************\n",
      "정확도\n",
      "1.0\n",
      "************* 100 th epoch *************\n",
      "정확도\n",
      "1.0\n"
     ]
    }
   ],
   "source": [
    "model1 = Model()\n",
    "swl1 = SoftmaxwithLoss()\n",
    "\n",
    "minibatch_size = 100\n",
    "iter_per_epoch = 10\n",
    "\n",
    "\n",
    "epoch_size = int(input('Epeoch_size:'))\n",
    "train_result1 = learning(model1, swl1, x_train, t_train, minibatch_size, epoch_size, 0.01)\n",
    "test_result1 = learning(model1, swl1, x_test, t_test, minibatch_size, epoch_size, 0.01)\n",
    "layer1 = [np.max(train_result1),np.max(test_result1)]\n",
    "#learning(model, swl, x_train, t_train, minibatch_size, epoch_size, 0.0001)"
   ]
  },
  {
   "cell_type": "code",
   "execution_count": 12,
   "metadata": {},
   "outputs": [
    {
     "data": {
      "image/png": "[encoded data removed]",
      "text/plain": [
       "<Figure size 432x288 with 1 Axes>"
      ]
     },
     "metadata": {
      "needs_background": "light"
     },
     "output_type": "display_data"
    }
   ],
   "source": [
    "markers = {'train': 'o', 'test': 's'}\n",
    "x = np.arange(epoch_size)\n",
    "plt.plot(x, train_result1, label='train acc')\n",
    "plt.plot(x, test_result1, label='test acc', linestyle='--')\n",
    "plt.xlabel(\"epochs\")\n",
    "plt.ylabel(\"accuracy\")\n",
    "plt.ylim(0, 1.0)\n",
    "plt.legend(loc='lower right')\n",
    "plt.show()"
   ]
  },
  {
   "cell_type": "markdown",
   "metadata": {},
   "source": [
    "# Hidden layer:3"
   ]
  },
  {
   "cell_type": "code",
   "execution_count": 13,
   "metadata": {},
   "outputs": [
    {
     "name": "stdin",
     "output_type": "stream",
     "text": [
      "Number of Hidden_Layer:  3\n",
      "Dimension: 100\n",
      "Dimension: 50\n",
      "Dimension: 30\n",
      "Epeoch_size: 140\n"
     ]
    },
    {
     "name": "stdout",
     "output_type": "stream",
     "text": [
      "************* 10 th epoch *************\n",
      "정확도\n",
      "0.3343\n",
      "************* 20 th epoch *************\n",
      "정확도\n",
      "0.4433666666666667\n",
      "************* 30 th epoch *************\n",
      "정확도\n",
      "0.49065\n",
      "************* 40 th epoch *************\n",
      "정확도\n",
      "0.5748666666666666\n",
      "************* 50 th epoch *************\n",
      "정확도\n",
      "0.6089666666666667\n",
      "************* 60 th epoch *************\n",
      "정확도\n",
      "0.6511\n",
      "************* 70 th epoch *************\n",
      "정확도\n",
      "0.68565\n",
      "************* 80 th epoch *************\n",
      "정확도\n",
      "0.66805\n",
      "************* 90 th epoch *************\n",
      "정확도\n",
      "0.7127333333333333\n",
      "************* 100 th epoch *************\n",
      "정확도\n",
      "0.66705\n",
      "************* 110 th epoch *************\n",
      "정확도\n",
      "0.6805666666666667\n",
      "************* 120 th epoch *************\n",
      "정확도\n",
      "0.6972666666666667\n",
      "************* 130 th epoch *************\n",
      "정확도\n",
      "0.7261166666666666\n",
      "************* 140 th epoch *************\n",
      "정확도\n",
      "0.7582666666666666\n",
      "************* 10 th epoch *************\n",
      "정확도\n",
      "0.5883\n",
      "************* 20 th epoch *************\n",
      "정확도\n",
      "0.7072\n",
      "************* 30 th epoch *************\n",
      "정확도\n",
      "0.7872\n",
      "************* 40 th epoch *************\n",
      "정확도\n",
      "0.7848\n",
      "************* 50 th epoch *************\n",
      "정확도\n",
      "0.9225\n",
      "************* 60 th epoch *************\n",
      "정확도\n",
      "0.9171\n",
      "************* 70 th epoch *************\n",
      "정확도\n",
      "0.9306\n",
      "************* 80 th epoch *************\n",
      "정확도\n",
      "0.9149\n",
      "************* 90 th epoch *************\n",
      "정확도\n",
      "0.949\n",
      "************* 100 th epoch *************\n",
      "정확도\n",
      "0.9505\n",
      "************* 110 th epoch *************\n",
      "정확도\n",
      "0.9359\n",
      "************* 120 th epoch *************\n",
      "정확도\n",
      "0.9508\n",
      "************* 130 th epoch *************\n",
      "정확도\n",
      "0.9697\n",
      "************* 140 th epoch *************\n",
      "정확도\n",
      "0.9784\n"
     ]
    }
   ],
   "source": [
    "model3 = Model()\n",
    "swl3 = SoftmaxwithLoss()\n",
    "\n",
    "minibatch_size = 100\n",
    "iter_per_epoch = 10\n",
    "\n",
    "\n",
    "epoch_size = int(input('Epeoch_size:'))\n",
    "train_result3 = learning(model3, swl3, x_train, t_train, minibatch_size, epoch_size, 0.00001)\n",
    "test_result3 = learning(model3, swl3, x_test, t_test, minibatch_size, epoch_size, 0.00001)\n",
    "layer3 = [np.max(train_result3),np.max(test_result3)]\n",
    "#learning(model, swl, x_train, t_train, minibatch_size, epoch_size, 0.0001)"
   ]
  },
  {
   "cell_type": "code",
   "execution_count": 14,
   "metadata": {},
   "outputs": [
    {
     "data": {
      "image/png": "[encoded data removed]",
      "text/plain": [
       "<Figure size 432x288 with 1 Axes>"
      ]
     },
     "metadata": {
      "needs_background": "light"
     },
     "output_type": "display_data"
    }
   ],
   "source": [
    "markers = {'train': 'o', 'test': 's'}\n",
    "x = np.arange(epoch_size)\n",
    "plt.plot(x, train_result3, label='train acc')\n",
    "plt.plot(x, test_result3, label='test acc', linestyle='--')\n",
    "plt.xlabel(\"epochs\")\n",
    "plt.ylabel(\"accuracy\")\n",
    "plt.ylim(0, 1.0)\n",
    "plt.legend(loc='lower right')\n",
    "plt.show()"
   ]
  },
  {
   "cell_type": "markdown",
   "metadata": {},
   "source": [
    "# Hidden layer:4"
   ]
  },
  {
   "cell_type": "code",
   "execution_count": 15,
   "metadata": {},
   "outputs": [
    {
     "name": "stdin",
     "output_type": "stream",
     "text": [
      "Number of Hidden_Layer:  4\n",
      "Dimension: 130\n",
      "Dimension: 94\n",
      "Dimension: 85\n",
      "Dimension: 76\n",
      "Epeoch_size: 150\n"
     ]
    },
    {
     "name": "stdout",
     "output_type": "stream",
     "text": [
      "************* 10 th epoch *************\n",
      "정확도\n",
      "0.43416666666666665\n",
      "************* 20 th epoch *************\n",
      "정확도\n",
      "0.6153\n",
      "************* 30 th epoch *************\n",
      "정확도\n",
      "0.7089166666666666\n",
      "************* 40 th epoch *************\n",
      "정확도\n",
      "0.8798833333333334\n",
      "************* 50 th epoch *************\n",
      "정확도\n",
      "0.8466833333333333\n",
      "************* 60 th epoch *************\n",
      "정확도\n",
      "0.8603833333333334\n",
      "************* 70 th epoch *************\n",
      "정확도\n",
      "0.90255\n",
      "************* 80 th epoch *************\n",
      "정확도\n",
      "0.9057166666666666\n",
      "************* 90 th epoch *************\n",
      "정확도\n",
      "0.9288\n",
      "************* 100 th epoch *************\n",
      "정확도\n",
      "0.8881166666666667\n",
      "************* 110 th epoch *************\n",
      "정확도\n",
      "0.89705\n",
      "************* 120 th epoch *************\n",
      "정확도\n",
      "0.9246166666666666\n",
      "************* 130 th epoch *************\n",
      "정확도\n",
      "0.9397166666666666\n",
      "************* 140 th epoch *************\n",
      "정확도\n",
      "0.9021666666666667\n",
      "************* 150 th epoch *************\n",
      "정확도\n",
      "0.9682166666666666\n",
      "************* 10 th epoch *************\n",
      "정확도\n",
      "0.7913\n",
      "************* 20 th epoch *************\n",
      "정확도\n",
      "0.8344\n",
      "************* 30 th epoch *************\n",
      "정확도\n",
      "0.8416\n",
      "************* 40 th epoch *************\n",
      "정확도\n",
      "0.9293\n",
      "************* 50 th epoch *************\n",
      "정확도\n",
      "0.9884\n",
      "************* 60 th epoch *************\n",
      "정확도\n",
      "0.9948\n",
      "************* 70 th epoch *************\n",
      "정확도\n",
      "0.9936\n",
      "************* 80 th epoch *************\n",
      "정확도\n",
      "1.0\n",
      "************* 90 th epoch *************\n",
      "정확도\n",
      "1.0\n",
      "************* 100 th epoch *************\n",
      "정확도\n",
      "1.0\n",
      "************* 110 th epoch *************\n",
      "정확도\n",
      "1.0\n",
      "************* 120 th epoch *************\n",
      "정확도\n",
      "1.0\n",
      "************* 130 th epoch *************\n",
      "정확도\n",
      "1.0\n",
      "************* 140 th epoch *************\n",
      "정확도\n",
      "1.0\n",
      "************* 150 th epoch *************\n",
      "정확도\n",
      "1.0\n"
     ]
    }
   ],
   "source": [
    "model4 = Model()\n",
    "swl4 = SoftmaxwithLoss()\n",
    "\n",
    "minibatch_size = 100\n",
    "iter_per_epoch = 10\n",
    "\n",
    "\n",
    "epoch_size = int(input('Epeoch_size:'))\n",
    "train_result4 = learning(model4, swl4, x_train, t_train, minibatch_size, epoch_size, 0.000001)\n",
    "test_result4 = learning(model4, swl4, x_test, t_test, minibatch_size, epoch_size, 0.000001)\n",
    "layer4 = [np.max(train_result4),np.max(test_result4)]\n",
    "#learning(model, swl, x_train, t_train, minibatch_size, epoch_size, 0.0001)"
   ]
  },
  {
   "cell_type": "code",
   "execution_count": 16,
   "metadata": {},
   "outputs": [
    {
     "data": {
      "image/png": "[encoded data removed]",
      "text/plain": [
       "<Figure size 432x288 with 1 Axes>"
      ]
     },
     "metadata": {
      "needs_background": "light"
     },
     "output_type": "display_data"
    }
   ],
   "source": [
    "markers = {'train': 'o', 'test': 's'}\n",
    "x = np.arange(epoch_size)\n",
    "plt.plot(x, train_result4, label='train acc')\n",
    "plt.plot(x, test_result4, label='test acc', linestyle='--')\n",
    "plt.xlabel(\"epochs\")\n",
    "plt.ylabel(\"accuracy\")\n",
    "plt.ylim(0, 1.0)\n",
    "plt.legend(loc='lower right')\n",
    "plt.show()"
   ]
  },
  {
   "cell_type": "code",
   "execution_count": 17,
   "metadata": {},
   "outputs": [
    {
     "data": {
      "text/html": [
       "<div>\n",
       "<style scoped>\n",
       "    .dataframe tbody tr th:only-of-type {\n",
       "        vertical-align: middle;\n",
       "    }\n",
       "\n",
       "    .dataframe tbody tr th {\n",
       "        vertical-align: top;\n",
       "    }\n",
       "\n",
       "    .dataframe thead th {\n",
       "        text-align: right;\n",
       "    }\n",
       "</style>\n",
       "<table border=\"1\" class=\"dataframe\">\n",
       "  <thead>\n",
       "    <tr style=\"text-align: right;\">\n",
       "      <th></th>\n",
       "      <th>train_Accuracy</th>\n",
       "      <th>test_Accuracy</th>\n",
       "    </tr>\n",
       "    <tr>\n",
       "      <th>layer</th>\n",
       "      <th></th>\n",
       "      <th></th>\n",
       "    </tr>\n",
       "  </thead>\n",
       "  <tbody>\n",
       "    <tr>\n",
       "      <th>1</th>\n",
       "      <td>1.000000</td>\n",
       "      <td>1.0000</td>\n",
       "    </tr>\n",
       "    <tr>\n",
       "      <th>2</th>\n",
       "      <td>0.706850</td>\n",
       "      <td>0.9782</td>\n",
       "    </tr>\n",
       "    <tr>\n",
       "      <th>3</th>\n",
       "      <td>0.774733</td>\n",
       "      <td>0.9784</td>\n",
       "    </tr>\n",
       "    <tr>\n",
       "      <th>4</th>\n",
       "      <td>0.976483</td>\n",
       "      <td>1.0000</td>\n",
       "    </tr>\n",
       "  </tbody>\n",
       "</table>\n",
       "</div>"
      ],
      "text/plain": [
       "       train_Accuracy  test_Accuracy\n",
       "layer                               \n",
       "1            1.000000         1.0000\n",
       "2            0.706850         0.9782\n",
       "3            0.774733         0.9784\n",
       "4            0.976483         1.0000"
      ]
     },
     "execution_count": 17,
     "metadata": {},
     "output_type": "execute_result"
    }
   ],
   "source": [
    "data = {\n",
    "    'layer':['1','2','3','4'],\n",
    "    'train_Accuracy' : [np.max(train_result1),np.max(train_result2),np.max(train_result3),np.max(train_result4)],\n",
    "    'test_Accuracy' : [np.max(test_result1),np.max(test_result2),np.max(test_result3),np.max(test_result4)]\n",
    "} \n",
    "Table = pd.DataFrame(data)\n",
    "Table.set_index('layer')"
   ]
  }
 ],
 "metadata": {
  "kernelspec": {
   "display_name": "Python 3",
   "language": "python",
   "name": "python3"
  },
  "language_info": {
   "codemirror_mode": {
    "name": "ipython",
    "version": 3
   },
   "file_extension": ".py",
   "mimetype": "text/x-python",
   "name": "python",
   "nbconvert_exporter": "python",
   "pygments_lexer": "ipython3",
   "version": "3.8.8"
  }
 },
 "nbformat": 4,
 "nbformat_minor": 4
}
