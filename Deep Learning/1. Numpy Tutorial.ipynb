{
 "cells": [
  {
   "cell_type": "code",
   "execution_count": 1,
   "metadata": {},
   "outputs": [],
   "source": [
    "''' \n",
    " Author: Yoonhyuck WOO / JBNU_Industrial Information system Engineering\n",
    " Date; 12. 29. 2020 - 1. 8. 2021\n",
    " Title: Artificial Intelligence_Project 2\n",
    " Professor: Seung-Hoon Na'''\n",
    "            \n",
    "import numpy as np\n",
    "import random\n",
    "import matplotlib.pyplot as plt"
   ]
  },
  {
   "cell_type": "markdown",
   "metadata": {},
   "source": [
    "# 1.1 - numpy.dot"
   ]
  },
  {
   "cell_type": "code",
   "execution_count": 4,
   "metadata": {},
   "outputs": [
    {
     "name": "stdout",
     "output_type": "stream",
     "text": [
      "example of np.dot\n",
      "[[ 7 10]\n",
      " [15 22]]\n",
      "\n",
      " example of numpy.einsum\n",
      "[[1 4]\n",
      " [2 5]\n",
      " [3 6]]\n",
      "\n",
      " [[ 7 10]\n",
      " [15 22]]\n"
     ]
    }
   ],
   "source": [
    "a=[[1,2],[3,4]]\n",
    "b=[[1,2],[3,4]]\n",
    "\n",
    "a=np.array(a,dtype='int')\n",
    "b=np.array(b,dtype='int')\n",
    "\n",
    "print('example of np.dot')\n",
    "c=np.dot(a,b)\n",
    "print(c)\n",
    "\n",
    "# 1.1 - numpy.einsum\n",
    "# script부분에서 행,열을 이용하여 transpose, 대각선, 행렬간의 곱세등 선형대수학적인 연산을 가능하게 해줌.\n",
    "''' ex) np.einsum('ij,jh->ih', a, b) directly specifies the order of the output subscript labelsr\n",
    "      =>returns matrix multiplication'''\n",
    "print('\\n example of numpy.einsum')\n",
    "c=[[1,2,3],[4,5,6]]\n",
    "c=np.array(c)\n",
    "c=np.einsum('ij->ji',c)\n",
    "print(c)\n",
    "#dot과 관련\n",
    "d=np.einsum('ij,jh->ih',a,b)\n",
    "print('\\n',d)"
   ]
  },
  {
   "cell_type": "markdown",
   "metadata": {},
   "source": [
    "# 1.2 Numpy: Quiz\n",
    "\n",
    "67. Considering a four dimensions array, how to get sum over the last two axis at once? (★★★)<br>\n",
    "76. Consider a one-dimensional array Z, \n",
    "    build a two-dimensional array whose first row is (Z[0],Z[1],Z[2]) \n",
    "    and each subsequent row is shifted by 1 (last row should be (Z[-3],Z[-2],Z[-1]) (★★★)<br>\n",
    "77. How to negate a boolean, or to change the sign of a float inplace? (★★★)<br>\n",
    "85. Create a 2D array subclass such that Z[i,j] == Z[j,i] (★★★)<br>\n",
    "94. Considering a 10x3 matrix, extract rows with unequal values (e.g. [2,2,3]) (★★★)"
   ]
  },
  {
   "cell_type": "markdown",
   "metadata": {},
   "source": [
    " - #67. Considering a four dimensions array, how to get sum over the last two axis at once?"
   ]
  },
  {
   "cell_type": "code",
   "execution_count": 5,
   "metadata": {},
   "outputs": [
    {
     "name": "stdout",
     "output_type": "stream",
     "text": [
      "[[[[ 0  1  2]\n",
      "   [ 3  4  5]\n",
      "   [ 6  7  8]]\n",
      "\n",
      "  [[ 9 10 11]\n",
      "   [12 13 14]\n",
      "   [15 16 17]]\n",
      "\n",
      "  [[18 19 20]\n",
      "   [21 22 23]\n",
      "   [24 25 26]]]\n",
      "\n",
      "\n",
      " [[[27 28 29]\n",
      "   [30 31 32]\n",
      "   [33 34 35]]\n",
      "\n",
      "  [[36 37 38]\n",
      "   [39 40 41]\n",
      "   [42 43 44]]\n",
      "\n",
      "  [[45 46 47]\n",
      "   [48 49 50]\n",
      "   [51 52 53]]]]\n",
      "\n",
      "SUM\n",
      "[[ 36 117 198]\n",
      " [279 360 441]]\n"
     ]
    }
   ],
   "source": [
    "P_67=np.arange(54).reshape(2,3,3,3)\n",
    "print(P_67)\n",
    "\n",
    "print('\\nSUM')\n",
    "print(P_67.sum(axis=(-2,-1)))"
   ]
  },
  {
   "cell_type": "markdown",
   "metadata": {},
   "source": [
    "- #76<br> Consider a one-dimensional array Z, build a two-dimensional array whose first row is (Z[0],Z[1],Z[2]) and each subsequent row is shifted by 1 (last row should be (Z[-3],Z[-2],Z[-1])"
   ]
  },
  {
   "cell_type": "code",
   "execution_count": 15,
   "metadata": {},
   "outputs": [
    {
     "name": "stdout",
     "output_type": "stream",
     "text": [
      "before\n",
      "[[ 0  1  2]\n",
      " [ 3  4  5]\n",
      " [ 6  7  8]\n",
      " [ 9 10 11]]\n",
      "after\n",
      "[[11 10  9]\n",
      " [ 8  7  6]\n",
      " [ 5  4  3]\n",
      " [ 2  1  0]]\n"
     ]
    }
   ],
   "source": [
    "P_76 = np.arange(12).reshape(4,3)\n",
    "print('before')\n",
    "print(P_76)\n",
    "\n",
    "print('after')\n",
    "print(P_76[::-1,::-1])\n"
   ]
  },
  {
   "cell_type": "markdown",
   "metadata": {},
   "source": [
    "- #77. How to negate a boolean, or to change the sign of a float inplace?"
   ]
  },
  {
   "cell_type": "code",
   "execution_count": 8,
   "metadata": {},
   "outputs": [
    {
     "name": "stdout",
     "output_type": "stream",
     "text": [
      "before\n",
      "[[1, 0, 0], [0, 1, 0], [0, 0, 1]]\n",
      "[[False  True  True]\n",
      " [ True False  True]\n",
      " [ True  True False]]\n",
      "\n",
      "before\n",
      "1 : False\n",
      "2 : True\n",
      "3 : True\n",
      "4 : True\n",
      "5 : False\n",
      "6 : True\n",
      "7 : True\n",
      "8 : True\n",
      "9 : False\n",
      "\n",
      "after\n",
      "1 : True\n",
      "2 : False\n",
      "3 : False\n",
      "4 : False\n",
      "5 : True\n",
      "6 : False\n",
      "7 : False\n",
      "8 : False\n",
      "9 : True\n"
     ]
    }
   ],
   "source": [
    "# hint: np.logical_not, np.negative\n",
    "# negate= FALSE-> True, True -> False\n",
    "print('before')\n",
    "diago=[[1,0,0],[0,1,0],[0,0,1]]\n",
    "\n",
    "dia=np.logical_not(diago)\n",
    "diag=np.negative(diago)\n",
    "diag1=np.logical_not(diago)\n",
    "print(diago)\n",
    "print(diag1)\n",
    "\n",
    "print('\\nbefore')\n",
    "k1=1\n",
    "for i in diag1:\n",
    "    for j in i:\n",
    "        print(k1,':',j)\n",
    "        k1=k1+1\n",
    "\n",
    "\n",
    "def negate_boolean(x):\n",
    "    k2=1\n",
    "    y=np.logical_not(x)\n",
    "    for i in y:\n",
    "        for j in i:\n",
    "            if j==False:\n",
    "                j=True\n",
    "            elif j==True: \n",
    "                j=False\n",
    "            print(k2,':',j)\n",
    "            k2=k2+1\n",
    "print('\\nafter')\n",
    "negate_boolean(diago)"
   ]
  },
  {
   "cell_type": "markdown",
   "metadata": {},
   "source": [
    " - #85. Create a 2D array subclass such that Z[i,j] == Z[j,i] => diagonal array"
   ]
  },
  {
   "cell_type": "code",
   "execution_count": 10,
   "metadata": {},
   "outputs": [
    {
     "name": "stdout",
     "output_type": "stream",
     "text": [
      "before\n",
      "[[1 0 0]\n",
      " [0 1 0]\n",
      " [0 0 1]]\n",
      "after\n",
      "[[1 0 0]\n",
      " [0 1 0]\n",
      " [0 0 1]]\n"
     ]
    }
   ],
   "source": [
    "#diagonal=np.arange(9).reshape(3,3)\n",
    "P_85=[[1,0,0],[0,1,0],[0,0,1]]\n",
    "P_85=np.array(P_85,dtype='int')\n",
    "print('before')\n",
    "print(P_85)\n",
    "\n",
    "print('after')\n",
    "P_85=np.einsum('ij->ji',P_85)\n",
    "print(P_85)"
   ]
  },
  {
   "cell_type": "markdown",
   "metadata": {},
   "source": [
    "- #94. Considering a 10x3 matrix, extract rows with unequal values (e.g. [2,2,3])"
   ]
  },
  {
   "cell_type": "code",
   "execution_count": 13,
   "metadata": {},
   "outputs": [
    {
     "name": "stdout",
     "output_type": "stream",
     "text": [
      "[5 4 4]\n",
      "[0 4 5]\n",
      "[9 2 7]\n",
      "[5 5 3]\n",
      "[2 7 8]\n",
      "[5 0 0]\n",
      "[1 0 0]\n",
      "[5 7 5]\n",
      "[9 8 1]\n",
      "[7 5 3]\n",
      "unequal_count 10\n"
     ]
    }
   ],
   "source": [
    "P_94=np.random.random((10,3))*10\n",
    "P_94=np.array(P_94,dtype='int')\n",
    "P_94\n",
    "i=0\n",
    "for j in P_94:\n",
    "    if j[0]==j[1]==j[2]:\n",
    "        continue\n",
    "    else:\n",
    "        i=i+1\n",
    "        print(j)\n",
    "print('unequal_count',i)"
   ]
  },
  {
   "cell_type": "markdown",
   "metadata": {},
   "source": [
    "# 1.3 Nupmy: 선형방정식 풀기"
   ]
  },
  {
   "cell_type": "code",
   "execution_count": 12,
   "metadata": {},
   "outputs": [
    {
     "name": "stdout",
     "output_type": "stream",
     "text": [
      "A\n",
      "[[ 3 -2 -1]\n",
      " [-2  0 -1]\n",
      " [ 3  3 -3]]\n",
      "\n",
      "B\n",
      "[[3]\n",
      " [2]\n",
      " [1]]\n",
      "\n",
      " result\n",
      "역\n",
      "[[ 0.09 -0.27  0.06]\n",
      " [-0.27 -0.18  0.15]\n",
      " [-0.18 -0.45 -0.12]]\n",
      "A*역 => 역행렬 잘 구했는지 확인\n",
      "[[1 0 0]\n",
      " [0 1 0]\n",
      " [0 0 1]]\n",
      "\n",
      "해\n",
      "[[-0.21]\n",
      " [-1.03]\n",
      " [-1.58]]\n"
     ]
    }
   ],
   "source": [
    "# np.dot(a, a_inv) => 단위행렬(unit matrix) \n",
    "#pseudo inverse A+는 다음과 같이 계산된다.=>(A+=A^TA)^-1A^T\n",
    "\n",
    "np.set_printoptions(precision=2)\n",
    "a=random.randrange(2,4)\n",
    "b=random.randrange(2,4)\n",
    "P_13=np.random.randint(-3,4,(a,b))\n",
    "P_13\n",
    "B=np.random.randint(0,10,(a,1))\n",
    "print('A')\n",
    "print(P_13)\n",
    "print('\\nB')\n",
    "print(B)\n",
    "\n",
    "def linearsol(x,y):\n",
    "    x_inv=np.linalg.inv(x)\n",
    "    print('역')\n",
    "    print(x_inv)\n",
    "    \n",
    "    #assert \n",
    "    \n",
    "    unit=np.dot(x_inv,x)\n",
    "    unit=np.array(unit, dtype='int')\n",
    "    print('A*역 => 역행렬 잘 구했는지 확인')\n",
    "    print(unit)\n",
    "    print('\\n해')\n",
    "    return print(np.dot(x_inv,y))\n",
    "\n",
    "def leastsquaresol(a,b,x,y):\n",
    "    if a>b:\n",
    "        x_tran=np.transpose(x)\n",
    "        pseudo_inverse=np.dot(np.linalg.inv(np.dot(x_tran,x)),x_tran)\n",
    "        return print(np.dot(pseudo_inverse,y))\n",
    "    elif a<b:\n",
    "        print('Infinite solutions')\n",
    "    \n",
    "    \n",
    "if a==b:\n",
    "    print('\\n result')\n",
    "    linearsol(P_13,B)\n",
    "else:\n",
    "    print('\\n result')\n",
    "    leastsquaresol(a,b,P_13,B)\n",
    "    "
   ]
  },
  {
   "cell_type": "code",
   "execution_count": null,
   "metadata": {},
   "outputs": [],
   "source": []
  }
 ],
 "metadata": {
  "kernelspec": {
   "display_name": "Python 3",
   "language": "python",
   "name": "python3"
  },
  "language_info": {
   "codemirror_mode": {
    "name": "ipython",
    "version": 3
   },
   "file_extension": ".py",
   "mimetype": "text/x-python",
   "name": "python",
   "nbconvert_exporter": "python",
   "pygments_lexer": "ipython3",
   "version": "3.7.6"
  }
 },
 "nbformat": 4,
 "nbformat_minor": 4
}
