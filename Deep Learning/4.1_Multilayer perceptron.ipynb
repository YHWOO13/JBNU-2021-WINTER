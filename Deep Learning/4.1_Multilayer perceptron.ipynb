{
 "cells": [
  {
   "cell_type": "code",
   "execution_count": 1,
   "metadata": {},
   "outputs": [],
   "source": [
    "import numpy as np\n",
    "import random\n",
    "import matplotlib.pyplot as plt\n",
    "np.set_printoptions(precision=3)"
   ]
  },
  {
   "cell_type": "markdown",
   "metadata": {},
   "source": [
    "# Make relu class"
   ]
  },
  {
   "cell_type": "code",
   "execution_count": 2,
   "metadata": {},
   "outputs": [],
   "source": [
    "class relu():\n",
    "    def __init__(self):\n",
    "        self.mask = None\n",
    "        \n",
    "    def forward(self,x):\n",
    "        self.mask = (x <=0)\n",
    "        out = x.copy()\n",
    "        out[self.mask] = 0\n",
    "        \n",
    "        return out\n",
    "    \n",
    "    def backward(self, dout):\n",
    "        dout[self.mask]= 0\n",
    "        \n",
    "        dx=dout\n",
    "        \n",
    "        return dx"
   ]
  },
  {
   "cell_type": "markdown",
   "metadata": {},
   "source": [
    "# Make Softmax & cross_entropy class"
   ]
  },
  {
   "cell_type": "code",
   "execution_count": 11,
   "metadata": {},
   "outputs": [],
   "source": [
    "class SCE():\n",
    "    def __init__(self):\n",
    "        self.exp_o=0\n",
    "        self.exp_sum_exp_o=0\n",
    "        self.softmax = 0\n",
    "        self.result = 0\n",
    "        \n",
    "        self.o = 0\n",
    "        self.U = 0\n",
    "        self.d = 0\n",
    "        \n",
    "    def forward(self,X,h,y):\n",
    "        \n",
    "        #softmax\n",
    "        self.d = np.random.randint(-4,4,size=1)\n",
    "        self.U = np. random.randint(-4,4,(X.shape[0], h.shape[0]))\n",
    "        self.o = np.dot(self.U, h)+self.d\n",
    "        \n",
    "        print('U')\n",
    "        print(self.U)\n",
    "        \n",
    "        print('o')\n",
    "        print(self.o)\n",
    "        \n",
    "        #cross_entropy\n",
    "        delta = np.max(self.o)\n",
    "        \n",
    "        print('delta')\n",
    "        print(delta)\n",
    "        self.exp_o = np.exp(self.o-delta)\n",
    "        self.sum_exp_o = np.sum(self.exp_o)\n",
    "        \n",
    "        print('\\nexp_o')\n",
    "        print(self.exp_o)\n",
    "        \n",
    "        print('\\nsum_exp_o')\n",
    "        print(self.sum_exp_o)\n",
    "        \n",
    "        \n",
    "        print('\\nsoftmax')\n",
    "        self.softmax = self.exp_o / self.sum_exp_o\n",
    "        print(self.softmax)\n",
    "        \n",
    "        # cross_entropy + 마이너스 무한대가 생기지 않도록 만듦\n",
    "        self.result= - np.sum(y * np.log(self.softmax))\n",
    "        print('Loss')\n",
    "       \n",
    "        return print(self.result)\n",
    "        \n",
    "    def backward(self,y):\n",
    "        batch_size = y.shape[0]\n",
    "        dx = (self.softmax-y) / batch_size\n",
    "        \n",
    "        return dx"
   ]
  },
  {
   "cell_type": "markdown",
   "metadata": {},
   "source": [
    "### MLP"
   ]
  },
  {
   "cell_type": "code",
   "execution_count": 12,
   "metadata": {},
   "outputs": [],
   "source": [
    "class MLP():\n",
    "    def __int__(self):\n",
    "        \n",
    "        self.W = 0  \n",
    "        self.b = 0\n",
    "        \n",
    "        self.U = 0\n",
    "        self.d = 0\n",
    "        self.J = 0\n",
    "        self.h = 0\n",
    "        \n",
    "    def forward(self, X, N):\n",
    "        self.b = np.random.randint(-4,4,size=1)\n",
    "        self.W = np. random.randint(-4,4,(N,X.shape[0]))\n",
    "        \n",
    "        print('X')\n",
    "        print(X)\n",
    "        \n",
    "        print('W')\n",
    "        print(self.W)\n",
    "        \n",
    "        #relu\n",
    "        a = np.dot(self.W,X) + self.b\n",
    "        self.h = relu.forward(self,a)\n",
    "       \n",
    "        print('output')\n",
    "        return print(self.h)\n",
    "    \n",
    "    def backward(self,X,y):\n",
    "        dJdU = np.dot(SCE.backward(self,y), np.transpose(self.h))\n",
    "        dJdd = SCE.backward(self,y)*np.ones_like(SCE.d) \n",
    "        dJdh = np.dot(np.transpose(SCE.U), SCE.backward(self,y))\n",
    "        dJdW = np.dot(relu.backward(self,dJdh), np.transpose(X))\n",
    "        \n",
    "        print('dJdU')\n",
    "        print(dJdU)\n",
    "        \n",
    "        print('dJdd')\n",
    "        print(dJdd)\n",
    "        \n",
    "        print('dJdh')\n",
    "        print(dJdh)\n",
    "        \n",
    "        print('dJdW')\n",
    "        print(dJdW)"
   ]
  },
  {
   "cell_type": "markdown",
   "metadata": {},
   "source": [
    "# 4.1"
   ]
  },
  {
   "cell_type": "code",
   "execution_count": 13,
   "metadata": {},
   "outputs": [
    {
     "name": "stdout",
     "output_type": "stream",
     "text": [
      "X\n",
      "[[1]\n",
      " [2]\n",
      " [3]\n",
      " [5]]\n",
      "W\n",
      "[[ 3 -1  0 -2]\n",
      " [-4 -3  3 -3]]\n",
      "output\n",
      "[[0]\n",
      " [0]]\n",
      "U\n",
      "[[ 3  3 -4 -2]\n",
      " [ 1 -3  1  3]\n",
      " [-3 -1  3  0]\n",
      " [-1 -1  0  3]]\n",
      "o\n",
      "[[-11]\n",
      " [ 15]\n",
      " [  6]\n",
      " [ 14]]\n",
      "delta\n",
      "15\n",
      "\n",
      "exp_o\n",
      "[[5.109e-12]\n",
      " [1.000e+00]\n",
      " [1.234e-04]\n",
      " [3.679e-01]]\n",
      "\n",
      "sum_exp_o\n",
      "1.3680028509806381\n",
      "\n",
      "softmax\n",
      "[[3.735e-12]\n",
      " [7.310e-01]\n",
      " [9.021e-05]\n",
      " [2.689e-01]]\n",
      "Loss\n",
      "26.31335190324836\n"
     ]
    }
   ],
   "source": [
    "model = MLP()\n",
    "model_2 = SCE()\n",
    "a = [[1],[2],[3],[5]]\n",
    "a = np.array(a)\n",
    "y = [[1],[0],[0],[0]]\n",
    "y=np.array(y)\n",
    "\n",
    "model.forward(a,2)\n",
    "model_2.forward(a,a,y)\n",
    "#model.backward(a,y)"
   ]
  },
  {
   "cell_type": "code",
   "execution_count": null,
   "metadata": {},
   "outputs": [],
   "source": []
  }
 ],
 "metadata": {
  "kernelspec": {
   "display_name": "Python 3",
   "language": "python",
   "name": "python3"
  },
  "language_info": {
   "codemirror_mode": {
    "name": "ipython",
    "version": 3
   },
   "file_extension": ".py",
   "mimetype": "text/x-python",
   "name": "python",
   "nbconvert_exporter": "python",
   "pygments_lexer": "ipython3",
   "version": "3.7.6"
  }
 },
 "nbformat": 4,
 "nbformat_minor": 4
}
