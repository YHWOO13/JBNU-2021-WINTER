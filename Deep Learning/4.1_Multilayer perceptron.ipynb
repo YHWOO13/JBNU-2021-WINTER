{
 "cells": [
  {
   "cell_type": "code",
   "execution_count": 1,
   "metadata": {},
   "outputs": [],
   "source": [
    "''' \n",
    " Author: Yoonhyuck WOO / JBNU_Industrial Information system Engineering\n",
    " Date; 2. 6. 2020 - 3. 7. 2021\n",
    " Title: Artificial Intelligence_Project 2\n",
    " Professor: Seung-Hoon Na'''\n",
    "  \n",
    "import numpy as np\n",
    "import random\n",
    "import matplotlib.pyplot as plt\n",
    "np.set_printoptions(precision=3)"
   ]
  },
  {
   "cell_type": "markdown",
   "metadata": {},
   "source": [
    "# Make relu class"
   ]
  },
  {
   "cell_type": "code",
   "execution_count": 38,
   "metadata": {},
   "outputs": [],
   "source": [
    "class relu():\n",
    "    def __init__(self):\n",
    "        self.mask = None\n",
    "        \n",
    "    def forward(self,x):\n",
    "        self.mask = (x <= 0)\n",
    "        out = x.copy()\n",
    "        out[self.mask] = 0\n",
    "        \n",
    "        return out\n",
    "    \n",
    "    def backward(self, dout):\n",
    "        dout[self.mask]= 0\n",
    "        \n",
    "        dx=dout\n",
    "        \n",
    "        return dx"
   ]
  },
  {
   "cell_type": "markdown",
   "metadata": {},
   "source": [
    "### MLP"
   ]
  },
  {
   "cell_type": "code",
   "execution_count": 39,
   "metadata": {},
   "outputs": [],
   "source": [
    "class MLP():\n",
    "    def __init__(self):\n",
    "        self.W  = 0\n",
    "        self.b = np.random.randint(-4,4,size=1)\n",
    "        self.J = 0\n",
    "        self.h = 0\n",
    "        \n",
    "    def forward(self, X, N):\n",
    "        self.W = np. random.randint(-4,4,(N,X.shape[0]))\n",
    "        print('X')\n",
    "        print(X)\n",
    "        \n",
    "        print('W')\n",
    "        print(self.W)\n",
    "        \n",
    "        #relu\n",
    "        a = np.dot(self.W,X) + self.b\n",
    "        self.h = relu.forward(self,a)\n",
    "       \n",
    "        print('output')\n",
    "        return self.h\n",
    "    \n",
    "    def backward(self,X,y,y1):\n",
    "        dJdh = np.dot(np.transpose(SCE.U), SCE.backward(self,y))\n",
    "        dJdW = np.dot(relu.backward(self,dJdh), np.transpose(X))\n",
    "        \n",
    "        print('dJdh')\n",
    "        print(dJdh)\n",
    "        \n",
    "        print('dJdW')\n",
    "        print(dJdW)"
   ]
  },
  {
   "cell_type": "markdown",
   "metadata": {},
   "source": [
    "# Make softmax class"
   ]
  },
  {
   "cell_type": "code",
   "execution_count": 45,
   "metadata": {},
   "outputs": [],
   "source": [
    "class softmax():    \n",
    "    def __init__(self):\n",
    "        self.o = 0\n",
    "        self.d = np.random.randint(-4,4,size=1)\n",
    "        \n",
    "    def forward(self,X,h,U):\n",
    "        self.o = np.dot(U, h)+self.d\n",
    "        \n",
    "        print('U')\n",
    "        print(U)\n",
    "        \n",
    "        print('o')\n",
    "        print(self.o)\n",
    "\n",
    "        delta = np.max(self.o)\n",
    "        \n",
    "        print('delta')\n",
    "        print(delta)\n",
    "        self.exp_o = np.exp(self.o-delta)\n",
    "        self.sum_exp_o = np.sum(self.exp_o)\n",
    "        \n",
    "        print('\\nexp_o')\n",
    "        print(self.exp_o)\n",
    "        \n",
    "        print('\\nsum_exp_o')\n",
    "        print(self.sum_exp_o)\n",
    "        \n",
    "        print('\\nsoftmax')\n",
    "        self.softmax = self.exp_o / self.sum_exp_o\n",
    "        \n",
    "        return self.softmax"
   ]
  },
  {
   "cell_type": "code",
   "execution_count": 48,
   "metadata": {},
   "outputs": [
    {
     "name": "stdout",
     "output_type": "stream",
     "text": [
      "[-1]\n"
     ]
    }
   ],
   "source": [
    "b=softmax()\n",
    "print(b.d)"
   ]
  },
  {
   "cell_type": "markdown",
   "metadata": {},
   "source": [
    "# Make Cross_entropy class"
   ]
  },
  {
   "cell_type": "code",
   "execution_count": 46,
   "metadata": {},
   "outputs": [],
   "source": [
    "class SCE():\n",
    "    def __init__(self):\n",
    "        self.result = 0\n",
    "        \n",
    "    def forward(self, y, softMAX):\n",
    "        # cross_entropy + 마이너스 무한대가 생기지 않도록 만듦\n",
    "        self.result = - np.sum(y * np.log(softMAX))\n",
    "        print('Loss')\n",
    "       \n",
    "        return self.result\n",
    "        \n",
    "    def backward(self, y, softMAX):\n",
    "        batch_size = y.shape[0]\n",
    "        dJdR = (softMAX-y) / batch_size\n",
    "        \n",
    "        print('dx')\n",
    "        print(dJdR)\n",
    "        \n",
    "        return dJdR"
   ]
  },
  {
   "cell_type": "markdown",
   "metadata": {},
   "source": [
    "# 4.1"
   ]
  },
  {
   "cell_type": "code",
   "execution_count": 56,
   "metadata": {},
   "outputs": [
    {
     "name": "stdout",
     "output_type": "stream",
     "text": [
      "X\n",
      "[[1]\n",
      " [2]\n",
      " [3]\n",
      " [5]]\n",
      "W\n",
      "[[ 1  1 -4 -2]\n",
      " [-2 -1  3  0]]\n",
      "output\n",
      "[[0]\n",
      " [7]]\n",
      "[[-3 -2]\n",
      " [ 2 -4]\n",
      " [ 2  2]\n",
      " [-2  1]]\n",
      "U\n",
      "[[-3 -2]\n",
      " [ 2 -4]\n",
      " [ 2  2]\n",
      " [-2  1]]\n",
      "o\n",
      "[[-18]\n",
      " [-32]\n",
      " [ 10]\n",
      " [  3]]\n",
      "delta\n",
      "10\n",
      "\n",
      "exp_o\n",
      "[[6.914e-13]\n",
      " [5.750e-19]\n",
      " [1.000e+00]\n",
      " [9.119e-04]]\n",
      "\n",
      "sum_exp_o\n",
      "1.000911881966246\n",
      "\n",
      "softmax\n",
      "[[6.908e-13]\n",
      " [5.744e-19]\n",
      " [9.991e-01]\n",
      " [9.111e-04]]\n",
      "Loss\n",
      "28.000911466454465\n",
      "dx\n",
      "[[-2.500e-01]\n",
      " [ 1.436e-19]\n",
      " [ 2.498e-01]\n",
      " [ 2.278e-04]]\n",
      "[[-1.727e-13 -1.436e-19 -2.498e-01 -2.278e-04]\n",
      " [ 9.921e-32  8.249e-38  1.435e-19  1.308e-22]\n",
      " [ 1.725e-13  1.435e-19  2.495e-01  2.276e-04]\n",
      " [ 1.573e-16  1.308e-22  2.276e-04  2.075e-07]]\n",
      "[[-2.500e-01]\n",
      " [ 1.436e-19]\n",
      " [ 2.498e-01]\n",
      " [ 2.278e-04]]\n",
      "[[0. 0. 0. 0.]\n",
      " [0. 0. 0. 0.]]\n",
      "[0. 0.]\n"
     ]
    }
   ],
   "source": [
    "model = MLP()\n",
    "model_2 = SCE()\n",
    "model_3 = relu()\n",
    "model_4 = softmax()\n",
    "\n",
    "a = [[1],[2],[3],[5]]\n",
    "a = np.array(a)\n",
    "y = [[1],[0],[0],[0]]\n",
    "y=np.array(y)\n",
    "\n",
    "h = model.forward(a,2) # relu\n",
    "print(h)\n",
    "U = np. random.randint(-4,4,(a.shape[0], h.shape[0]))\n",
    "print(U)\n",
    "o = model_4.forward(a,h,U) # softmax\n",
    "print(o)\n",
    "J = model_2.forward(y, o) # cross_Entropy\n",
    "print(J)\n",
    "\n",
    "dJdR = model_2.backward(y,o) #softmax & cross_Entropy loss\n",
    "\n",
    "dJdU= np.dot(dJdR, np.transpose(o))\n",
    "dJdd = dJdR * np.ones_like(model_4.d)\n",
    "\n",
    "dJdh = np.dot(np.transpose(U), dJdR)\n",
    "dJdW = np.dot(model_3.backward(dJdh), np.transpose(a))\n",
    "\n",
    "dJdb = np.dot(model_3.backward(dJdh),np.ones_like(model.b))\n",
    "\n",
    "print(dJdU)\n",
    "print(dJdd)\n",
    "print(dJdW)\n",
    "print(dJdb)"
   ]
  },
  {
   "cell_type": "code",
   "execution_count": null,
   "metadata": {},
   "outputs": [],
   "source": []
  },
  {
   "cell_type": "code",
   "execution_count": null,
   "metadata": {},
   "outputs": [],
   "source": []
  },
  {
   "cell_type": "code",
   "execution_count": null,
   "metadata": {},
   "outputs": [],
   "source": []
  }
 ],
 "metadata": {
  "kernelspec": {
   "display_name": "Python 3",
   "language": "python",
   "name": "python3"
  },
  "language_info": {
   "codemirror_mode": {
    "name": "ipython",
    "version": 3
   },
   "file_extension": ".py",
   "mimetype": "text/x-python",
   "name": "python",
   "nbconvert_exporter": "python",
   "pygments_lexer": "ipython3",
   "version": "3.7.6"
  }
 },
 "nbformat": 4,
 "nbformat_minor": 4
}
