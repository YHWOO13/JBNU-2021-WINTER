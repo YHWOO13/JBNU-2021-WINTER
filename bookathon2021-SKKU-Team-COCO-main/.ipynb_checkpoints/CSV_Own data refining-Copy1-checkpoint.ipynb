{
 "cells": [
  {
   "cell_type": "markdown",
   "id": "98a7b318-5a12-4f47-bec2-25338e5d0620",
   "metadata": {},
   "source": [
    "https://bhban.tistory.com/49"
   ]
  },
  {
   "cell_type": "code",
   "execution_count": 56,
   "id": "c5e8d5e4",
   "metadata": {
    "jupyter": {
     "source_hidden": true
    },
    "tags": []
   },
   "outputs": [],
   "source": [
    "import os\n",
    "import re\n",
    "import csv\n",
    "\n",
    "directory = \"C:\\\\Users\\\\LG\\\\Desktop\\\\딥러닝\\\\제3회 AI X Bookhathon 대회\\\\데이터\\\\httpsblog.naver.comjiangli197580183878314\\\\\"\n",
    "file_name = 'integrated_essay.csv'\n",
    "\n",
    "final_file = open(file_name, 'w', -1, 'UTF-8', newline = '')\n",
    "wr = csv.writer(final_file)\n",
    "\n",
    "files = os.listdir(directory)\n",
    "\n",
    "#remove = re.sub('(.)')\n",
    "\n",
    "for filename in files:\n",
    "    lst = []\n",
    "    lst_temp = []\n",
    "    if \".txt\" not in filename:\n",
    "        continue\n",
    "    file = open(directory + filename, 'r', encoding = 'UTF-8')\n",
    "    #print(file)\n",
    "    for line in file:\n",
    "        line = re.split(' ', str(line))\n",
    "        line = re.sub(r'\\([^)]*\\)', '', str(line))\n",
    "        lst.append(line)\n",
    "        wr.writerow(lst)\n",
    "        lst = lst_temp\n",
    "    file.close()\n",
    "#final_file.write('')\n",
    "final_file.close()"
   ]
  },
  {
   "cell_type": "code",
   "execution_count": 73,
   "id": "351d40ee-5ad0-4e65-8c9b-2e2b69cd1f6c",
   "metadata": {},
   "outputs": [
    {
     "name": "stdout",
     "output_type": "stream",
     "text": [
      "<_io.TextIOWrapper name='C:\\\\Users\\\\LG\\\\Desktop\\\\딥러닝\\\\제3회 AI X Bookhathon 대회\\\\데이터\\\\httpsblog.naver.comjiangli197580183878314\\\\가난에 대하여.txt' mode='r' encoding='UTF-8'>\n",
      "<_io.TextIOWrapper name='C:\\\\Users\\\\LG\\\\Desktop\\\\딥러닝\\\\제3회 AI X Bookhathon 대회\\\\데이터\\\\httpsblog.naver.comjiangli197580183878314\\\\가난한 날의 행복.txt' mode='r' encoding='UTF-8'>\n",
      "<_io.TextIOWrapper name='C:\\\\Users\\\\LG\\\\Desktop\\\\딥러닝\\\\제3회 AI X Bookhathon 대회\\\\데이터\\\\httpsblog.naver.comjiangli197580183878314\\\\거꾸로 보기.txt' mode='r' encoding='UTF-8'>\n",
      "<_io.TextIOWrapper name='C:\\\\Users\\\\LG\\\\Desktop\\\\딥러닝\\\\제3회 AI X Bookhathon 대회\\\\데이터\\\\httpsblog.naver.comjiangli197580183878314\\\\거룩한 본능.txt' mode='r' encoding='UTF-8'>\n",
      "<_io.TextIOWrapper name='C:\\\\Users\\\\LG\\\\Desktop\\\\딥러닝\\\\제3회 AI X Bookhathon 대회\\\\데이터\\\\httpsblog.naver.comjiangli197580183878314\\\\거리의 악사.txt' mode='r' encoding='UTF-8'>\n",
      "<_io.TextIOWrapper name='C:\\\\Users\\\\LG\\\\Desktop\\\\딥러닝\\\\제3회 AI X Bookhathon 대회\\\\데이터\\\\httpsblog.naver.comjiangli197580183878314\\\\결혼에 대하여.txt' mode='r' encoding='UTF-8'>\n",
      "<_io.TextIOWrapper name='C:\\\\Users\\\\LG\\\\Desktop\\\\딥러닝\\\\제3회 AI X Bookhathon 대회\\\\데이터\\\\httpsblog.naver.comjiangli197580183878314\\\\구두.txt' mode='r' encoding='UTF-8'>\n",
      "<_io.TextIOWrapper name='C:\\\\Users\\\\LG\\\\Desktop\\\\딥러닝\\\\제3회 AI X Bookhathon 대회\\\\데이터\\\\httpsblog.naver.comjiangli197580183878314\\\\권태(倦怠).txt' mode='r' encoding='UTF-8'>\n",
      "<_io.TextIOWrapper name='C:\\\\Users\\\\LG\\\\Desktop\\\\딥러닝\\\\제3회 AI X Bookhathon 대회\\\\데이터\\\\httpsblog.naver.comjiangli197580183878314\\\\그믐달.txt' mode='r' encoding='UTF-8'>\n",
      "<_io.TextIOWrapper name='C:\\\\Users\\\\LG\\\\Desktop\\\\딥러닝\\\\제3회 AI X Bookhathon 대회\\\\데이터\\\\httpsblog.naver.comjiangli197580183878314\\\\글을 쓴다는 것.txt' mode='r' encoding='UTF-8'>\n",
      "<_io.TextIOWrapper name='C:\\\\Users\\\\LG\\\\Desktop\\\\딥러닝\\\\제3회 AI X Bookhathon 대회\\\\데이터\\\\httpsblog.naver.comjiangli197580183878314\\\\까치.txt' mode='r' encoding='UTF-8'>\n",
      "<_io.TextIOWrapper name='C:\\\\Users\\\\LG\\\\Desktop\\\\딥러닝\\\\제3회 AI X Bookhathon 대회\\\\데이터\\\\httpsblog.naver.comjiangli197580183878314\\\\꾀꼬리.txt' mode='r' encoding='UTF-8'>\n",
      "<_io.TextIOWrapper name='C:\\\\Users\\\\LG\\\\Desktop\\\\딥러닝\\\\제3회 AI X Bookhathon 대회\\\\데이터\\\\httpsblog.naver.comjiangli197580183878314\\\\나무.txt' mode='r' encoding='UTF-8'>\n",
      "<_io.TextIOWrapper name='C:\\\\Users\\\\LG\\\\Desktop\\\\딥러닝\\\\제3회 AI X Bookhathon 대회\\\\데이터\\\\httpsblog.naver.comjiangli197580183878314\\\\나무의 위의.txt' mode='r' encoding='UTF-8'>\n",
      "<_io.TextIOWrapper name='C:\\\\Users\\\\LG\\\\Desktop\\\\딥러닝\\\\제3회 AI X Bookhathon 대회\\\\데이터\\\\httpsblog.naver.comjiangli197580183878314\\\\나의 문화 유산 답사기.txt' mode='r' encoding='UTF-8'>\n",
      "<_io.TextIOWrapper name='C:\\\\Users\\\\LG\\\\Desktop\\\\딥러닝\\\\제3회 AI X Bookhathon 대회\\\\데이터\\\\httpsblog.naver.comjiangli197580183878314\\\\낙엽을 태우면서.txt' mode='r' encoding='UTF-8'>\n",
      "<_io.TextIOWrapper name='C:\\\\Users\\\\LG\\\\Desktop\\\\딥러닝\\\\제3회 AI X Bookhathon 대회\\\\데이터\\\\httpsblog.naver.comjiangli197580183878314\\\\낭객의 신년 만필.txt' mode='r' encoding='UTF-8'>\n",
      "<_io.TextIOWrapper name='C:\\\\Users\\\\LG\\\\Desktop\\\\딥러닝\\\\제3회 AI X Bookhathon 대회\\\\데이터\\\\httpsblog.naver.comjiangli197580183878314\\\\낭비가.txt' mode='r' encoding='UTF-8'>\n",
      "<_io.TextIOWrapper name='C:\\\\Users\\\\LG\\\\Desktop\\\\딥러닝\\\\제3회 AI X Bookhathon 대회\\\\데이터\\\\httpsblog.naver.comjiangli197580183878314\\\\넥타이.txt' mode='r' encoding='UTF-8'>\n",
      "<_io.TextIOWrapper name='C:\\\\Users\\\\LG\\\\Desktop\\\\딥러닝\\\\제3회 AI X Bookhathon 대회\\\\데이터\\\\httpsblog.naver.comjiangli197580183878314\\\\달밤.txt' mode='r' encoding='UTF-8'>\n",
      "<_io.TextIOWrapper name='C:\\\\Users\\\\LG\\\\Desktop\\\\딥러닝\\\\제3회 AI X Bookhathon 대회\\\\데이터\\\\httpsblog.naver.comjiangli197580183878314\\\\대동강.txt' mode='r' encoding='UTF-8'>\n",
      "<_io.TextIOWrapper name='C:\\\\Users\\\\LG\\\\Desktop\\\\딥러닝\\\\제3회 AI X Bookhathon 대회\\\\데이터\\\\httpsblog.naver.comjiangli197580183878314\\\\돌충계.txt' mode='r' encoding='UTF-8'>\n",
      "<_io.TextIOWrapper name='C:\\\\Users\\\\LG\\\\Desktop\\\\딥러닝\\\\제3회 AI X Bookhathon 대회\\\\데이터\\\\httpsblog.naver.comjiangli197580183878314\\\\동해.txt' mode='r' encoding='UTF-8'>\n",
      "<_io.TextIOWrapper name='C:\\\\Users\\\\LG\\\\Desktop\\\\딥러닝\\\\제3회 AI X Bookhathon 대회\\\\데이터\\\\httpsblog.naver.comjiangli197580183878314\\\\두꺼운 삶과 얇은 삶.txt' mode='r' encoding='UTF-8'>\n",
      "<_io.TextIOWrapper name='C:\\\\Users\\\\LG\\\\Desktop\\\\딥러닝\\\\제3회 AI X Bookhathon 대회\\\\데이터\\\\httpsblog.naver.comjiangli197580183878314\\\\딸깍발이.txt' mode='r' encoding='UTF-8'>\n",
      "<_io.TextIOWrapper name='C:\\\\Users\\\\LG\\\\Desktop\\\\딥러닝\\\\제3회 AI X Bookhathon 대회\\\\데이터\\\\httpsblog.naver.comjiangli197580183878314\\\\마고자.txt' mode='r' encoding='UTF-8'>\n",
      "<_io.TextIOWrapper name='C:\\\\Users\\\\LG\\\\Desktop\\\\딥러닝\\\\제3회 AI X Bookhathon 대회\\\\데이터\\\\httpsblog.naver.comjiangli197580183878314\\\\막내의 야구 방망이.txt' mode='r' encoding='UTF-8'>\n",
      "<_io.TextIOWrapper name='C:\\\\Users\\\\LG\\\\Desktop\\\\딥러닝\\\\제3회 AI X Bookhathon 대회\\\\데이터\\\\httpsblog.naver.comjiangli197580183878314\\\\먼 곳에의 그리움.txt' mode='r' encoding='UTF-8'>\n",
      "<_io.TextIOWrapper name='C:\\\\Users\\\\LG\\\\Desktop\\\\딥러닝\\\\제3회 AI X Bookhathon 대회\\\\데이터\\\\httpsblog.naver.comjiangli197580183878314\\\\멋.txt' mode='r' encoding='UTF-8'>\n",
      "<_io.TextIOWrapper name='C:\\\\Users\\\\LG\\\\Desktop\\\\딥러닝\\\\제3회 AI X Bookhathon 대회\\\\데이터\\\\httpsblog.naver.comjiangli197580183878314\\\\멋있는 사람들.txt' mode='r' encoding='UTF-8'>\n",
      "<_io.TextIOWrapper name='C:\\\\Users\\\\LG\\\\Desktop\\\\딥러닝\\\\제3회 AI X Bookhathon 대회\\\\데이터\\\\httpsblog.naver.comjiangli197580183878314\\\\명명철학.txt' mode='r' encoding='UTF-8'>\n",
      "<_io.TextIOWrapper name='C:\\\\Users\\\\LG\\\\Desktop\\\\딥러닝\\\\제3회 AI X Bookhathon 대회\\\\데이터\\\\httpsblog.naver.comjiangli197580183878314\\\\명사십리.txt' mode='r' encoding='UTF-8'>\n",
      "<_io.TextIOWrapper name='C:\\\\Users\\\\LG\\\\Desktop\\\\딥러닝\\\\제3회 AI X Bookhathon 대회\\\\데이터\\\\httpsblog.naver.comjiangli197580183878314\\\\모송론.txt' mode='r' encoding='UTF-8'>\n",
      "<_io.TextIOWrapper name='C:\\\\Users\\\\LG\\\\Desktop\\\\딥러닝\\\\제3회 AI X Bookhathon 대회\\\\데이터\\\\httpsblog.naver.comjiangli197580183878314\\\\목계신선.txt' mode='r' encoding='UTF-8'>\n",
      "<_io.TextIOWrapper name='C:\\\\Users\\\\LG\\\\Desktop\\\\딥러닝\\\\제3회 AI X Bookhathon 대회\\\\데이터\\\\httpsblog.naver.comjiangli197580183878314\\\\무궁화.txt' mode='r' encoding='UTF-8'>\n",
      "<_io.TextIOWrapper name='C:\\\\Users\\\\LG\\\\Desktop\\\\딥러닝\\\\제3회 AI X Bookhathon 대회\\\\데이터\\\\httpsblog.naver.comjiangli197580183878314\\\\무소유.txt' mode='r' encoding='UTF-8'>\n",
      "<_io.TextIOWrapper name='C:\\\\Users\\\\LG\\\\Desktop\\\\딥러닝\\\\제3회 AI X Bookhathon 대회\\\\데이터\\\\httpsblog.naver.comjiangli197580183878314\\\\물.txt' mode='r' encoding='UTF-8'>\n",
      "<_io.TextIOWrapper name='C:\\\\Users\\\\LG\\\\Desktop\\\\딥러닝\\\\제3회 AI X Bookhathon 대회\\\\데이터\\\\httpsblog.naver.comjiangli197580183878314\\\\반어법의 명수.txt' mode='r' encoding='UTF-8'>\n",
      "<_io.TextIOWrapper name='C:\\\\Users\\\\LG\\\\Desktop\\\\딥러닝\\\\제3회 AI X Bookhathon 대회\\\\데이터\\\\httpsblog.naver.comjiangli197580183878314\\\\보리.txt' mode='r' encoding='UTF-8'>\n",
      "<_io.TextIOWrapper name='C:\\\\Users\\\\LG\\\\Desktop\\\\딥러닝\\\\제3회 AI X Bookhathon 대회\\\\데이터\\\\httpsblog.naver.comjiangli197580183878314\\\\봄.txt' mode='r' encoding='UTF-8'>\n",
      "<_io.TextIOWrapper name='C:\\\\Users\\\\LG\\\\Desktop\\\\딥러닝\\\\제3회 AI X Bookhathon 대회\\\\데이터\\\\httpsblog.naver.comjiangli197580183878314\\\\부끄러움.txt' mode='r' encoding='UTF-8'>\n",
      "<_io.TextIOWrapper name='C:\\\\Users\\\\LG\\\\Desktop\\\\딥러닝\\\\제3회 AI X Bookhathon 대회\\\\데이터\\\\httpsblog.naver.comjiangli197580183878314\\\\사치의 바벨탑.txt' mode='r' encoding='UTF-8'>\n",
      "<_io.TextIOWrapper name='C:\\\\Users\\\\LG\\\\Desktop\\\\딥러닝\\\\제3회 AI X Bookhathon 대회\\\\데이터\\\\httpsblog.naver.comjiangli197580183878314\\\\산정무한.txt' mode='r' encoding='UTF-8'>\n",
      "<_io.TextIOWrapper name='C:\\\\Users\\\\LG\\\\Desktop\\\\딥러닝\\\\제3회 AI X Bookhathon 대회\\\\데이터\\\\httpsblog.naver.comjiangli197580183878314\\\\삶의 광택.txt' mode='r' encoding='UTF-8'>\n",
      "<_io.TextIOWrapper name='C:\\\\Users\\\\LG\\\\Desktop\\\\딥러닝\\\\제3회 AI X Bookhathon 대회\\\\데이터\\\\httpsblog.naver.comjiangli197580183878314\\\\생활인의 철학.txt' mode='r' encoding='UTF-8'>\n",
      "<_io.TextIOWrapper name='C:\\\\Users\\\\LG\\\\Desktop\\\\딥러닝\\\\제3회 AI X Bookhathon 대회\\\\데이터\\\\httpsblog.naver.comjiangli197580183878314\\\\설해목.txt' mode='r' encoding='UTF-8'>\n",
      "<_io.TextIOWrapper name='C:\\\\Users\\\\LG\\\\Desktop\\\\딥러닝\\\\제3회 AI X Bookhathon 대회\\\\데이터\\\\httpsblog.naver.comjiangli197580183878314\\\\수필.txt' mode='r' encoding='UTF-8'>\n",
      "<_io.TextIOWrapper name='C:\\\\Users\\\\LG\\\\Desktop\\\\딥러닝\\\\제3회 AI X Bookhathon 대회\\\\데이터\\\\httpsblog.naver.comjiangli197580183878314\\\\수필의 철학성.txt' mode='r' encoding='UTF-8'>\n",
      "<_io.TextIOWrapper name='C:\\\\Users\\\\LG\\\\Desktop\\\\딥러닝\\\\제3회 AI X Bookhathon 대회\\\\데이터\\\\httpsblog.naver.comjiangli197580183878314\\\\수학이 모르는 지혜.txt' mode='r' encoding='UTF-8'>\n",
      "<_io.TextIOWrapper name='C:\\\\Users\\\\LG\\\\Desktop\\\\딥러닝\\\\제3회 AI X Bookhathon 대회\\\\데이터\\\\httpsblog.naver.comjiangli197580183878314\\\\숨어서 피는 꽃.txt' mode='r' encoding='UTF-8'>\n",
      "<_io.TextIOWrapper name='C:\\\\Users\\\\LG\\\\Desktop\\\\딥러닝\\\\제3회 AI X Bookhathon 대회\\\\데이터\\\\httpsblog.naver.comjiangli197580183878314\\\\슬픔에 관하여.txt' mode='r' encoding='UTF-8'>\n",
      "<_io.TextIOWrapper name='C:\\\\Users\\\\LG\\\\Desktop\\\\딥러닝\\\\제3회 AI X Bookhathon 대회\\\\데이터\\\\httpsblog.naver.comjiangli197580183878314\\\\아리랑과 정선.txt' mode='r' encoding='UTF-8'>\n",
      "<_io.TextIOWrapper name='C:\\\\Users\\\\LG\\\\Desktop\\\\딥러닝\\\\제3회 AI X Bookhathon 대회\\\\데이터\\\\httpsblog.naver.comjiangli197580183878314\\\\어머니.txt' mode='r' encoding='UTF-8'>\n",
      "<_io.TextIOWrapper name='C:\\\\Users\\\\LG\\\\Desktop\\\\딥러닝\\\\제3회 AI X Bookhathon 대회\\\\데이터\\\\httpsblog.naver.comjiangli197580183878314\\\\얼굴.txt' mode='r' encoding='UTF-8'>\n",
      "<_io.TextIOWrapper name='C:\\\\Users\\\\LG\\\\Desktop\\\\딥러닝\\\\제3회 AI X Bookhathon 대회\\\\데이터\\\\httpsblog.naver.comjiangli197580183878314\\\\옛 절터를 찾아.txt' mode='r' encoding='UTF-8'>\n",
      "<_io.TextIOWrapper name='C:\\\\Users\\\\LG\\\\Desktop\\\\딥러닝\\\\제3회 AI X Bookhathon 대회\\\\데이터\\\\httpsblog.naver.comjiangli197580183878314\\\\오월.txt' mode='r' encoding='UTF-8'>\n",
      "<_io.TextIOWrapper name='C:\\\\Users\\\\LG\\\\Desktop\\\\딥러닝\\\\제3회 AI X Bookhathon 대회\\\\데이터\\\\httpsblog.naver.comjiangli197580183878314\\\\올드 시타람.txt' mode='r' encoding='UTF-8'>\n",
      "<_io.TextIOWrapper name='C:\\\\Users\\\\LG\\\\Desktop\\\\딥러닝\\\\제3회 AI X Bookhathon 대회\\\\데이터\\\\httpsblog.naver.comjiangli197580183878314\\\\욕설의 리얼리즘.txt' mode='r' encoding='UTF-8'>\n",
      "<_io.TextIOWrapper name='C:\\\\Users\\\\LG\\\\Desktop\\\\딥러닝\\\\제3회 AI X Bookhathon 대회\\\\데이터\\\\httpsblog.naver.comjiangli197580183878314\\\\우덕송.txt' mode='r' encoding='UTF-8'>\n",
      "<_io.TextIOWrapper name='C:\\\\Users\\\\LG\\\\Desktop\\\\딥러닝\\\\제3회 AI X Bookhathon 대회\\\\데이터\\\\httpsblog.naver.comjiangli197580183878314\\\\웃음에 대하여.txt' mode='r' encoding='UTF-8'>\n",
      "<_io.TextIOWrapper name='C:\\\\Users\\\\LG\\\\Desktop\\\\딥러닝\\\\제3회 AI X Bookhathon 대회\\\\데이터\\\\httpsblog.naver.comjiangli197580183878314\\\\은전 한 닢.txt' mode='r' encoding='UTF-8'>\n",
      "<_io.TextIOWrapper name='C:\\\\Users\\\\LG\\\\Desktop\\\\딥러닝\\\\제3회 AI X Bookhathon 대회\\\\데이터\\\\httpsblog.naver.comjiangli197580183878314\\\\이야기.txt' mode='r' encoding='UTF-8'>\n",
      "<_io.TextIOWrapper name='C:\\\\Users\\\\LG\\\\Desktop\\\\딥러닝\\\\제3회 AI X Bookhathon 대회\\\\데이터\\\\httpsblog.naver.comjiangli197580183878314\\\\인생의 묘미.txt' mode='r' encoding='UTF-8'>\n",
      "<_io.TextIOWrapper name='C:\\\\Users\\\\LG\\\\Desktop\\\\딥러닝\\\\제3회 AI X Bookhathon 대회\\\\데이터\\\\httpsblog.naver.comjiangli197580183878314\\\\잃어버린 동화.txt' mode='r' encoding='UTF-8'>\n",
      "<_io.TextIOWrapper name='C:\\\\Users\\\\LG\\\\Desktop\\\\딥러닝\\\\제3회 AI X Bookhathon 대회\\\\데이터\\\\httpsblog.naver.comjiangli197580183878314\\\\자장면.txt' mode='r' encoding='UTF-8'>\n",
      "<_io.TextIOWrapper name='C:\\\\Users\\\\LG\\\\Desktop\\\\딥러닝\\\\제3회 AI X Bookhathon 대회\\\\데이터\\\\httpsblog.naver.comjiangli197580183878314\\\\조화.txt' mode='r' encoding='UTF-8'>\n",
      "<_io.TextIOWrapper name='C:\\\\Users\\\\LG\\\\Desktop\\\\딥러닝\\\\제3회 AI X Bookhathon 대회\\\\데이터\\\\httpsblog.naver.comjiangli197580183878314\\\\지조론.txt' mode='r' encoding='UTF-8'>\n",
      "<_io.TextIOWrapper name='C:\\\\Users\\\\LG\\\\Desktop\\\\딥러닝\\\\제3회 AI X Bookhathon 대회\\\\데이터\\\\httpsblog.naver.comjiangli197580183878314\\\\철학의 여백.txt' mode='r' encoding='UTF-8'>\n",
      "<_io.TextIOWrapper name='C:\\\\Users\\\\LG\\\\Desktop\\\\딥러닝\\\\제3회 AI X Bookhathon 대회\\\\데이터\\\\httpsblog.naver.comjiangli197580183878314\\\\청춘예찬.txt' mode='r' encoding='UTF-8'>\n",
      "<_io.TextIOWrapper name='C:\\\\Users\\\\LG\\\\Desktop\\\\딥러닝\\\\제3회 AI X Bookhathon 대회\\\\데이터\\\\httpsblog.naver.comjiangli197580183878314\\\\초승달이 질 때.txt' mode='r' encoding='UTF-8'>\n",
      "<_io.TextIOWrapper name='C:\\\\Users\\\\LG\\\\Desktop\\\\딥러닝\\\\제3회 AI X Bookhathon 대회\\\\데이터\\\\httpsblog.naver.comjiangli197580183878314\\\\추사글씨.txt' mode='r' encoding='UTF-8'>\n",
      "<_io.TextIOWrapper name='C:\\\\Users\\\\LG\\\\Desktop\\\\딥러닝\\\\제3회 AI X Bookhathon 대회\\\\데이터\\\\httpsblog.naver.comjiangli197580183878314\\\\특급품.txt' mode='r' encoding='UTF-8'>\n",
      "<_io.TextIOWrapper name='C:\\\\Users\\\\LG\\\\Desktop\\\\딥러닝\\\\제3회 AI X Bookhathon 대회\\\\데이터\\\\httpsblog.naver.comjiangli197580183878314\\\\파초.txt' mode='r' encoding='UTF-8'>\n",
      "<_io.TextIOWrapper name='C:\\\\Users\\\\LG\\\\Desktop\\\\딥러닝\\\\제3회 AI X Bookhathon 대회\\\\데이터\\\\httpsblog.naver.comjiangli197580183878314\\\\폭포와 분수.txt' mode='r' encoding='UTF-8'>\n",
      "<_io.TextIOWrapper name='C:\\\\Users\\\\LG\\\\Desktop\\\\딥러닝\\\\제3회 AI X Bookhathon 대회\\\\데이터\\\\httpsblog.naver.comjiangli197580183878314\\\\풍경 뒤에 있는 것.txt' mode='r' encoding='UTF-8'>\n",
      "<_io.TextIOWrapper name='C:\\\\Users\\\\LG\\\\Desktop\\\\딥러닝\\\\제3회 AI X Bookhathon 대회\\\\데이터\\\\httpsblog.naver.comjiangli197580183878314\\\\풍란.txt' mode='r' encoding='UTF-8'>\n",
      "<_io.TextIOWrapper name='C:\\\\Users\\\\LG\\\\Desktop\\\\딥러닝\\\\제3회 AI X Bookhathon 대회\\\\데이터\\\\httpsblog.naver.comjiangli197580183878314\\\\플루트 연주자.txt' mode='r' encoding='UTF-8'>\n",
      "<_io.TextIOWrapper name='C:\\\\Users\\\\LG\\\\Desktop\\\\딥러닝\\\\제3회 AI X Bookhathon 대회\\\\데이터\\\\httpsblog.naver.comjiangli197580183878314\\\\피땀 문답.txt' mode='r' encoding='UTF-8'>\n",
      "<_io.TextIOWrapper name='C:\\\\Users\\\\LG\\\\Desktop\\\\딥러닝\\\\제3회 AI X Bookhathon 대회\\\\데이터\\\\httpsblog.naver.comjiangli197580183878314\\\\하나의 풍경.txt' mode='r' encoding='UTF-8'>\n",
      "<_io.TextIOWrapper name='C:\\\\Users\\\\LG\\\\Desktop\\\\딥러닝\\\\제3회 AI X Bookhathon 대회\\\\데이터\\\\httpsblog.naver.comjiangli197580183878314\\\\한여름 밤에.txt' mode='r' encoding='UTF-8'>\n",
      "<_io.TextIOWrapper name='C:\\\\Users\\\\LG\\\\Desktop\\\\딥러닝\\\\제3회 AI X Bookhathon 대회\\\\데이터\\\\httpsblog.naver.comjiangli197580183878314\\\\함께 있고 싶어서.txt' mode='r' encoding='UTF-8'>\n",
      "<_io.TextIOWrapper name='C:\\\\Users\\\\LG\\\\Desktop\\\\딥러닝\\\\제3회 AI X Bookhathon 대회\\\\데이터\\\\httpsblog.naver.comjiangli197580183878314\\\\해학송.txt' mode='r' encoding='UTF-8'>\n",
      "<_io.TextIOWrapper name='C:\\\\Users\\\\LG\\\\Desktop\\\\딥러닝\\\\제3회 AI X Bookhathon 대회\\\\데이터\\\\httpsblog.naver.comjiangli197580183878314\\\\행복의 메타포.txt' mode='r' encoding='UTF-8'>\n",
      "<_io.TextIOWrapper name='C:\\\\Users\\\\LG\\\\Desktop\\\\딥러닝\\\\제3회 AI X Bookhathon 대회\\\\데이터\\\\httpsblog.naver.comjiangli197580183878314\\\\황포탄의 추석.txt' mode='r' encoding='UTF-8'>\n"
     ]
    }
   ],
   "source": [
    "import os\n",
    "import re\n",
    "import csv\n",
    "\n",
    "directory = \"C:\\\\Users\\\\LG\\\\Desktop\\\\딥러닝\\\\제3회 AI X Bookhathon 대회\\\\데이터\\\\httpsblog.naver.comjiangli197580183878314\\\\\"\n",
    "file_name = 'integrated_essay.csv'\n",
    "\n",
    "final_file = open(file_name, 'w', -1, 'UTF-8', newline = '')\n",
    "wr = csv.writer(final_file)\n",
    "\n",
    "files = os.listdir(directory)\n",
    "\n",
    "#remove = re.sub('(.)')\n",
    "\n",
    "for filename in files:\n",
    "    lst = []\n",
    "    lst_temp = []\n",
    "    if \".txt\" not in filename:\n",
    "        continue\n",
    "    file = open(directory + filename, 'r', encoding = 'UTF-8')\n",
    "    print(file)\n",
    "    for line in file:\n",
    "        line = re.sub(r'\\([^)]*\\)', '', line)\n",
    "        lst.append(line)\n",
    "        wr.writerow(lst)\n",
    "        lst = lst_temp\n",
    "    file.close()\n",
    "#final_file.write('')\n",
    "final_file.close()"
   ]
  },
  {
   "cell_type": "code",
   "execution_count": 60,
   "id": "1a1ed151-56e3-4d26-b193-e55b1c68f48e",
   "metadata": {
    "jupyter": {
     "source_hidden": true
    },
    "tags": []
   },
   "outputs": [],
   "source": [
    "import os\n",
    "import re\n",
    "import csv\n",
    "\n",
    "directory = \"C:\\\\Users\\\\LG\\\\Desktop\\\\딥러닝\\\\제3회 AI X Bookhathon 대회\\\\데이터\\\\httpsblog.naver.comjiangli197580183878314\\\\\"\n",
    "file_name = 'integrated_essay.csv'\n",
    "\n",
    "final_file = open(file_name, 'w', -1, 'UTF-8', newline = '')\n",
    "wr = csv.writer(final_file)\n",
    "\n",
    "files = os.listdir(directory)\n",
    "\n",
    "#remove = re.sub('(.)')\n",
    "\n",
    "for filename in files:\n",
    "    if \".txt\" not in filename:\n",
    "        continue\n",
    "    file = open(directory + filename, 'r', encoding = 'UTF-8')\n",
    "    #print(file)\n",
    "    for line in file:\n",
    "        line = re.sub(r'\\([^)]*\\)', '', line)\n",
    "        wr.writerow(line)\n",
    "    file.close()\n",
    "#final_file.write('')\n",
    "final_file.close()"
   ]
  },
  {
   "cell_type": "code",
   "execution_count": 49,
   "id": "ae1d1759-6b35-4b48-842a-e78d72e844b0",
   "metadata": {},
   "outputs": [
    {
     "name": "stdout",
     "output_type": "stream",
     "text": [
      "hahaha(하쿠나마타타)alekjlgkajglk(abcd禹)\n",
      "hahahaalekjlgkajglk\n"
     ]
    }
   ],
   "source": [
    "re_text = 'hahaha(하쿠나마타타)alekjlgkajglk(abcd禹)'\n",
    "print(re_text)\n",
    "print(re.sub(r'\\([^)]*\\)', '', re_text))"
   ]
  },
  {
   "cell_type": "code",
   "execution_count": null,
   "id": "9f5b6dc0-de95-4f74-9f3f-7ab9c94fe281",
   "metadata": {},
   "outputs": [],
   "source": []
  }
 ],
 "metadata": {
  "kernelspec": {
   "display_name": "Python 3",
   "language": "python",
   "name": "python3"
  },
  "language_info": {
   "codemirror_mode": {
    "name": "ipython",
    "version": 3
   },
   "file_extension": ".py",
   "mimetype": "text/x-python",
   "name": "python",
   "nbconvert_exporter": "python",
   "pygments_lexer": "ipython3",
   "version": "3.8.8"
  }
 },
 "nbformat": 4,
 "nbformat_minor": 5
}
