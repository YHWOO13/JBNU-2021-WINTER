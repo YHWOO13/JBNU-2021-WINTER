{
 "cells": [
  {
   "cell_type": "code",
   "execution_count": 1,
   "metadata": {},
   "outputs": [],
   "source": [
    "import textract\n",
    "import glob"
   ]
  },
  {
   "cell_type": "code",
   "execution_count": 2,
   "metadata": {},
   "outputs": [],
   "source": [
    "files = glob.glob(\"./*.pdf\")"
   ]
  },
  {
   "cell_type": "code",
   "execution_count": 13,
   "metadata": {},
   "outputs": [
    {
     "ename": "KeyboardInterrupt",
     "evalue": "",
     "output_type": "error",
     "traceback": [
      "\u001b[0;31m---------------------------------------------------------------------------\u001b[0m",
      "\u001b[0;31mFileNotFoundError\u001b[0m                         Traceback (most recent call last)",
      "\u001b[0;32m/Library/Frameworks/Python.framework/Versions/3.7/lib/python3.7/site-packages/textract/parsers/utils.py\u001b[0m in \u001b[0;36mrun\u001b[0;34m(self, args)\u001b[0m\n\u001b[1;32m     83\u001b[0m                 \u001b[0margs\u001b[0m\u001b[0;34m,\u001b[0m\u001b[0;34m\u001b[0m\u001b[0;34m\u001b[0m\u001b[0m\n\u001b[0;32m---> 84\u001b[0;31m                 \u001b[0mstdout\u001b[0m\u001b[0;34m=\u001b[0m\u001b[0msubprocess\u001b[0m\u001b[0;34m.\u001b[0m\u001b[0mPIPE\u001b[0m\u001b[0;34m,\u001b[0m \u001b[0mstderr\u001b[0m\u001b[0;34m=\u001b[0m\u001b[0msubprocess\u001b[0m\u001b[0;34m.\u001b[0m\u001b[0mPIPE\u001b[0m\u001b[0;34m,\u001b[0m\u001b[0;34m\u001b[0m\u001b[0;34m\u001b[0m\u001b[0m\n\u001b[0m\u001b[1;32m     85\u001b[0m             )\n",
      "\u001b[0;32m/Library/Frameworks/Python.framework/Versions/3.7/lib/python3.7/subprocess.py\u001b[0m in \u001b[0;36m__init__\u001b[0;34m(self, args, bufsize, executable, stdin, stdout, stderr, preexec_fn, close_fds, shell, cwd, env, universal_newlines, startupinfo, creationflags, restore_signals, start_new_session, pass_fds, encoding, errors, text)\u001b[0m\n\u001b[1;32m    799\u001b[0m                                 \u001b[0merrread\u001b[0m\u001b[0;34m,\u001b[0m \u001b[0merrwrite\u001b[0m\u001b[0;34m,\u001b[0m\u001b[0;34m\u001b[0m\u001b[0;34m\u001b[0m\u001b[0m\n\u001b[0;32m--> 800\u001b[0;31m                                 restore_signals, start_new_session)\n\u001b[0m\u001b[1;32m    801\u001b[0m         \u001b[0;32mexcept\u001b[0m\u001b[0;34m:\u001b[0m\u001b[0;34m\u001b[0m\u001b[0;34m\u001b[0m\u001b[0m\n",
      "\u001b[0;32m/Library/Frameworks/Python.framework/Versions/3.7/lib/python3.7/subprocess.py\u001b[0m in \u001b[0;36m_execute_child\u001b[0;34m(self, args, executable, preexec_fn, close_fds, pass_fds, cwd, env, startupinfo, creationflags, shell, p2cread, p2cwrite, c2pread, c2pwrite, errread, errwrite, restore_signals, start_new_session)\u001b[0m\n\u001b[1;32m   1550\u001b[0m                             \u001b[0merr_msg\u001b[0m \u001b[0;34m+=\u001b[0m \u001b[0;34m': '\u001b[0m \u001b[0;34m+\u001b[0m \u001b[0mrepr\u001b[0m\u001b[0;34m(\u001b[0m\u001b[0merr_filename\u001b[0m\u001b[0;34m)\u001b[0m\u001b[0;34m\u001b[0m\u001b[0;34m\u001b[0m\u001b[0m\n\u001b[0;32m-> 1551\u001b[0;31m                     \u001b[0;32mraise\u001b[0m \u001b[0mchild_exception_type\u001b[0m\u001b[0;34m(\u001b[0m\u001b[0merrno_num\u001b[0m\u001b[0;34m,\u001b[0m \u001b[0merr_msg\u001b[0m\u001b[0;34m,\u001b[0m \u001b[0merr_filename\u001b[0m\u001b[0;34m)\u001b[0m\u001b[0;34m\u001b[0m\u001b[0;34m\u001b[0m\u001b[0m\n\u001b[0m\u001b[1;32m   1552\u001b[0m                 \u001b[0;32mraise\u001b[0m \u001b[0mchild_exception_type\u001b[0m\u001b[0;34m(\u001b[0m\u001b[0merr_msg\u001b[0m\u001b[0;34m)\u001b[0m\u001b[0;34m\u001b[0m\u001b[0;34m\u001b[0m\u001b[0m\n",
      "\u001b[0;31mFileNotFoundError\u001b[0m: [Errno 2] No such file or directory: 'pdftotext': 'pdftotext'",
      "\nDuring handling of the above exception, another exception occurred:\n",
      "\u001b[0;31mShellError\u001b[0m                                Traceback (most recent call last)",
      "\u001b[0;32m/Library/Frameworks/Python.framework/Versions/3.7/lib/python3.7/site-packages/textract/parsers/pdf_parser.py\u001b[0m in \u001b[0;36mextract\u001b[0;34m(self, filename, method, **kwargs)\u001b[0m\n\u001b[1;32m     19\u001b[0m             \u001b[0;32mtry\u001b[0m\u001b[0;34m:\u001b[0m\u001b[0;34m\u001b[0m\u001b[0;34m\u001b[0m\u001b[0m\n\u001b[0;32m---> 20\u001b[0;31m                 \u001b[0;32mreturn\u001b[0m \u001b[0mself\u001b[0m\u001b[0;34m.\u001b[0m\u001b[0mextract_pdftotext\u001b[0m\u001b[0;34m(\u001b[0m\u001b[0mfilename\u001b[0m\u001b[0;34m,\u001b[0m \u001b[0;34m**\u001b[0m\u001b[0mkwargs\u001b[0m\u001b[0;34m)\u001b[0m\u001b[0;34m\u001b[0m\u001b[0;34m\u001b[0m\u001b[0m\n\u001b[0m\u001b[1;32m     21\u001b[0m             \u001b[0;32mexcept\u001b[0m \u001b[0mShellError\u001b[0m \u001b[0;32mas\u001b[0m \u001b[0mex\u001b[0m\u001b[0;34m:\u001b[0m\u001b[0;34m\u001b[0m\u001b[0;34m\u001b[0m\u001b[0m\n",
      "\u001b[0;32m/Library/Frameworks/Python.framework/Versions/3.7/lib/python3.7/site-packages/textract/parsers/pdf_parser.py\u001b[0m in \u001b[0;36mextract_pdftotext\u001b[0;34m(self, filename, **kwargs)\u001b[0m\n\u001b[1;32m     42\u001b[0m             \u001b[0margs\u001b[0m \u001b[0;34m=\u001b[0m \u001b[0;34m[\u001b[0m\u001b[0;34m'pdftotext'\u001b[0m\u001b[0;34m,\u001b[0m \u001b[0mfilename\u001b[0m\u001b[0;34m,\u001b[0m \u001b[0;34m'-'\u001b[0m\u001b[0;34m]\u001b[0m\u001b[0;34m\u001b[0m\u001b[0;34m\u001b[0m\u001b[0m\n\u001b[0;32m---> 43\u001b[0;31m         \u001b[0mstdout\u001b[0m\u001b[0;34m,\u001b[0m \u001b[0m_\u001b[0m \u001b[0;34m=\u001b[0m \u001b[0mself\u001b[0m\u001b[0;34m.\u001b[0m\u001b[0mrun\u001b[0m\u001b[0;34m(\u001b[0m\u001b[0margs\u001b[0m\u001b[0;34m)\u001b[0m\u001b[0;34m\u001b[0m\u001b[0;34m\u001b[0m\u001b[0m\n\u001b[0m\u001b[1;32m     44\u001b[0m         \u001b[0;32mreturn\u001b[0m \u001b[0mstdout\u001b[0m\u001b[0;34m\u001b[0m\u001b[0;34m\u001b[0m\u001b[0m\n",
      "\u001b[0;32m/Library/Frameworks/Python.framework/Versions/3.7/lib/python3.7/site-packages/textract/parsers/utils.py\u001b[0m in \u001b[0;36mrun\u001b[0;34m(self, args)\u001b[0m\n\u001b[1;32m     90\u001b[0m                 raise exceptions.ShellError(\n\u001b[0;32m---> 91\u001b[0;31m                     \u001b[0;34m' '\u001b[0m\u001b[0;34m.\u001b[0m\u001b[0mjoin\u001b[0m\u001b[0;34m(\u001b[0m\u001b[0margs\u001b[0m\u001b[0;34m)\u001b[0m\u001b[0;34m,\u001b[0m \u001b[0;36m127\u001b[0m\u001b[0;34m,\u001b[0m \u001b[0;34m''\u001b[0m\u001b[0;34m,\u001b[0m \u001b[0;34m''\u001b[0m\u001b[0;34m,\u001b[0m\u001b[0;34m\u001b[0m\u001b[0;34m\u001b[0m\u001b[0m\n\u001b[0m\u001b[1;32m     92\u001b[0m                 )\n",
      "\u001b[0;31mShellError\u001b[0m: The command `pdftotext ./이광수-어린 벗에게.pdf -` failed because the executable\n`pdftotext` is not installed on your system. Please make\nsure the appropriate dependencies are installed before using\ntextract:\n\n    http://textract.readthedocs.org/en/latest/installation.html\n",
      "\nDuring handling of the above exception, another exception occurred:\n",
      "\u001b[0;31mKeyboardInterrupt\u001b[0m                         Traceback (most recent call last)",
      "\u001b[0;32m<ipython-input-13-b3f2b1dfb12b>\u001b[0m in \u001b[0;36m<module>\u001b[0;34m\u001b[0m\n\u001b[1;32m      1\u001b[0m \u001b[0mtext_list\u001b[0m \u001b[0;34m=\u001b[0m \u001b[0;34m[\u001b[0m\u001b[0;34m]\u001b[0m\u001b[0;34m\u001b[0m\u001b[0;34m\u001b[0m\u001b[0m\n\u001b[1;32m      2\u001b[0m \u001b[0;32mfor\u001b[0m \u001b[0mfile\u001b[0m \u001b[0;32min\u001b[0m \u001b[0mfiles\u001b[0m\u001b[0;34m:\u001b[0m\u001b[0;34m\u001b[0m\u001b[0;34m\u001b[0m\u001b[0m\n\u001b[0;32m----> 3\u001b[0;31m     \u001b[0mtext\u001b[0m \u001b[0;34m=\u001b[0m \u001b[0mtextract\u001b[0m\u001b[0;34m.\u001b[0m\u001b[0mprocess\u001b[0m\u001b[0;34m(\u001b[0m\u001b[0mfile\u001b[0m\u001b[0;34m)\u001b[0m\u001b[0;34m.\u001b[0m\u001b[0mdecode\u001b[0m\u001b[0;34m(\u001b[0m\u001b[0;34m'utf-8'\u001b[0m\u001b[0;34m)\u001b[0m\u001b[0;34m\u001b[0m\u001b[0;34m\u001b[0m\u001b[0m\n\u001b[0m\u001b[1;32m      4\u001b[0m     \u001b[0mtext_list\u001b[0m\u001b[0;34m.\u001b[0m\u001b[0mappend\u001b[0m\u001b[0;34m(\u001b[0m\u001b[0mtext\u001b[0m\u001b[0;34m)\u001b[0m\u001b[0;34m\u001b[0m\u001b[0;34m\u001b[0m\u001b[0m\n",
      "\u001b[0;32m/Library/Frameworks/Python.framework/Versions/3.7/lib/python3.7/site-packages/textract/parsers/__init__.py\u001b[0m in \u001b[0;36mprocess\u001b[0;34m(filename, encoding, extension, **kwargs)\u001b[0m\n\u001b[1;32m     75\u001b[0m \u001b[0;34m\u001b[0m\u001b[0m\n\u001b[1;32m     76\u001b[0m     \u001b[0mparser\u001b[0m \u001b[0;34m=\u001b[0m \u001b[0mfiletype_module\u001b[0m\u001b[0;34m.\u001b[0m\u001b[0mParser\u001b[0m\u001b[0;34m(\u001b[0m\u001b[0;34m)\u001b[0m\u001b[0;34m\u001b[0m\u001b[0;34m\u001b[0m\u001b[0m\n\u001b[0;32m---> 77\u001b[0;31m     \u001b[0;32mreturn\u001b[0m \u001b[0mparser\u001b[0m\u001b[0;34m.\u001b[0m\u001b[0mprocess\u001b[0m\u001b[0;34m(\u001b[0m\u001b[0mfilename\u001b[0m\u001b[0;34m,\u001b[0m \u001b[0mencoding\u001b[0m\u001b[0;34m,\u001b[0m \u001b[0;34m**\u001b[0m\u001b[0mkwargs\u001b[0m\u001b[0;34m)\u001b[0m\u001b[0;34m\u001b[0m\u001b[0;34m\u001b[0m\u001b[0m\n\u001b[0m\u001b[1;32m     78\u001b[0m \u001b[0;34m\u001b[0m\u001b[0m\n\u001b[1;32m     79\u001b[0m \u001b[0;34m\u001b[0m\u001b[0m\n",
      "\u001b[0;32m/Library/Frameworks/Python.framework/Versions/3.7/lib/python3.7/site-packages/textract/parsers/utils.py\u001b[0m in \u001b[0;36mprocess\u001b[0;34m(self, filename, encoding, **kwargs)\u001b[0m\n\u001b[1;32m     44\u001b[0m         \u001b[0;31m# output encoding\u001b[0m\u001b[0;34m\u001b[0m\u001b[0;34m\u001b[0m\u001b[0;34m\u001b[0m\u001b[0m\n\u001b[1;32m     45\u001b[0m         \u001b[0;31m# http://nedbatchelder.com/text/unipain/unipain.html#35\u001b[0m\u001b[0;34m\u001b[0m\u001b[0;34m\u001b[0m\u001b[0;34m\u001b[0m\u001b[0m\n\u001b[0;32m---> 46\u001b[0;31m         \u001b[0mbyte_string\u001b[0m \u001b[0;34m=\u001b[0m \u001b[0mself\u001b[0m\u001b[0;34m.\u001b[0m\u001b[0mextract\u001b[0m\u001b[0;34m(\u001b[0m\u001b[0mfilename\u001b[0m\u001b[0;34m,\u001b[0m \u001b[0;34m**\u001b[0m\u001b[0mkwargs\u001b[0m\u001b[0;34m)\u001b[0m\u001b[0;34m\u001b[0m\u001b[0;34m\u001b[0m\u001b[0m\n\u001b[0m\u001b[1;32m     47\u001b[0m         \u001b[0municode_string\u001b[0m \u001b[0;34m=\u001b[0m \u001b[0mself\u001b[0m\u001b[0;34m.\u001b[0m\u001b[0mdecode\u001b[0m\u001b[0;34m(\u001b[0m\u001b[0mbyte_string\u001b[0m\u001b[0;34m)\u001b[0m\u001b[0;34m\u001b[0m\u001b[0;34m\u001b[0m\u001b[0m\n\u001b[1;32m     48\u001b[0m         \u001b[0;32mreturn\u001b[0m \u001b[0mself\u001b[0m\u001b[0;34m.\u001b[0m\u001b[0mencode\u001b[0m\u001b[0;34m(\u001b[0m\u001b[0municode_string\u001b[0m\u001b[0;34m,\u001b[0m \u001b[0mencoding\u001b[0m\u001b[0;34m)\u001b[0m\u001b[0;34m\u001b[0m\u001b[0;34m\u001b[0m\u001b[0m\n",
      "\u001b[0;32m/Library/Frameworks/Python.framework/Versions/3.7/lib/python3.7/site-packages/textract/parsers/pdf_parser.py\u001b[0m in \u001b[0;36mextract\u001b[0;34m(self, filename, method, **kwargs)\u001b[0m\n\u001b[1;32m     24\u001b[0m                 \u001b[0;31m# pdfminer instead.\u001b[0m\u001b[0;34m\u001b[0m\u001b[0;34m\u001b[0m\u001b[0;34m\u001b[0m\u001b[0m\n\u001b[1;32m     25\u001b[0m                 \u001b[0;32mif\u001b[0m \u001b[0mmethod\u001b[0m \u001b[0;34m==\u001b[0m \u001b[0;34m''\u001b[0m \u001b[0;32mand\u001b[0m \u001b[0mex\u001b[0m\u001b[0;34m.\u001b[0m\u001b[0mis_not_installed\u001b[0m\u001b[0;34m(\u001b[0m\u001b[0;34m)\u001b[0m\u001b[0;34m:\u001b[0m\u001b[0;34m\u001b[0m\u001b[0;34m\u001b[0m\u001b[0m\n\u001b[0;32m---> 26\u001b[0;31m                     \u001b[0;32mreturn\u001b[0m \u001b[0mself\u001b[0m\u001b[0;34m.\u001b[0m\u001b[0mextract_pdfminer\u001b[0m\u001b[0;34m(\u001b[0m\u001b[0mfilename\u001b[0m\u001b[0;34m,\u001b[0m \u001b[0;34m**\u001b[0m\u001b[0mkwargs\u001b[0m\u001b[0;34m)\u001b[0m\u001b[0;34m\u001b[0m\u001b[0;34m\u001b[0m\u001b[0m\n\u001b[0m\u001b[1;32m     27\u001b[0m                 \u001b[0;32melse\u001b[0m\u001b[0;34m:\u001b[0m\u001b[0;34m\u001b[0m\u001b[0;34m\u001b[0m\u001b[0m\n\u001b[1;32m     28\u001b[0m                     \u001b[0;32mraise\u001b[0m \u001b[0mex\u001b[0m\u001b[0;34m\u001b[0m\u001b[0;34m\u001b[0m\u001b[0m\n",
      "\u001b[0;32m/Library/Frameworks/Python.framework/Versions/3.7/lib/python3.7/site-packages/textract/parsers/pdf_parser.py\u001b[0m in \u001b[0;36mextract_pdfminer\u001b[0;34m(self, filename, **kwargs)\u001b[0m\n\u001b[1;32m     46\u001b[0m     \u001b[0;32mdef\u001b[0m \u001b[0mextract_pdfminer\u001b[0m\u001b[0;34m(\u001b[0m\u001b[0mself\u001b[0m\u001b[0;34m,\u001b[0m \u001b[0mfilename\u001b[0m\u001b[0;34m,\u001b[0m \u001b[0;34m**\u001b[0m\u001b[0mkwargs\u001b[0m\u001b[0;34m)\u001b[0m\u001b[0;34m:\u001b[0m\u001b[0;34m\u001b[0m\u001b[0;34m\u001b[0m\u001b[0m\n\u001b[1;32m     47\u001b[0m         \u001b[0;34m\"\"\"Extract text from pdfs using pdfminer.\"\"\"\u001b[0m\u001b[0;34m\u001b[0m\u001b[0;34m\u001b[0m\u001b[0m\n\u001b[0;32m---> 48\u001b[0;31m         \u001b[0mstdout\u001b[0m\u001b[0;34m,\u001b[0m \u001b[0m_\u001b[0m \u001b[0;34m=\u001b[0m \u001b[0mself\u001b[0m\u001b[0;34m.\u001b[0m\u001b[0mrun\u001b[0m\u001b[0;34m(\u001b[0m\u001b[0;34m[\u001b[0m\u001b[0;34m'pdf2txt.py'\u001b[0m\u001b[0;34m,\u001b[0m \u001b[0mfilename\u001b[0m\u001b[0;34m]\u001b[0m\u001b[0;34m)\u001b[0m\u001b[0;34m\u001b[0m\u001b[0;34m\u001b[0m\u001b[0m\n\u001b[0m\u001b[1;32m     49\u001b[0m         \u001b[0;32mreturn\u001b[0m \u001b[0mstdout\u001b[0m\u001b[0;34m\u001b[0m\u001b[0;34m\u001b[0m\u001b[0m\n\u001b[1;32m     50\u001b[0m \u001b[0;34m\u001b[0m\u001b[0m\n",
      "\u001b[0;32m/Library/Frameworks/Python.framework/Versions/3.7/lib/python3.7/site-packages/textract/parsers/utils.py\u001b[0m in \u001b[0;36mrun\u001b[0;34m(self, args)\u001b[0m\n\u001b[1;32m     94\u001b[0m         \u001b[0;31m# pipe.wait() ends up hanging on large files. using\u001b[0m\u001b[0;34m\u001b[0m\u001b[0;34m\u001b[0m\u001b[0;34m\u001b[0m\u001b[0m\n\u001b[1;32m     95\u001b[0m         \u001b[0;31m# pipe.communicate appears to avoid this issue\u001b[0m\u001b[0;34m\u001b[0m\u001b[0;34m\u001b[0m\u001b[0;34m\u001b[0m\u001b[0m\n\u001b[0;32m---> 96\u001b[0;31m         \u001b[0mstdout\u001b[0m\u001b[0;34m,\u001b[0m \u001b[0mstderr\u001b[0m \u001b[0;34m=\u001b[0m \u001b[0mpipe\u001b[0m\u001b[0;34m.\u001b[0m\u001b[0mcommunicate\u001b[0m\u001b[0;34m(\u001b[0m\u001b[0;34m)\u001b[0m\u001b[0;34m\u001b[0m\u001b[0;34m\u001b[0m\u001b[0m\n\u001b[0m\u001b[1;32m     97\u001b[0m \u001b[0;34m\u001b[0m\u001b[0m\n\u001b[1;32m     98\u001b[0m         \u001b[0;31m# if pipe is busted, raise an error (unlike Fabric)\u001b[0m\u001b[0;34m\u001b[0m\u001b[0;34m\u001b[0m\u001b[0;34m\u001b[0m\u001b[0m\n",
      "\u001b[0;32m/Library/Frameworks/Python.framework/Versions/3.7/lib/python3.7/subprocess.py\u001b[0m in \u001b[0;36mcommunicate\u001b[0;34m(self, input, timeout)\u001b[0m\n\u001b[1;32m    962\u001b[0m \u001b[0;34m\u001b[0m\u001b[0m\n\u001b[1;32m    963\u001b[0m             \u001b[0;32mtry\u001b[0m\u001b[0;34m:\u001b[0m\u001b[0;34m\u001b[0m\u001b[0;34m\u001b[0m\u001b[0m\n\u001b[0;32m--> 964\u001b[0;31m                 \u001b[0mstdout\u001b[0m\u001b[0;34m,\u001b[0m \u001b[0mstderr\u001b[0m \u001b[0;34m=\u001b[0m \u001b[0mself\u001b[0m\u001b[0;34m.\u001b[0m\u001b[0m_communicate\u001b[0m\u001b[0;34m(\u001b[0m\u001b[0minput\u001b[0m\u001b[0;34m,\u001b[0m \u001b[0mendtime\u001b[0m\u001b[0;34m,\u001b[0m \u001b[0mtimeout\u001b[0m\u001b[0;34m)\u001b[0m\u001b[0;34m\u001b[0m\u001b[0;34m\u001b[0m\u001b[0m\n\u001b[0m\u001b[1;32m    965\u001b[0m             \u001b[0;32mexcept\u001b[0m \u001b[0mKeyboardInterrupt\u001b[0m\u001b[0;34m:\u001b[0m\u001b[0;34m\u001b[0m\u001b[0;34m\u001b[0m\u001b[0m\n\u001b[1;32m    966\u001b[0m                 \u001b[0;31m# https://bugs.python.org/issue25942\u001b[0m\u001b[0;34m\u001b[0m\u001b[0;34m\u001b[0m\u001b[0;34m\u001b[0m\u001b[0m\n",
      "\u001b[0;32m/Library/Frameworks/Python.framework/Versions/3.7/lib/python3.7/subprocess.py\u001b[0m in \u001b[0;36m_communicate\u001b[0;34m(self, input, endtime, orig_timeout)\u001b[0m\n\u001b[1;32m   1713\u001b[0m                             'failed to raise TimeoutExpired.')\n\u001b[1;32m   1714\u001b[0m \u001b[0;34m\u001b[0m\u001b[0m\n\u001b[0;32m-> 1715\u001b[0;31m                     \u001b[0mready\u001b[0m \u001b[0;34m=\u001b[0m \u001b[0mselector\u001b[0m\u001b[0;34m.\u001b[0m\u001b[0mselect\u001b[0m\u001b[0;34m(\u001b[0m\u001b[0mtimeout\u001b[0m\u001b[0;34m)\u001b[0m\u001b[0;34m\u001b[0m\u001b[0;34m\u001b[0m\u001b[0m\n\u001b[0m\u001b[1;32m   1716\u001b[0m                     \u001b[0mself\u001b[0m\u001b[0;34m.\u001b[0m\u001b[0m_check_timeout\u001b[0m\u001b[0;34m(\u001b[0m\u001b[0mendtime\u001b[0m\u001b[0;34m,\u001b[0m \u001b[0morig_timeout\u001b[0m\u001b[0;34m,\u001b[0m \u001b[0mstdout\u001b[0m\u001b[0;34m,\u001b[0m \u001b[0mstderr\u001b[0m\u001b[0;34m)\u001b[0m\u001b[0;34m\u001b[0m\u001b[0;34m\u001b[0m\u001b[0m\n\u001b[1;32m   1717\u001b[0m \u001b[0;34m\u001b[0m\u001b[0m\n",
      "\u001b[0;32m/Library/Frameworks/Python.framework/Versions/3.7/lib/python3.7/selectors.py\u001b[0m in \u001b[0;36mselect\u001b[0;34m(self, timeout)\u001b[0m\n\u001b[1;32m    413\u001b[0m         \u001b[0mready\u001b[0m \u001b[0;34m=\u001b[0m \u001b[0;34m[\u001b[0m\u001b[0;34m]\u001b[0m\u001b[0;34m\u001b[0m\u001b[0;34m\u001b[0m\u001b[0m\n\u001b[1;32m    414\u001b[0m         \u001b[0;32mtry\u001b[0m\u001b[0;34m:\u001b[0m\u001b[0;34m\u001b[0m\u001b[0;34m\u001b[0m\u001b[0m\n\u001b[0;32m--> 415\u001b[0;31m             \u001b[0mfd_event_list\u001b[0m \u001b[0;34m=\u001b[0m \u001b[0mself\u001b[0m\u001b[0;34m.\u001b[0m\u001b[0m_selector\u001b[0m\u001b[0;34m.\u001b[0m\u001b[0mpoll\u001b[0m\u001b[0;34m(\u001b[0m\u001b[0mtimeout\u001b[0m\u001b[0;34m)\u001b[0m\u001b[0;34m\u001b[0m\u001b[0;34m\u001b[0m\u001b[0m\n\u001b[0m\u001b[1;32m    416\u001b[0m         \u001b[0;32mexcept\u001b[0m \u001b[0mInterruptedError\u001b[0m\u001b[0;34m:\u001b[0m\u001b[0;34m\u001b[0m\u001b[0;34m\u001b[0m\u001b[0m\n\u001b[1;32m    417\u001b[0m             \u001b[0;32mreturn\u001b[0m \u001b[0mready\u001b[0m\u001b[0;34m\u001b[0m\u001b[0;34m\u001b[0m\u001b[0m\n",
      "\u001b[0;31mKeyboardInterrupt\u001b[0m: "
     ]
    }
   ],
   "source": [
    "text_list = []\n",
    "for file in files:\n",
    "    text = textract.process(file).decode('utf-8')\n",
    "    text_list.append(text)"
   ]
  },
  {
   "cell_type": "code",
   "execution_count": 39,
   "metadata": {},
   "outputs": [],
   "source": [
    "import re\n",
    "def PreProcess(text):\n",
    "    text = re.sub(pattern='Posted on [0-9]{4} [0-9]{2} [0-9]{2} .+ Posted in \\S+ \\s?', repl='', string=text)\n",
    "    _filter = re.compile('[ㄱ-ㅣ]+')\n",
    "    text = _filter.sub('', text)\n",
    "    _filter = re.compile('[^가-힣 0-9 a-z A-Z \\. \\, \\\" \\? \\!]+')\n",
    "    text = _filter.sub('', text)\n",
    "    _filter = re.compile('[\\n]')\n",
    "    text = _filter.sub(\"\", text)\n",
    "    return text"
   ]
  },
  {
   "cell_type": "code",
   "execution_count": 43,
   "metadata": {},
   "outputs": [
    {
     "data": {
      "text/plain": [
       "'봉별기1스물세 살이요삼월이요각혈이다. 여섯 달 잘 기른 수염을 하루 면도칼로 다듬어 코밑에 다만 나비만큼 남겨 가지고 약 한 제 지어 들고 B라는 신개지 한적한 온천으로 갔다. 게서 나는 죽어도 좋았다.그러나 이내 아직 기를 펴지 못한 청춘이 약탕관을 붙들고 늘어져서는 날 살리라고 보채는 것은 어찌하는 수가 없다. 여관 한등 아래 밤이면 나는 늘 억울해했다.사흘을 못 참고 기어이 나는 여관 주인영감을 앞장세워 밤에 장고소리 나는 집으로 찾아갔다. 게서 만난 것이 금홍1이다.  몇 살인구?체대가 비록 풋고추만하나 깡그라진 계집이 제법 맛이 맵다. 열여섯 살? 많아야 열아홉 살이지 하고 있자니까,  스물한 살이에요.  그럼 내 나인 몇 살이나 돼뵈지?  글쎄 마흔? 서른아홉?나는 그저 흥! 그래 버렸다. 그리고 팔짱을 떡 끼고 앉아서는 더욱더욱 점잖은 체했다. 그냥 그날은 무사히 헤어졌건만.이튿날 화우 K군2이 왔다. 이 사람인즉 나와 농하는 친구다. 나는 어쩌는 수 없이 그 나비 같다면서 달고 다니던 코밑수염을 아주 밀어 버렸다. 그리고 날이 저물기가 급하게 또 금홍이를 만나러 갔다.  어디서 뵌 어른 겉은데.  엊저녁에 왔던 수염 난 양반, 내가 바루 아들이지. 목소리꺼지 닮었지?하고 익살을 부렸다. 주석이 어느덧 파하고 마당에 내려서다가 K군의 귀에 대고 나는 이렇게 속삭였다.  어때? 괜찮지? 자네 한번 얼러 보게.  관두게, 자네나 얼러 보게.  어쨌든 여관으로 껄구 가서 짱껭뽕을 해서 정허기루 허세나.  거 좋지.그랬는데 K군은 측간에 가는 체하고 피해 버렸기 때문에 나는 부전승으로 금홍이를 이겼다. 그날 밤에 금홍이는 금홍이가 경산부라는 것을 감추지 않았다.  언제?  열여섯 살에 머리 얹어서 열일곱 살에 낳았지.  아들?  딸.  어딨나?  돌 만에 죽었어.지어 가지고 온 약은 집어치우고 나는 전혀 금홍이를 사랑하는 데만 골몰했다. 못난 소린 듯하나 사랑의 힘으로 각혈이 다 멈췄으니까.나는 금홍이에게 놀음채를 주지 않았다. 왜? 날마다 밤마다 금홍이가 내 방에 있거나 내가 금홍이 방에 있거나 했기 때문에  그 대신우라는 불란서 유학생의 유야랑3을 나는 금홍이에게 권하였다. 금홍이는 내 말대로 우씨와 더불어 독탕에 들어갔다. 이 독탕이라는 것은 좀 음란한 설비였다. 나는 이 음란한 설비 문간에 나란히 벗어 놓은 우씨와 금홍이 신발을 보고 언짢아하지 않았다. 나는 또 내 곁방에 와 묵고 있는 C라는 변호사에게도 금홍이를 권하였다. C는 내 열성에 감동되어 하는 수 없이 금홍이 방을 범했다.그러나 사랑하는 금홍이는 늘 내 곁에 있었다. 그리고 우, C 등등에게서 받은 십 원 지폐를 여러 장 꺼내 놓고 어리광 섞어 내게 자랑도 하는 것이었다.그러자 나는 백부님4 소상 때문에 귀경하지 않으면 안 되게 되었다. 복숭아꽃이 만발하고 정자 곁으로 석간수가 졸졸 흐르는 좋은 터전을 한군데 찾아가서 우리는 석별의 하루를 즐겼다. 정거장에서 나는 금홍이에게 십 원 지폐 한 장을 쥐어 주었다. 금홍이는 이것으로 전당잡힌 시계를 찾겠다고 그러면서 울었다.    2금홍이가 내 아내가 되었으니까 우리 내외는 참 사랑했다. 서로 지나간 일은 묻지 않기로 하였다. 과거래야 내 과거가 무엇 있을 까닭이 없고 말하자면 내가 금홍이 과거를 묻지 않기로 한 약속이나 다름없다.금홍이는 겨우 스물한 살인데 서른한 살 먹은 사람보다도 나았다. 서른한 살 먹은 사람보다도 나은 금홍이가 내 눈에는 열일곱 살 먹은 소녀로만 보이고 금홍이 눈에 마흔 살 먹은 사람으로 보인 나는 기실 스물세 살이요, 게다가 주책이 좀 없어서 똑 여남은 살 먹은 아이 같다. 우리 내외는 이렇게 세상에도 없이 현란하고 아기자기하였다.부질없는 세월이일년이 지나고 팔월, 여름으로는 늦고 가을로는 이른 그 북새통에금홍이에게는 예전 생활에 대한 향수가 왔다.나는 밤이나 낮이나 누워 잠만 자니까 금홍이에게 대하여 심심하다. 그래서 금홍이는 밖에 나가 심심치 않은 사람들을 만나 심심치 않게 놀고 돌아오는즉 금홍이의 협착한 생활이 금홍이의 향수를 향하여 발전하고 비약하기 시작하였다는 데 지나지 않는 이야기다.  그런데 이번에는 내게 자랑을 하지 않는다. 않을 뿐만 아니라 숨기는 것이다.이것은 금홍이로서 금홍이답지 않은 일일밖에 없다. 숨길 것이 있나? 숨기지 않아도 좋지. 자랑을 해도 좋지.나는 아무 말도 하지 않는다. 나는 금홍의 오락의 편의를 돕기 위하여 가끔 P군 집에 가 잤다. P군은 나를 불쌍하다고 그랬던가싶이 지금 기억된다.나는 또 이런 것을 생각하지 않았던 것도 아니다. 즉 남의 아내라는 것은 정조를 지켜야 하느니라고!금홍이는 나를 내 나태한 생활에서 깨우치게 하기 위하여 우정 간음하였다고 나는 호의로 해석하고 싶다. 그러나 세상에 흔히 있는 아내다운 예의를 지키는 체해 본 것은 금홍이로서 말하자면 천려의 일실이 아닐 수 없다.이런 실없는 정조를 간판삼자니까 자연 나는 외출이 잦았고 금홍이 사업에 편의를 돕기 위하여 내 방까지도 개방하여 주었다. 그러는 중에도 세월은 흐르는 법이다.하루 나는 제목 없이 금홍이에게 몹시 얻어맞았다. 나는 아파서 울고 나가서 사흘을 들어오지 못했다. 너무도 금홍이가 무서웠다.나흘 만에 와보니까 금홍이는 때묻은 버선을 윗목에다 벗어 놓고 나가 버린 뒤였다.이렇게도 못나게 홀아비가 된 내게 몇 사람의 친구가 금홍이에 관한 불미한 가십을 가지고 와서 나를 위로하는 것이었으나 종시 나는 그런 취미를 이해할 도리가 없었다.버스를 타고 금홍이와 남자는 멀리 과천 관악산으로 가는 것을 보았다는데 정말 그렇다면 그 사람은 내가 쫓아가서 야단이나 칠까 봐 무서워서 그런 모양이니까 퍽 겁쟁이다.    3인간이라는 것은 임시 거부하기로 한 내 생활이 기억력이라는 민첩한 작용을 하지 않았기 때문에 두 달 후에는 나는 금홍이라는 성명 삼 자까지도 말쑥하게 잊어버리고 말았다. 그런 두절된 세월 가운데 하루 길일을 복하여 금홍이가 왕복 엽서처럼 돌아왔다. 나는 그만 깜짝 놀랐다.금홍이의 모양은 뜻밖에도 초췌하여 보이는 것이 참 슬펐다. 나는 꾸짖지 않고 맥주와 붕어 과자와 장국밥을 사먹여 가면서 금홍이를 위로해 주었다. 그러나 금홍이는 좀처럼 화를 풀지 않고 울면서 나를 원망하는 것이었다. 할 수 없어서 나도 그만 울어 버렸다.  그렇지만 너무 늦었다. 그만해두 두 달 지간이나 되니 않니? 헤어지자, 응?  그럼 난 어떻게 되우, 응?  마땅헌 데 있거든 가거라, 응.  당신두 그럼 장가가나? 응?헤어지는 한에도 위로해 보낼지어다. 나는 이런 양식 아래 금홍이와 이별했더니라. 갈 때 금홍이는 선물로 내게 베개를 주고 갔다.   그런데 이 베개 말이다.이 베개는 이인용이다. 싫대도 자꾸 떠맡기고 간 이 베개를 나는 두 주일 동안 혼자 베어 보았다. 너무 길어서 안됐다. 안됐을 뿐 아니라 내 머리에서는 나지 않는 묘한 머릿기름 땟내 때문에 안면이 적이 방해된다.  나는 하루 금홍이에게 엽서를 띄웠다.  중병에 걸려 누웠으니 얼른 오라고.금홍이는 와서 보니까 참 딱했다. 이대로 두었다가는 역시 며칠이 못 가서 굶어죽을 것같이만 보였던가 보다. 두 팔을 부르걷고 그날부터 나가서 벌어다가 나를 먹여살린다는 것이다.  오케이.인간 천국그러나 날이 좀 추웠다. 그러나 나는 대단히 안일하였기 때문에 재채기도 하지 않았다.  이러기를 두 달? 아니 다섯 달이나 되나 보다. 금홍이는 홀연히 외출했다. 달포를 두고 금홍의 홈식향수을 기대하다가 진력이 나서 나는 기명집물을 두들겨 팔아 버리고 이십일 년 만에 집으로 돌아갔다.와보니 우리집은 노쇠했다. 이어 불초 이상은 이 노쇠한 가정을 아주 쑥밭을 만들어 버렸다. 그 동안 이태 가량  어언간 나도 노쇠해 버렸다. 나는 스물일곱 살이나 먹어 버렸다.천하의 여성은 다소간 매춘부의 요소를 품었느니라고 나 혼자는 굳이 신념한다. 그 대신 내가 매춘부에게 은화를 지불하면서는 한 번도 그네들을 매춘부라고 생각한 일이 없다. 이것은 내 금홍이와의 생활에서 얻은 체험만으로는 성립되지 않는 이론같이 생각되나 기실 내 진담이다.    4나는 몇 편의 소설과 몇 줄의 시를 써서 내 쇠망해 가는 심신 위에 치욕을 배가하였다. 이 이상 내가 이 땅에서의 생존을 계속하기가 자못 어려울 지경에까지 이르렀다. 나는 하여간 허울 좋게 말하자면 망명해야겠다.어디로 갈까. 나는 만나는 사람마다 동경으로 가겠다고 호언했다. 그뿐 아니라 어느 친구에게는 전기 기술에 관한 전문 공부를 하러 간다는 둥, 학교 선생님을 만나서는 고급 단식 인쇄술을 연구하겠다는 둥, 친한 친구에게는 내 오 개 국어에 능통할 작정일세 어쩌구, 심하면 법률을 배우겠소까지 허담을 탕탕 하는 것이다. 웬만한 친구는 보통들 속나 보다. 그러나 이 헛선전을 안 믿는 사람도 더러는 있다. 하여간 이것은 영영 빈빈털터리가 되어 버린 이상의 마지막 공포에 지나지 않는 것만은 사실이겠다.어느 날 나는 이렇게 여전히 공포를 놓으면서 친구들과 술을 먹고 있자니까 내 어깨를 툭 치는 사람이 있다. 긴상이라는 이다.긴상5이상도 사실은 긴상이다, 참 오래간만이슈. 건데 긴상 꼭 긴상 한번 만나 뵙자는 사람이 하나 있는데 긴상 어떡허시려우.  거 누군구. 남자야? 여자야?  여자니까 일이 재미있지 않느냐 그런 말야.  여자라?  긴상 옛날 오쿠상아내.  금홍이가 서울에 나타났다는 이야기다. 나타났으면 나타났지 나를 왜 찾누? 나는 긴상에게서 금홍이의 숙소를 알아 가지고 어쩔 것인가 망설였다. 숙소는 동생 일심이 집이다.  드디어 나는 만나 보기로 결심하고 그리고 일심이 집을 찾아가서,  언니가 왔다지?어유 아제두, 돌아가신 줄 알았구려! 그래 자그만치 인제 온단 말씀유, 어서 들오슈.  금홍이는 역시 초췌하다. 생활전선에서의 피로의 빛이 그 얼굴에 여실하였다.  네놈 하나 보구져서 서울 왔지 내 서울 뭘 허려 왔다디?  그러게 또 난 이렇게 널 찾아오지 않었니?  너 장가갔다더구나.  얘 디끼 싫다. 기 육모초 겉은 소리.  안 갔단 말이냐 그럼?  그럼.당장에 목침이 내 면상을 향하여 날아 들어왔다. 나는 예나 다름이 없이 못나게 웃어 주었다.술상을 보아 왔다. 나도 한 잔 먹고 금홍이도 한 잔 먹었다. 나는 영변가를 한마디하고 금홍이는 육자배기를 한마디했다.밤은 이미 깊었고 우리 이야기는 이게 이 생에서의 영이별이라는 결론으로 밀려갔다. 금홍이는 은수저로 소반전을 딱딱 치면서 내가 한 번도 들은 일이 없는 구슬픈 창가를 한다.속아도 꿈결 속여도 꿈결 굽이굽이 뜨내기 세상 그늘진 심정에 불질러 버려라 운운.    출전여성91936.12    주 해1 금홍  이상이 23세 때 황해도 배천 온천에서 만나 동거생활을 했던 술집 여자. 2 K군  구본웅19061953. 서양화가. 곱추의 몸으로 예술을 통해 생의 희열을 찾으      려 했으며, 입체주의의 영향을 받아 지적이고 분석적인 화풍을 지녔었다. 이상과      는 매우 깊은 친구로 이상의 초상화를 그린 것이 남아 있다.   3 유야랑  방탕을 일삼는 화류남.  4 백부님  김연필을 말함. 그의 실부는 김연창이었음.5 긴상  이상의 본명은 김해경이니 김씨다. 긴상은 일본말로 김씨를 가리키는 말.'"
      ]
     },
     "execution_count": 43,
     "metadata": {},
     "output_type": "execute_result"
    }
   ],
   "source": [
    "PreProcess(text)"
   ]
  },
  {
   "cell_type": "code",
   "execution_count": null,
   "metadata": {},
   "outputs": [],
   "source": []
  }
 ],
 "metadata": {
  "kernelspec": {
   "display_name": "Python 3",
   "language": "python",
   "name": "python3"
  },
  "language_info": {
   "codemirror_mode": {
    "name": "ipython",
    "version": 3
   },
   "file_extension": ".py",
   "mimetype": "text/x-python",
   "name": "python",
   "nbconvert_exporter": "python",
   "pygments_lexer": "ipython3",
   "version": "3.7.6"
  }
 },
 "nbformat": 4,
 "nbformat_minor": 4
}
